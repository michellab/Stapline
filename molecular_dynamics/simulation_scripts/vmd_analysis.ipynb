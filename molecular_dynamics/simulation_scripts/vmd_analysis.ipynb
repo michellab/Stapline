{
 "cells": [
  {
   "cell_type": "code",
   "execution_count": null,
   "metadata": {},
   "outputs": [],
   "source": [
    "import numpy as np\n",
    "import matplotlib.pyplot as plt\n",
    "import mdtraj as md\n",
    "\n",
    "%matplotlib inline"
   ]
  },
  {
   "cell_type": "code",
   "execution_count": null,
   "metadata": {},
   "outputs": [],
   "source": [
    "def get_sequence(work_dir,prmtop_name,nc_file):\n",
    "        \n",
    "    traj = md.load_netcdf(work_dir+nc_file, top=work_dir+prmtop_name, stride = None)\n",
    "\n",
    "    res_list = []\n",
    "    for res in traj.topology.residues:\n",
    "        res_list.append(res)\n",
    "\n",
    "    res_list_strings = []\n",
    "\n",
    "    for res in res_list:\n",
    "        res_list_strings.append(str(res))\n",
    "    \n",
    "    return res_list_strings"
   ]
  },
  {
   "cell_type": "code",
   "execution_count": null,
   "metadata": {},
   "outputs": [],
   "source": [
    "def helicity_calculator_from_dat(dat_file, max_frame):\n",
    "    from collections import defaultdict\n",
    "\n",
    "    ss_data = defaultdict(list)  # resid -> list of structure states across frames\n",
    "\n",
    "    with open(dat_file, 'r') as f:\n",
    "        for line in f:\n",
    "            if line.startswith(\"#\") or not line.strip():\n",
    "                continue  # skip comments and blanks\n",
    "\n",
    "            parts = line.strip().split()\n",
    "            if len(parts) != 5:\n",
    "                continue  \n",
    "\n",
    "            resid = int(parts[0])\n",
    "            frame = int(parts[3])\n",
    "            ss = parts[4]\n",
    "\n",
    "            if frame <= max_frame:\n",
    "                ss_data[resid].append(ss)\n",
    "\n",
    "    helicity_per_residue = []\n",
    "\n",
    "    for resid in sorted(ss_data.keys()):\n",
    "        states = ss_data[resid]\n",
    "        total = len(states)\n",
    "        if total == 0:\n",
    "            helicity_per_residue.append(0)\n",
    "            continue\n",
    "\n",
    "        helix_codes = {'H', 'G', 'I'}\n",
    "        h_count = sum(1 for s in states if s.strip().upper() in helix_codes)\n",
    "        percent_helicity = (h_count / total) * 100\n",
    "        helicity_per_residue.append(percent_helicity)\n",
    "\n",
    "    return helicity_per_residue\n"
   ]
  },
  {
   "cell_type": "code",
   "execution_count": null,
   "metadata": {},
   "outputs": [],
   "source": [
    "def auc_calculator(helicity):\n",
    "    auc = np.trapz(helicity, dx=1)\n",
    "\n",
    "    return auc"
   ]
  },
  {
   "cell_type": "code",
   "execution_count": null,
   "metadata": {},
   "outputs": [],
   "source": [
    "# create reference helicity plot for 100% helicity (excluding C-terminus)\n",
    "\n",
    "reference_helicity = [100.0,\n",
    " 100,\n",
    " 100,\n",
    " 100,\n",
    " 100,\n",
    " 100,\n",
    " 100,\n",
    " 100,\n",
    " 100,\n",
    " 100,\n",
    " 100,\n",
    " 100,\n",
    " 100,\n",
    " 100,\n",
    " 100,\n",
    " 0.0]\n",
    "\n",
    "ref_auc = np.trapz(reference_helicity, dx=1)\n",
    "ref_auc"
   ]
  },
  {
   "cell_type": "code",
   "execution_count": null,
   "metadata": {},
   "outputs": [],
   "source": [
    "work_dirs = ['./', './replicate-2/', './replicate-3/']"
   ]
  },
  {
   "cell_type": "code",
   "execution_count": null,
   "metadata": {},
   "outputs": [],
   "source": [
    "prmtop_name = 'dry.prmtop'\n",
    "nc_file = \"prod_dry.nc\""
   ]
  },
  {
   "cell_type": "code",
   "execution_count": null,
   "metadata": {},
   "outputs": [],
   "source": [
    "for work_dir in work_dirs:\n",
    "\n",
    "    dat_file = work_dir + \"helicity.tml\"  \n",
    "\n",
    "    helicity_list = helicity_calculator_from_dat(dat_file,2001)\n",
    "    auc = auc_calculator(helicity_list)\n",
    "    sequence = get_sequence(work_dir=work_dir,prmtop_name=prmtop_name,nc_file=nc_file)\n",
    "\n",
    "    fig,ax = plt.subplots()\n",
    "    ax.plot(sequence[1:-1], helicity_list) \n",
    "\n",
    "    plt.xticks(rotation=85)\n",
    "\n",
    "    ax.set_ylim([0.0, 105.0])\n",
    "    plt.gcf().set_size_inches(15,5)\n",
    "\n",
    "    plt.show()"
   ]
  },
  {
   "cell_type": "code",
   "execution_count": null,
   "metadata": {},
   "outputs": [],
   "source": [
    "replicates_helicity = []\n",
    "replicates_auc = []\n",
    "\n",
    "for work_dir in work_dirs:\n",
    "    print(work_dir)\n",
    "\n",
    "    dat_file = work_dir + \"helicity.tml\"  \n",
    "\n",
    "    increments = range(10, 2001, 10)\n",
    "    all_helicity_results = []\n",
    "\n",
    "    for inc in increments:\n",
    "        helicity = helicity_calculator_from_dat(dat_file, inc)\n",
    "        all_helicity_results.append(helicity)\n",
    "\n",
    "\n",
    "    auc_list = []\n",
    "\n",
    "    for hel in all_helicity_results:\n",
    "        auc = auc_calculator(hel)\n",
    "\n",
    "        auc_list.append(auc)\n",
    "    \n",
    "    replicates_helicity.append(all_helicity_results)\n",
    "    replicates_auc.append(auc_list)"
   ]
  },
  {
   "cell_type": "code",
   "execution_count": null,
   "metadata": {},
   "outputs": [],
   "source": [
    "replicates_percent_helicity = []\n",
    "\n",
    "for replica_auc in replicates_auc:\n",
    "    percent_helicity = []\n",
    "\n",
    "    for auc in replica_auc:\n",
    "        percent_helicity.append((auc/ref_auc)*100)\n",
    "\n",
    "    replicates_percent_helicity.append(percent_helicity)"
   ]
  },
  {
   "cell_type": "code",
   "execution_count": null,
   "metadata": {},
   "outputs": [],
   "source": [
    "# one frame is 0.01 ns\n",
    "\n",
    "time = range(1, 201, 1) \n"
   ]
  },
  {
   "cell_type": "code",
   "execution_count": null,
   "metadata": {},
   "outputs": [],
   "source": [
    "plt.figure(figsize=(10, 5))\n",
    "plt.plot(time, replicates_auc[0], marker='', linestyle='-', color='b', markersize=3, label=\"replicate 1\")\n",
    "plt.plot(time, replicates_auc[1], marker='', linestyle='-', color='r', markersize=3, label=\"replicate 2\")\n",
    "plt.plot(time, replicates_auc[2], marker='', linestyle='-', color='g', markersize=3, label=\"replicate 3\")\n",
    "\n",
    "# Labels and title\n",
    "plt.xlabel(\"time / ns\")\n",
    "plt.ylabel(\"AUC\")\n",
    "\n",
    "plt.legend()\n",
    "#ßplt.grid(True)\n",
    "plt.xlim([0.0, 200.0])\n",
    "plt.ylim([0.0, 1400.0])\n",
    "\n",
    "plt.rcParams['figure.dpi'] = 300\n",
    "fig.savefig(work_dirs[0]+'auc.png', bbox_inches='tight')\n",
    "plt.show()\n"
   ]
  },
  {
   "cell_type": "code",
   "execution_count": null,
   "metadata": {},
   "outputs": [],
   "source": [
    "\n",
    "plt.figure(figsize=(10, 5))\n",
    "plt.plot(time, replicates_percent_helicity[0], marker='', linestyle='-', color='b', markersize=3, label=\"replicate 1\")\n",
    "plt.plot(time, replicates_percent_helicity[1], marker='', linestyle='-', color='r', markersize=3, label=\"replicate 2\")\n",
    "plt.plot(time, replicates_percent_helicity[2], marker='', linestyle='-', color='g', markersize=3, label=\"replicate 3\")\n",
    "\n",
    "# Labels and title\n",
    "plt.xlabel(\"time / ns\")\n",
    "plt.ylabel(\"% Helicity\")\n",
    "\n",
    "plt.legend()\n",
    "#plt.grid(True)\n",
    "plt.xlim([0.0, 200.0])\n",
    "plt.ylim([0.0, 100.0])\n",
    "\n",
    "plt.rcParams['figure.dpi'] = 300\n",
    "fig.savefig(work_dirs[0]+'helicity.png', bbox_inches='tight')\n",
    "plt.show()\n"
   ]
  },
  {
   "cell_type": "code",
   "execution_count": null,
   "metadata": {},
   "outputs": [],
   "source": [
    "data = np.array([replicates_percent_helicity[0], replicates_percent_helicity[1], replicates_percent_helicity[2]])  \n",
    "\n",
    "average_list = np.mean(data, axis=0)\n",
    "\n",
    "std_err_list = np.std(data, axis=0)/np.sqrt(len(work_dirs))"
   ]
  },
  {
   "cell_type": "code",
   "execution_count": null,
   "metadata": {},
   "outputs": [],
   "source": [
    "plt.figure(figsize=(10, 5))\n",
    "\n",
    "plt.errorbar(time, average_list, yerr=std_err_list, fmt='', color='violet', alpha=0.5, capsize=2)\n",
    "plt.plot(time, average_list, color=\"purple\", linewidth=2)\n",
    "\n",
    "# Labels and title\n",
    "plt.xlabel(\"time / ns\", fontsize=35)\n",
    "plt.ylabel(\"% Helicity\", fontsize=35)\n",
    "\n",
    "plt.xticks(fontsize=25)\n",
    "plt.yticks(fontsize=25)\n",
    "\n",
    "# plt.legend()\n",
    "#plt.grid(True)\n",
    "plt.xlim([0.0, 200.0])\n",
    "plt.ylim([0.0, 100.0])\n",
    "\n",
    "plt.rcParams['figure.dpi'] = 300\n",
    "fig.savefig(work_dirs[0]+'avg_helicity.png', bbox_inches='tight')\n",
    "plt.show()"
   ]
  },
  {
   "cell_type": "code",
   "execution_count": null,
   "metadata": {},
   "outputs": [],
   "source": [
    "print(average_list[-1], std_err_list[-1])"
   ]
  },
  {
   "cell_type": "code",
   "execution_count": null,
   "metadata": {},
   "outputs": [],
   "source": []
  }
 ],
 "metadata": {
  "kernelspec": {
   "display_name": "base",
   "language": "python",
   "name": "python3"
  },
  "language_info": {
   "codemirror_mode": {
    "name": "ipython",
    "version": 3
   },
   "file_extension": ".py",
   "mimetype": "text/x-python",
   "name": "python",
   "nbconvert_exporter": "python",
   "pygments_lexer": "ipython3",
   "version": "3.9.12"
  }
 },
 "nbformat": 4,
 "nbformat_minor": 2
}
