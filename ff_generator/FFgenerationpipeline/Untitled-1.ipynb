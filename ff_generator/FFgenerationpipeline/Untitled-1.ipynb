{
 "cells": [
  {
   "cell_type": "code",
   "execution_count": 23,
   "metadata": {},
   "outputs": [
    {
     "name": "stdout",
     "output_type": "stream",
     "text": [
      "MDConfig(plateform_name='CUDA', implicit=True)\n"
     ]
    }
   ],
   "source": [
    "\n",
    "from dataclasses import dataclass,field\n",
    "\n",
    "import openmm as mm\n",
    "import openmm.app as app\n",
    "import openmm.unit as u\n",
    "import parmed\n",
    "from openmm.app import modeller, pdbfile\n",
    "@dataclass\n",
    "class Book:\n",
    "    '''Object for tracking physical books in a collection.'''\n",
    "    name: str  =\"Ulysse\"\n",
    "    condition: str = \"good\"\n",
    "    weight: float = field(default=0.0, repr=False)\n",
    "    shelf_id: int = 0\n",
    "\n",
    "@dataclass\n",
    "class MDConfig:\n",
    "    # specify platform\n",
    "    plateform_name :str = \"OpenCL\"\n",
    "    #implicit solavation\n",
    "    implicit : bool = False\n",
    "md_config = MDConfig(implicit=True,plateform_name =\"CUDA\")\n",
    "print(md_config )"
   ]
  },
  {
   "cell_type": "code",
   "execution_count": 17,
   "metadata": {},
   "outputs": [
    {
     "name": "stdout",
     "output_type": "stream",
     "text": [
      "MDConfig(implicit=True)\n"
     ]
    }
   ],
   "source": []
  },
  {
   "cell_type": "code",
   "execution_count": 11,
   "metadata": {},
   "outputs": [
    {
     "data": {
      "text/plain": [
       "Book(name='Ulysse', condition='good', shelf_id=0)"
      ]
     },
     "execution_count": 11,
     "metadata": {},
     "output_type": "execute_result"
    }
   ],
   "source": [
    "\n",
    "\n",
    "Book()\n"
   ]
  }
 ],
 "metadata": {
  "kernelspec": {
   "display_name": "p4env",
   "language": "python",
   "name": "python3"
  },
  "language_info": {
   "codemirror_mode": {
    "name": "ipython",
    "version": 3
   },
   "file_extension": ".py",
   "mimetype": "text/x-python",
   "name": "python",
   "nbconvert_exporter": "python",
   "pygments_lexer": "ipython3",
   "version": "3.10.10"
  },
  "orig_nbformat": 4
 },
 "nbformat": 4,
 "nbformat_minor": 2
}
