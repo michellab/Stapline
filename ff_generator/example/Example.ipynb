{
 "cells": [
  {
   "cell_type": "code",
   "execution_count": 9,
   "metadata": {},
   "outputs": [],
   "source": [
    "import sys\n",
    "sys.path.append(\"..\")\n",
    "\n",
    "import os\n",
    "from pathlib import Path\n",
    "from typing import Optional"
   ]
  },
  {
   "cell_type": "code",
   "execution_count": 10,
   "metadata": {},
   "outputs": [
    {
     "data": {
      "text/plain": [
       "'/home/eva/Stapline/ff_generator/example'"
      ]
     },
     "execution_count": 10,
     "metadata": {},
     "output_type": "execute_result"
    }
   ],
   "source": [
    "os.getcwd()"
   ]
  },
  {
   "cell_type": "code",
   "execution_count": 11,
   "metadata": {},
   "outputs": [],
   "source": [
    "from parameteriser import runner"
   ]
  },
  {
   "attachments": {},
   "cell_type": "markdown",
   "metadata": {},
   "source": [
    "Initialise object with a smile string / Use config in config.json if no config file provided, default HF/ file is used. Alternatively  options can be modified in config.py"
   ]
  },
  {
   "cell_type": "code",
   "execution_count": 12,
   "metadata": {},
   "outputs": [
    {
     "name": "stdout",
     "output_type": "stream",
     "text": [
      "Treating your residue as a stapled residue\n",
      "SP2\n",
      "SP2\n",
      "((0, 1, 26, 27, 28, 29), (2, 3, 4, 22, 54), (5, 6, 7, 8, 9, 10, 11, 12, 31, 32, 33, 34, 35, 36, 37, 38, 39, 40, 41, 42, 43, 44), (13, 14, 18, 19, 46), (15, 16, 17, 47, 48, 49), (20, 21, 50, 51, 52, 53), (23, 24, 25, 55, 56, 57), (30,), (45,))\n",
      "[2, 3, 4, 22, 54]\n",
      "[0, 1, 26, 27, 28, 29, 20, 21, 50, 51, 52, 53, 23, 24, 25, 55, 56, 57, 30]\n"
     ]
    }
   ],
   "source": [
    "parm = runner.FF_Genenerator(\"CNC(=O)[C@H](CCC\\C=C/CCC[C@@H](NC(C)=O)C(=O)NC)NC(C)=O\" ,\"config.json\" )\n",
    "\n",
    "\n",
    "#parm = runner.FF_Genenerator(\"CNC(=O)[C@H]CCCC=CC\" ,\"config.json\" )\n"
   ]
  },
  {
   "attachments": {},
   "cell_type": "markdown",
   "metadata": {},
   "source": [
    "simple rdkit command to display the molecule  note that the bakbone atoms are highlighted"
   ]
  },
  {
   "cell_type": "code",
   "execution_count": 13,
   "metadata": {},
   "outputs": [
    {
     "data": {
      "image/png": "[encoded data removed]",
      "text/plain": [
       "<rdkit.Chem.rdchem.Mol at 0x7fa465f063c0>"
      ]
     },
     "execution_count": 13,
     "metadata": {},
     "output_type": "execute_result"
    }
   ],
   "source": [
    "parm.mol"
   ]
  },
  {
   "attachments": {},
   "cell_type": "markdown",
   "metadata": {},
   "source": [
    "prepare qm inputs for RESP"
   ]
  },
  {
   "attachments": {},
   "cell_type": "markdown",
   "metadata": {},
   "source": [
    "\n",
    "if you want to run locally then parm.run_qm_resp(), here the qm has been ran externally\n",
    "once ran go to the cell"
   ]
  },
  {
   "cell_type": "code",
   "execution_count": 14,
   "metadata": {},
   "outputs": [],
   "source": [
    "parm.get_resp_job_eva()"
   ]
  },
  {
   "cell_type": "code",
   "execution_count": 15,
   "metadata": {},
   "outputs": [
    {
     "data": {
      "text/plain": [
       "Job(molecules=[Molecule(name=C18H32N4O4, charge=0) with 2 conformers], qm_optimization_options=QMGeometryOptimizationOptions(method='hf', basis='6-31g*', pcm_options=None, driver='gradient', query_interval=20, protocols={'wavefunction': 'orbitals_and_eigenvalues'}, keywords={}, g_convergence='gau_tight', max_iter=200, full_hess_every=10, jobname='optimization'), qm_esp_options=QMEnergyOptions(method='hf', basis='6-31g*', pcm_options=None, driver='energy', query_interval=20, protocols={'wavefunction': 'orbitals_and_eigenvalues'}, keywords={}, jobname='single_point'), grid_options=GridOptions(grid_rmin=0, grid_rmax=-1, use_radii='msk', vdw_radii={}, vdw_scale_factors=[1.4, 1.6, 1.8, 2.0], vdw_point_density=1.0), resp_options=RespOptions(restraint_slope=0.1, restrained_fit=True, exclude_hydrogens=True, convergence_tolerance=1e-06, max_iter=500, restraint_height_stage_1=0.0005, restraint_height_stage_2=0.001, stage_2=True), charge_constraints=ChargeConstraintOptions(charge_sum_constraints=[ChargeSumConstraint(atoms={Atom(index=50, molecule=Molecule(name=C18H32N4O4, charge=0) with 2 conformers), Atom(index=53, molecule=Molecule(name=C18H32N4O4, charge=0) with 2 conformers), Atom(index=56, molecule=Molecule(name=C18H32N4O4, charge=0) with 2 conformers), Atom(index=1, molecule=Molecule(name=C18H32N4O4, charge=0) with 2 conformers), Atom(index=28, molecule=Molecule(name=C18H32N4O4, charge=0) with 2 conformers), Atom(index=25, molecule=Molecule(name=C18H32N4O4, charge=0) with 2 conformers), Atom(index=52, molecule=Molecule(name=C18H32N4O4, charge=0) with 2 conformers), Atom(index=55, molecule=Molecule(name=C18H32N4O4, charge=0) with 2 conformers), Atom(index=0, molecule=Molecule(name=C18H32N4O4, charge=0) with 2 conformers), Atom(index=21, molecule=Molecule(name=C18H32N4O4, charge=0) with 2 conformers), Atom(index=24, molecule=Molecule(name=C18H32N4O4, charge=0) with 2 conformers), Atom(index=27, molecule=Molecule(name=C18H32N4O4, charge=0) with 2 conformers), Atom(index=30, molecule=Molecule(name=C18H32N4O4, charge=0) with 2 conformers), Atom(index=51, molecule=Molecule(name=C18H32N4O4, charge=0) with 2 conformers), Atom(index=57, molecule=Molecule(name=C18H32N4O4, charge=0) with 2 conformers), Atom(index=23, molecule=Molecule(name=C18H32N4O4, charge=0) with 2 conformers), Atom(index=20, molecule=Molecule(name=C18H32N4O4, charge=0) with 2 conformers), Atom(index=26, molecule=Molecule(name=C18H32N4O4, charge=0) with 2 conformers), Atom(index=29, molecule=Molecule(name=C18H32N4O4, charge=0) with 2 conformers)}, charge=0.0)], charge_equivalence_constraints=[], split_conformers=False, constrain_methyl_hydrogens_between_conformers=False, symmetric_methyls=True, symmetric_methylenes=True, symmetric_atoms_are_equivalent=True), working_directory=PosixPath('resp_qm_calculations'), defer_errors=False, temperature=298.15, stage_1_charges=None, stage_2_charges=None, n_processes=None)"
      ]
     },
     "execution_count": 15,
     "metadata": {},
     "output_type": "execute_result"
    }
   ],
   "source": [
    "parm.psiresp_job"
   ]
  },
  {
   "cell_type": "code",
   "execution_count": 16,
   "metadata": {},
   "outputs": [
    {
     "name": "stderr",
     "output_type": "stream",
     "text": [
      "generate-conformers: 100%|██████████| 1/1 [00:00<00:00, 5242.88it/s]\n",
      "generating-orientations: 100%|██████████| 1/1 [00:00<00:00, 21.12it/s]\n",
      "generate-conformers: 100%|██████████| 1/1 [00:00<00:00, 23301.69it/s]\n"
     ]
    },
    {
     "ename": "SystemExit",
     "evalue": "Exiting to allow running QM computations; commands are in resp_qm_calculations/optimization/run_optimization.sh",
     "output_type": "error",
     "traceback": [
      "An exception has occurred, use %tb to see the full traceback.\n",
      "\u001b[0;31mSystemExit\u001b[0m\u001b[0;31m:\u001b[0m Exiting to allow running QM computations; commands are in resp_qm_calculations/optimization/run_optimization.sh\n"
     ]
    }
   ],
   "source": [
    "parm.run_resp_job_eva(parm.psiresp_job)"
   ]
  },
  {
   "cell_type": "code",
   "execution_count": 9,
   "metadata": {},
   "outputs": [],
   "source": [
    "parm.run_resp_optimisation_eva(parm.psiresp_job)"
   ]
  },
  {
   "cell_type": "code",
   "execution_count": null,
   "metadata": {},
   "outputs": [],
   "source": [
    "parm.run_qm_get_charges_eva(parm.psiresp_job)"
   ]
  },
  {
   "cell_type": "code",
   "execution_count": null,
   "metadata": {},
   "outputs": [],
   "source": [
    "parm.charges"
   ]
  },
  {
   "cell_type": "code",
   "execution_count": null,
   "metadata": {},
   "outputs": [],
   "source": []
  },
  {
   "attachments": {},
   "cell_type": "markdown",
   "metadata": {},
   "source": [
    "And that is step 1 over ! check your folder you should have a .lib file\n",
    "\n",
    "Let move on to the dihedral parameterisation "
   ]
  },
  {
   "cell_type": "code",
   "execution_count": null,
   "metadata": {},
   "outputs": [],
   "source": [
    "#Not yet working but that's the plan\n",
    "parm.prepare_qm_dih()\n",
    "parm.run_dih_fit()"
   ]
  },
  {
   "attachments": {},
   "cell_type": "markdown",
   "metadata": {},
   "source": [
    "you can use  parm.run_qm_dih() to run locally or go to the folder and run the qm elsewhare"
   ]
  },
  {
   "attachments": {},
   "cell_type": "markdown",
   "metadata": {},
   "source": [
    "you now should have a .frcmod file in your folder \n",
    "enjoy your MDs !"
   ]
  }
 ],
 "metadata": {
  "kernelspec": {
   "display_name": "Python 3 (ipykernel)",
   "language": "python",
   "name": "python3"
  },
  "language_info": {
   "codemirror_mode": {
    "name": "ipython",
    "version": 3
   },
   "file_extension": ".py",
   "mimetype": "text/x-python",
   "name": "python",
   "nbconvert_exporter": "python",
   "pygments_lexer": "ipython3",
   "version": "3.8.17"
  }
 },
 "nbformat": 4,
 "nbformat_minor": 2
}
