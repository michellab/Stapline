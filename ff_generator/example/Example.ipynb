{
 "cells": [
  {
   "cell_type": "code",
   "execution_count": 1,
   "metadata": {},
   "outputs": [],
   "source": [
    "import sys\n",
    "sys.path.append(\"..\")"
   ]
  },
  {
   "cell_type": "code",
   "execution_count": 2,
   "metadata": {},
   "outputs": [
    {
     "name": "stdout",
     "output_type": "stream",
     "text": [
      "Hello\n"
     ]
    },
    {
     "name": "stderr",
     "output_type": "stream",
     "text": [
      "/Users/Marie/miniconda3/envs/p4env/lib//python3.10/site-packages/psiresp/charge.py:282: FutureWarning: `symmetric_atoms_are_equivalent` will be set to False by default for now, as it is a new feature. It will be set to True by default in the future\n",
      "  warnings.warn(\n"
     ]
    }
   ],
   "source": [
    "from parameteriser import runner\n"
   ]
  },
  {
   "attachments": {},
   "cell_type": "markdown",
   "metadata": {},
   "source": [
    "Initialise object with a smile string / Use config in config.json if no config file provided, default HF/ file is used. Alternatively  options can be modified in config.py"
   ]
  },
  {
   "cell_type": "code",
   "execution_count": 4,
   "metadata": {},
   "outputs": [
    {
     "name": "stdout",
     "output_type": "stream",
     "text": [
      "Treating your molecule as a unstapled residue\n",
      "SP2\n",
      "[4, 5, 19, 20, 21, 22, 7, 8, 9, 10, 24, 25, 26, 27]\n"
     ]
    }
   ],
   "source": [
    "#parm = runner.FF_Genenerator(\"CNC(=O)[C@H](CCCC=CCCC[C@@H](NC(C)=O)C(=O)NC)NC(C)=O\" ,\"config.json\" )\n",
    "\n",
    "\n",
    "parm = runner.FF_Genenerator(\"C(C(C(=O)NC)NC(=O)NC)CCC=CC\" ,\"config.json\" )\n"
   ]
  },
  {
   "attachments": {},
   "cell_type": "markdown",
   "metadata": {},
   "source": [
    "simple rdkit command to display the molecule  note that the bakbone atoms are highlighted"
   ]
  },
  {
   "cell_type": "code",
   "execution_count": 5,
   "metadata": {},
   "outputs": [
    {
     "data": {
      "image/png": "[encoded data removed]",
      "text/plain": [
       "<rdkit.Chem.rdchem.Mol at 0x1300bd460>"
      ]
     },
     "execution_count": 5,
     "metadata": {},
     "output_type": "execute_result"
    }
   ],
   "source": [
    "parm.mol"
   ]
  },
  {
   "attachments": {},
   "cell_type": "markdown",
   "metadata": {},
   "source": [
    "prepare qm inputs for RESP"
   ]
  },
  {
   "attachments": {},
   "cell_type": "markdown",
   "metadata": {},
   "source": [
    "\n",
    "if you want to run locally then parm.run_qm_resp(), here the qm has been ran externally\n",
    "once ran go to the cell"
   ]
  },
  {
   "cell_type": "code",
   "execution_count": 8,
   "metadata": {},
   "outputs": [
    {
     "name": "stdout",
     "output_type": "stream",
     "text": [
      "heheo\n",
      "[4, 5, 19, 20, 21, 22, 7, 8, 9, 10, 24, 25, 26, 27]\n"
     ]
    },
    {
     "name": "stderr",
     "output_type": "stream",
     "text": [
      "generate-conformers: 100%|██████████| 1/1 [00:00<00:00, 3938.31it/s]\n",
      "generating-orientations: 100%|██████████| 1/1 [00:00<00:00, 13.77it/s]\n",
      "compute-esp: 100%|██████████| 1/1 [00:00<00:00,  3.75it/s]\n",
      "/Users/Marie/miniconda3/envs/p4env/lib//python3.10/site-packages/psiresp/charge.py:282: FutureWarning: `symmetric_atoms_are_equivalent` will be set to False by default for now, as it is a new feature. It will be set to True by default in the future\n",
      "  warnings.warn(\n"
     ]
    },
    {
     "name": "stdout",
     "output_type": "stream",
     "text": [
      "Hello\n",
      "running the QM now True\n",
      "Hello\n"
     ]
    },
    {
     "name": "stderr",
     "output_type": "stream",
     "text": [
      "Traceback (most recent call last):\n",
      "  File \"/Users/Marie/miniconda3/envs/p4env/bin/psi4\", line 222, in <module>\n",
      "    raise KeyError(\"The file %s does not exist.\" % args[\"input\"])\n",
      "KeyError: 'The file C11H21N3O2_71533fb04785a469448ab0ff22954fabb247e50b_580e7942a085ad934dbfbb02baa07d2680bf2905.msgpack does not exist.'\n"
     ]
    },
    {
     "name": "stdout",
     "output_type": "stream",
     "text": [
      "[4, 5, 19, 20, 21, 22, 7, 8, 9, 10, 24, 25, 26, 27]\n"
     ]
    },
    {
     "name": "stderr",
     "output_type": "stream",
     "text": [
      "generate-conformers: 100%|██████████| 1/1 [00:00<00:00, 13888.42it/s]\n",
      "generating-orientations: 100%|██████████| 1/1 [00:00<00:00,  9.83it/s]\n",
      "compute-esp: 100%|██████████| 1/1 [00:00<00:00,  5.38it/s]\n",
      "/Users/Marie/miniconda3/envs/p4env/lib//python3.10/site-packages/psiresp/charge.py:282: FutureWarning: `symmetric_atoms_are_equivalent` will be set to False by default for now, as it is a new feature. It will be set to True by default in the future\n",
      "  warnings.warn(\n"
     ]
    },
    {
     "name": "stdout",
     "output_type": "stream",
     "text": [
      "Hello\n"
     ]
    },
    {
     "data": {
      "text/plain": [
       "array([-2.1688233769645078e-02, -4.1547121986345015e-01,\n",
       "        4.5928572564205972e-01, -2.9712424675685783e-01,\n",
       "       -4.1642187892378218e-01, -3.9583384870585325e-02,\n",
       "        1.5048579224833301e-02,  3.2930632767343238e-01,\n",
       "       -3.5790154510422129e-01, -3.3005566700542788e-01,\n",
       "       -1.7617838806992886e-01,  5.3283766197089764e-02,\n",
       "       -2.2179667544703616e-02, -1.4439905420519467e-01,\n",
       "       -6.1740906435146278e-02, -3.7144130102363687e-01,\n",
       "        3.0516630410374685e-04,  3.0516630410374685e-04,\n",
       "        1.0683861149638035e-01,  3.5176274072246028e-01,\n",
       "        4.4503438516360169e-02,  4.4503438516360169e-02,\n",
       "        4.4503438516360169e-02,  7.8032979156523366e-02,\n",
       "        2.3757138514945236e-01,  8.9330031626506642e-02,\n",
       "        8.9330031626506642e-02,  8.9330031626506642e-02,\n",
       "        1.5403425961137675e-02,  1.5403425961137675e-02,\n",
       "        3.7562431866758415e-02,  3.7562431866758415e-02,\n",
       "        8.7916929542969868e-02,  8.7242894898773446e-02,\n",
       "        1.1328436505866836e-01,  1.1328436505866836e-01,\n",
       "        1.1328436505866836e-01])"
      ]
     },
     "execution_count": 8,
     "metadata": {},
     "output_type": "execute_result"
    }
   ],
   "source": [
    "\n",
    "parm.run_resp(   run_qm=True)"
   ]
  },
  {
   "attachments": {},
   "cell_type": "markdown",
   "metadata": {},
   "source": [
    "And that is step 1 over ! check your folder you should have a .lib file\n",
    "\n",
    "Let move on to the dihedral parameterisation "
   ]
  },
  {
   "cell_type": "code",
   "execution_count": 11,
   "metadata": {},
   "outputs": [
    {
     "ename": "AttributeError",
     "evalue": "'FF_Genenerator' object has no attribute 'prepare_qm_dih'",
     "output_type": "error",
     "traceback": [
      "\u001b[0;31m---------------------------------------------------------------------------\u001b[0m",
      "\u001b[0;31mAttributeError\u001b[0m                            Traceback (most recent call last)",
      "Cell \u001b[0;32mIn[11], line 1\u001b[0m\n\u001b[0;32m----> 1\u001b[0m parm\u001b[39m.\u001b[39;49mprepare_qm_dih()\n",
      "\u001b[0;31mAttributeError\u001b[0m: 'FF_Genenerator' object has no attribute 'prepare_qm_dih'"
     ]
    }
   ],
   "source": [
    "#Not yet working but that's the plan\n",
    "parm.prepare_qm_dih()\n",
    "parm.run_dih_fit()"
   ]
  },
  {
   "attachments": {},
   "cell_type": "markdown",
   "metadata": {},
   "source": [
    "you can use  parm.run_qm_dih() to run locally or go to the folder and run the qm elsewhare"
   ]
  },
  {
   "attachments": {},
   "cell_type": "markdown",
   "metadata": {},
   "source": [
    "you now should have a .frcmod file in your folder \n",
    "enjoy your MDs !"
   ]
  }
 ],
 "metadata": {
  "kernelspec": {
   "display_name": "Python 3 (ipykernel)",
   "language": "python",
   "name": "python3"
  },
  "language_info": {
   "codemirror_mode": {
    "name": "ipython",
    "version": 3
   },
   "file_extension": ".py",
   "mimetype": "text/x-python",
   "name": "python",
   "nbconvert_exporter": "python",
   "pygments_lexer": "ipython3",
   "version": "3.10.10"
  }
 },
 "nbformat": 4,
 "nbformat_minor": 2
}
