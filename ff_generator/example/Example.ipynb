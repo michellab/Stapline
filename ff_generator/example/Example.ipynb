{
 "cells": [
  {
   "cell_type": "code",
   "execution_count": 6,
   "metadata": {},
   "outputs": [],
   "source": [
    "import sys\n",
    "sys.path.append(\"..\")"
   ]
  },
  {
   "cell_type": "code",
   "execution_count": 7,
   "metadata": {},
   "outputs": [],
   "source": [
    "from parameteriser import runner\n"
   ]
  },
  {
   "attachments": {},
   "cell_type": "markdown",
   "metadata": {},
   "source": [
    "Initialise object with a smile string / Use config in config.json if no config file provided, default HF/ file is used. Alternatively  options can be modified in config.py"
   ]
  },
  {
   "cell_type": "code",
   "execution_count": 8,
   "metadata": {},
   "outputs": [
    {
     "name": "stdout",
     "output_type": "stream",
     "text": [
      "Treating your residue as a stapled residue\n",
      "SP2\n",
      "SP2\n",
      "((0, 1, 26, 27, 28, 29), (2, 3, 4, 22, 54), (5, 6, 7, 8, 9, 10, 11, 12, 31, 32, 33, 34, 35, 36, 37, 38, 39, 40, 41, 42, 43, 44), (13, 14, 18, 19, 46), (15, 16, 17, 47, 48, 49), (20, 21, 50, 51, 52, 53), (23, 24, 25, 55, 56, 57), (30,), (45,))\n",
      "[2, 3, 4, 22, 54]\n",
      "[0, 1, 26, 27, 28, 29, 20, 21, 50, 51, 52, 53, 23, 24, 25, 55, 56, 57, 30]\n"
     ]
    }
   ],
   "source": [
    "parm = runner.FF_Genenerator(\"CNC(=O)[C@H](CCCC=CCCC[C@@H](NC(C)=O)C(=O)NC)NC(C)=O\" ,\"config.json\" )\n",
    "\n",
    "\n",
    "#parm = runner.FF_Genenerator(\"CNC(=O)[C@H]CCCC=CC\" ,\"config.json\" )\n"
   ]
  },
  {
   "attachments": {},
   "cell_type": "markdown",
   "metadata": {},
   "source": [
    "simple rdkit command to display the molecule  note that the bakbone atoms are highlighted"
   ]
  },
  {
   "cell_type": "code",
   "execution_count": 9,
   "metadata": {},
   "outputs": [
    {
     "data": {
      "image/png": "[encoded data removed]",
      "text/plain": [
       "<rdkit.Chem.rdchem.Mol at 0x12637a110>"
      ]
     },
     "execution_count": 9,
     "metadata": {},
     "output_type": "execute_result"
    }
   ],
   "source": [
    "parm.mol"
   ]
  },
  {
   "attachments": {},
   "cell_type": "markdown",
   "metadata": {},
   "source": [
    "prepare qm inputs for RESP"
   ]
  },
  {
   "attachments": {},
   "cell_type": "markdown",
   "metadata": {},
   "source": [
    "\n",
    "if you want to run locally then parm.run_qm_resp(), here the qm has been ran externally\n",
    "once ran go to the cell"
   ]
  },
  {
   "cell_type": "code",
   "execution_count": 10,
   "metadata": {},
   "outputs": [
    {
     "name": "stdout",
     "output_type": "stream",
     "text": [
      "[0, 1, 26, 27, 28, 29, 20, 21, 50, 51, 52, 53, 23, 24, 25, 55, 56, 57, 30]\n"
     ]
    },
    {
     "name": "stderr",
     "output_type": "stream",
     "text": [
      "generate-conformers: 100%|██████████| 1/1 [00:00<00:00, 4253.86it/s]\n",
      "generating-orientations: 100%|██████████| 1/1 [00:00<00:00, 11.81it/s]\n"
     ]
    },
    {
     "ename": "SystemExit",
     "evalue": "Exiting to allow running QM computations; commands are in resp_qm_calculations/single_point/run_single_point.sh",
     "output_type": "error",
     "traceback": [
      "An exception has occurred, use %tb to see the full traceback.\n",
      "\u001b[0;31mSystemExit\u001b[0m\u001b[0;31m:\u001b[0m Exiting to allow running QM computations; commands are in resp_qm_calculations/single_point/run_single_point.sh\n"
     ]
    }
   ],
   "source": [
    "\n",
    "parm.run_resp(   run_qm=True)"
   ]
  },
  {
   "attachments": {},
   "cell_type": "markdown",
   "metadata": {},
   "source": [
    "And that is step 1 over ! check your folder you should have a .lib file\n",
    "\n",
    "Let move on to the dihedral parameterisation "
   ]
  },
  {
   "cell_type": "code",
   "execution_count": 11,
   "metadata": {},
   "outputs": [
    {
     "ename": "AttributeError",
     "evalue": "'FF_Genenerator' object has no attribute 'prepare_qm_dih'",
     "output_type": "error",
     "traceback": [
      "\u001b[0;31m---------------------------------------------------------------------------\u001b[0m",
      "\u001b[0;31mAttributeError\u001b[0m                            Traceback (most recent call last)",
      "Cell \u001b[0;32mIn[11], line 1\u001b[0m\n\u001b[0;32m----> 1\u001b[0m parm\u001b[39m.\u001b[39;49mprepare_qm_dih()\n",
      "\u001b[0;31mAttributeError\u001b[0m: 'FF_Genenerator' object has no attribute 'prepare_qm_dih'"
     ]
    }
   ],
   "source": [
    "#Not yet working but that's the plan\n",
    "parm.prepare_qm_dih()\n",
    "parm.run_dih_fit()"
   ]
  },
  {
   "attachments": {},
   "cell_type": "markdown",
   "metadata": {},
   "source": [
    "you can use  parm.run_qm_dih() to run locally or go to the folder and run the qm elsewhare"
   ]
  },
  {
   "attachments": {},
   "cell_type": "markdown",
   "metadata": {},
   "source": [
    "you now should have a .frcmod file in your folder \n",
    "enjoy your MDs !"
   ]
  }
 ],
 "metadata": {
  "kernelspec": {
   "display_name": "Python 3 (ipykernel)",
   "language": "python",
   "name": "python3"
  },
  "language_info": {
   "codemirror_mode": {
    "name": "ipython",
    "version": 3
   },
   "file_extension": ".py",
   "mimetype": "text/x-python",
   "name": "python",
   "nbconvert_exporter": "python",
   "pygments_lexer": "ipython3",
   "version": "3.10.10"
  }
 },
 "nbformat": 4,
 "nbformat_minor": 2
}
