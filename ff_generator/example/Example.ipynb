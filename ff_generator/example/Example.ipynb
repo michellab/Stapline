{
 "cells": [
  {
   "cell_type": "code",
   "execution_count": 1,
   "metadata": {},
   "outputs": [],
   "source": [
    "import sys\n",
    "sys.path.append(\"..\")\n",
    "\n",
    "import os\n",
    "from pathlib import Path\n",
    "from typing import Optional"
   ]
  },
  {
   "cell_type": "code",
   "execution_count": 2,
   "metadata": {},
   "outputs": [
    {
     "data": {
      "text/plain": [
       "'/home/eva/Stapline/ff_generator/example'"
      ]
     },
     "execution_count": 2,
     "metadata": {},
     "output_type": "execute_result"
    }
   ],
   "source": [
    "os.getcwd()"
   ]
  },
  {
   "cell_type": "code",
   "execution_count": 3,
   "metadata": {},
   "outputs": [
    {
     "name": "stderr",
     "output_type": "stream",
     "text": [
      "/home/eva/anaconda3/envs/qm_resp_3.8/lib/python3.8/site-packages/psiresp/charge.py:282: FutureWarning: `symmetric_atoms_are_equivalent` will be set to False by default for now, as it is a new feature. It will be set to True by default in the future\n",
      "  warnings.warn(\n"
     ]
    }
   ],
   "source": [
    "from parameteriser import runner"
   ]
  },
  {
   "attachments": {},
   "cell_type": "markdown",
   "metadata": {},
   "source": [
    "Initialise object with a smile string / Use config in config.json if no config file provided, default HF/ file is used. Alternatively  options can be modified in config.py"
   ]
  },
  {
   "cell_type": "code",
   "execution_count": 4,
   "metadata": {},
   "outputs": [
    {
     "name": "stdout",
     "output_type": "stream",
     "text": [
      "Treating your residue as a stapled residue\n",
      "SP2\n",
      "SP2\n",
      "((0, 1, 26, 27, 28, 29), (2, 3, 4, 22, 54), (5, 6, 7, 8, 9, 10, 11, 12, 31, 32, 33, 34, 35, 36, 37, 38, 39, 40, 41, 42, 43, 44), (13, 14, 18, 19, 46), (15, 16, 17, 47, 48, 49), (20, 21, 50, 51, 52, 53), (23, 24, 25, 55, 56, 57), (30,), (45,))\n",
      "[2, 3, 4, 22, 54]\n",
      "[0, 1, 26, 27, 28, 29, 20, 21, 50, 51, 52, 53, 23, 24, 25, 55, 56, 57, 30]\n"
     ]
    }
   ],
   "source": [
    "parm = runner.FF_Genenerator(\"CNC(=O)[C@H](CCCC=CCCC[C@@H](NC(C)=O)C(=O)NC)NC(C)=O\" ,\"config.json\" )\n",
    "\n",
    "\n",
    "#parm = runner.FF_Genenerator(\"CNC(=O)[C@H]CCCC=CC\" ,\"config.json\" )\n"
   ]
  },
  {
   "attachments": {},
   "cell_type": "markdown",
   "metadata": {},
   "source": [
    "simple rdkit command to display the molecule  note that the bakbone atoms are highlighted"
   ]
  },
  {
   "cell_type": "code",
   "execution_count": 5,
   "metadata": {},
   "outputs": [
    {
     "data": {
      "image/png": "[encoded data removed]",
      "text/plain": [
       "<rdkit.Chem.rdchem.Mol at 0x7ff94e79a580>"
      ]
     },
     "execution_count": 5,
     "metadata": {},
     "output_type": "execute_result"
    }
   ],
   "source": [
    "parm.mol"
   ]
  },
  {
   "attachments": {},
   "cell_type": "markdown",
   "metadata": {},
   "source": [
    "prepare qm inputs for RESP"
   ]
  },
  {
   "attachments": {},
   "cell_type": "markdown",
   "metadata": {},
   "source": [
    "\n",
    "if you want to run locally then parm.run_qm_resp(), here the qm has been ran externally\n",
    "once ran go to the cell"
   ]
  },
  {
   "cell_type": "code",
   "execution_count": 6,
   "metadata": {},
   "outputs": [
    {
     "name": "stderr",
     "output_type": "stream",
     "text": [
      "/home/eva/anaconda3/envs/qm_resp_3.8/lib/python3.8/site-packages/psiresp/charge.py:282: FutureWarning: `symmetric_atoms_are_equivalent` will be set to False by default for now, as it is a new feature. It will be set to True by default in the future\n",
      "  warnings.warn(\n"
     ]
    }
   ],
   "source": [
    "parm.get_resp_job_eva()"
   ]
  },
  {
   "cell_type": "code",
   "execution_count": 7,
   "metadata": {},
   "outputs": [
    {
     "data": {
      "text/plain": [
       "Job(molecules=[Molecule(name=C18H32N4O4, charge=0) with 1 conformers], qm_optimization_options=QMGeometryOptimizationOptions(method='b3lyp', basis='sto-3g', pcm_options=None, driver='gradient', query_interval=20, protocols={'wavefunction': 'orbitals_and_eigenvalues'}, keywords={}, g_convergence='gau_tight', max_iter=200, full_hess_every=10, jobname='optimization'), qm_esp_options=QMEnergyOptions(method='b3lyp', basis='sto-3g', pcm_options=None, driver='energy', query_interval=20, protocols={'wavefunction': 'orbitals_and_eigenvalues'}, keywords={}, jobname='single_point'), grid_options=GridOptions(grid_rmin=0, grid_rmax=-1, use_radii='msk', vdw_radii={}, vdw_scale_factors=[1.4, 1.6, 1.8, 2.0], vdw_point_density=1.0), resp_options=RespOptions(restraint_slope=0.1, restrained_fit=True, exclude_hydrogens=True, convergence_tolerance=1e-06, max_iter=500, restraint_height_stage_1=0.0005, restraint_height_stage_2=0.001, stage_2=True), charge_constraints=ChargeConstraintOptions(charge_sum_constraints=[ChargeSumConstraint(atoms={Atom(index=52, molecule=Molecule(name=C18H32N4O4, charge=0) with 1 conformers), Atom(index=55, molecule=Molecule(name=C18H32N4O4, charge=0) with 1 conformers), Atom(index=0, molecule=Molecule(name=C18H32N4O4, charge=0) with 1 conformers), Atom(index=21, molecule=Molecule(name=C18H32N4O4, charge=0) with 1 conformers), Atom(index=27, molecule=Molecule(name=C18H32N4O4, charge=0) with 1 conformers), Atom(index=24, molecule=Molecule(name=C18H32N4O4, charge=0) with 1 conformers), Atom(index=30, molecule=Molecule(name=C18H32N4O4, charge=0) with 1 conformers), Atom(index=51, molecule=Molecule(name=C18H32N4O4, charge=0) with 1 conformers), Atom(index=57, molecule=Molecule(name=C18H32N4O4, charge=0) with 1 conformers), Atom(index=20, molecule=Molecule(name=C18H32N4O4, charge=0) with 1 conformers), Atom(index=23, molecule=Molecule(name=C18H32N4O4, charge=0) with 1 conformers), Atom(index=26, molecule=Molecule(name=C18H32N4O4, charge=0) with 1 conformers), Atom(index=29, molecule=Molecule(name=C18H32N4O4, charge=0) with 1 conformers), Atom(index=53, molecule=Molecule(name=C18H32N4O4, charge=0) with 1 conformers), Atom(index=50, molecule=Molecule(name=C18H32N4O4, charge=0) with 1 conformers), Atom(index=56, molecule=Molecule(name=C18H32N4O4, charge=0) with 1 conformers), Atom(index=1, molecule=Molecule(name=C18H32N4O4, charge=0) with 1 conformers), Atom(index=25, molecule=Molecule(name=C18H32N4O4, charge=0) with 1 conformers), Atom(index=28, molecule=Molecule(name=C18H32N4O4, charge=0) with 1 conformers)}, charge=0.0)], charge_equivalence_constraints=[], split_conformers=False, constrain_methyl_hydrogens_between_conformers=False, symmetric_methyls=True, symmetric_methylenes=True, symmetric_atoms_are_equivalent=True), working_directory=PosixPath('resp_qm_calculations'), defer_errors=False, temperature=298.15, stage_1_charges=None, stage_2_charges=None, n_processes=None)"
      ]
     },
     "execution_count": 7,
     "metadata": {},
     "output_type": "execute_result"
    }
   ],
   "source": [
    "parm.psiresp_job"
   ]
  },
  {
   "cell_type": "code",
   "execution_count": 8,
   "metadata": {},
   "outputs": [
    {
     "name": "stderr",
     "output_type": "stream",
     "text": [
      "generate-conformers: 100%|██████████| 1/1 [00:00<00:00, 7598.38it/s]\n",
      "generating-orientations: 100%|██████████| 1/1 [00:00<00:00, 30.33it/s]\n"
     ]
    },
    {
     "ename": "SystemExit",
     "evalue": "Exiting to allow running QM computations; commands are in resp_qm_calculations/single_point/run_single_point.sh",
     "output_type": "error",
     "traceback": [
      "An exception has occurred, use %tb to see the full traceback.\n",
      "\u001b[0;31mSystemExit\u001b[0m\u001b[0;31m:\u001b[0m Exiting to allow running QM computations; commands are in resp_qm_calculations/single_point/run_single_point.sh\n"
     ]
    },
    {
     "name": "stderr",
     "output_type": "stream",
     "text": [
      "/home/eva/anaconda3/envs/qm_resp_3.8/lib/python3.8/site-packages/IPython/core/interactiveshell.py:3513: UserWarning: To exit: use 'exit', 'quit', or Ctrl-D.\n",
      "  warn(\"To exit: use 'exit', 'quit', or Ctrl-D.\", stacklevel=1)\n"
     ]
    }
   ],
   "source": [
    "parm.run_resp_job_eva(parm.psiresp_job)"
   ]
  },
  {
   "cell_type": "code",
   "execution_count": 9,
   "metadata": {},
   "outputs": [
    {
     "name": "stderr",
     "output_type": "stream",
     "text": [
      "generate-conformers: 100%|██████████| 1/1 [00:00<00:00, 8542.37it/s]\n",
      "generating-orientations: 100%|██████████| 1/1 [00:00<00:00, 31.13it/s]\n",
      "compute-esp: 100%|██████████| 1/1 [00:00<00:00,  3.90it/s]\n"
     ]
    }
   ],
   "source": [
    "parm.run_qm_get_charges_eva(parm.psiresp_job)"
   ]
  },
  {
   "cell_type": "code",
   "execution_count": 10,
   "metadata": {},
   "outputs": [
    {
     "data": {
      "text/plain": [
       "array([-0.4328969124448564, -0.2562064910047097,  0.3990458072269124,\n",
       "       -0.334060268652787 , -0.0181622942955062, -0.1436591260103416,\n",
       "       -0.0320469540961783, -0.0112390858912743, -0.213359268303087 ,\n",
       "       -0.1087577711875595, -0.0070542906592549,  0.0199950744070444,\n",
       "        0.012882458419748 , -0.1722604729520893, -0.1906002757798695,\n",
       "        0.3415428676207617, -0.3892935015100161, -0.2625421493396134,\n",
       "        0.3945575286270143, -0.3479387028932143, -0.2550671757532804,\n",
       "       -0.249172545061391 , -0.2686507327635017,  0.3182665232771499,\n",
       "       -0.1906952504470744, -0.3024962744796596,  0.156261069774483 ,\n",
       "        0.156261069774483 ,  0.156261069774483 ,  0.2460839724790437,\n",
       "        0.0154841949448521,  0.0525325571132786,  0.0525325571132786,\n",
       "        0.0294585343407172,  0.0294585343407172,  0.0453794129139689,\n",
       "        0.0453794129139689,  0.1005919131516395,  0.0600707053826587,\n",
       "        0.0309022181791462,  0.0309022181791462,  0.015330507646792 ,\n",
       "        0.015330507646792 , -0.0041940385653929, -0.0041940385653929,\n",
       "        0.0728135154704848,  0.2165629764655529,  0.1045647502631855,\n",
       "        0.1045647502631855,  0.1045647502631855,  0.1970702550755606,\n",
       "        0.1017546035337175,  0.1017546035337175,  0.1017546035337175,\n",
       "        0.2290494135158997,  0.0451942278299212,  0.0451942278299212,\n",
       "        0.0451942278299212])"
      ]
     },
     "execution_count": 10,
     "metadata": {},
     "output_type": "execute_result"
    }
   ],
   "source": [
    "parm.charges"
   ]
  },
  {
   "attachments": {},
   "cell_type": "markdown",
   "metadata": {},
   "source": [
    "And that is step 1 over ! check your folder you should have a .lib file\n",
    "\n",
    "Let move on to the dihedral parameterisation "
   ]
  },
  {
   "cell_type": "code",
   "execution_count": null,
   "metadata": {},
   "outputs": [],
   "source": [
    "#Not yet working but that's the plan\n",
    "parm.prepare_qm_dih()\n",
    "parm.run_dih_fit()"
   ]
  },
  {
   "attachments": {},
   "cell_type": "markdown",
   "metadata": {},
   "source": [
    "you can use  parm.run_qm_dih() to run locally or go to the folder and run the qm elsewhare"
   ]
  },
  {
   "attachments": {},
   "cell_type": "markdown",
   "metadata": {},
   "source": [
    "you now should have a .frcmod file in your folder \n",
    "enjoy your MDs !"
   ]
  }
 ],
 "metadata": {
  "kernelspec": {
   "display_name": "Python 3 (ipykernel)",
   "language": "python",
   "name": "python3"
  },
  "language_info": {
   "codemirror_mode": {
    "name": "ipython",
    "version": 3
   },
   "file_extension": ".py",
   "mimetype": "text/x-python",
   "name": "python",
   "nbconvert_exporter": "python",
   "pygments_lexer": "ipython3",
   "version": "3.8.17"
  }
 },
 "nbformat": 4,
 "nbformat_minor": 2
}
