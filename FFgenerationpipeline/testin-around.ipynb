{
 "cells": [
  {
   "cell_type": "code",
   "execution_count": 7,
   "metadata": {},
   "outputs": [
    {
     "data": {
      "text/plain": [
       "['from_smiles', 'from_rdkit']"
      ]
     },
     "execution_count": 7,
     "metadata": {},
     "output_type": "execute_result"
    }
   ],
   "source": [
    "import psiresp\n",
    "\n",
    "[ s for s in  psiresp.Molecule.__dict__.keys() if s.startswith('from')]  "
   ]
  },
  {
   "cell_type": "code",
   "execution_count": 10,
   "metadata": {},
   "outputs": [
    {
     "name": "stdout",
     "output_type": "stream",
     "text": [
      "Treating your molecule as a  residue\n",
      "[1, 7, 8, 10]\n"
     ]
    }
   ],
   "source": [
    "from prep import build_molecule_from_smiles\n",
    "smile = \"C[C@](CCCC=C)(C(=O)O)NC(=O)\"\n",
    "mol = build_molecule_from_smiles(smile)\n",
    "\n",
    "psirespmol = psiresp.Molecule.from_rdkit(mol)\n",
    "psirespmol \n"
   ]
  },
  {
   "cell_type": "code",
   "execution_count": 41,
   "metadata": {},
   "outputs": [
    {
     "name": "stdout",
     "output_type": "stream",
     "text": [
      "Treating your molecule as a  residue\n",
      "[1, 7, 8, 11]\n"
     ]
    },
    {
     "ename": "AttributeError",
     "evalue": "'Atom' object has no attribute 'index'",
     "output_type": "error",
     "traceback": [
      "\u001b[0;31m---------------------------------------------------------------------------\u001b[0m",
      "\u001b[0;31mAttributeError\u001b[0m                            Traceback (most recent call last)",
      "Cell \u001b[0;32mIn[41], line 8\u001b[0m\n\u001b[1;32m      5\u001b[0m mol\u001b[39m.\u001b[39mGetSubstructMatch(patt_backbone)\n\u001b[1;32m      7\u001b[0m \u001b[39m#[atom.GetSymbol() for atom in mol.GetAtoms()]\u001b[39;00m\n\u001b[0;32m----> 8\u001b[0m [ at\u001b[39m.\u001b[39mindex \u001b[39mfor\u001b[39;00m at \u001b[39min\u001b[39;00m mol\u001b[39m.\u001b[39mGetAtoms()] \n",
      "Cell \u001b[0;32mIn[41], line 8\u001b[0m, in \u001b[0;36m<listcomp>\u001b[0;34m(.0)\u001b[0m\n\u001b[1;32m      5\u001b[0m mol\u001b[39m.\u001b[39mGetSubstructMatch(patt_backbone)\n\u001b[1;32m      7\u001b[0m \u001b[39m#[atom.GetSymbol() for atom in mol.GetAtoms()]\u001b[39;00m\n\u001b[0;32m----> 8\u001b[0m [ at\u001b[39m.\u001b[39;49mindex \u001b[39mfor\u001b[39;00m at \u001b[39min\u001b[39;00m mol\u001b[39m.\u001b[39mGetAtoms()] \n",
      "\u001b[0;31mAttributeError\u001b[0m: 'Atom' object has no attribute 'index'"
     ]
    }
   ],
   "source": [
    "from rdkit import Chem\n",
    "import prep\n",
    "patt_backbone = Chem.MolFromSmarts(\"C(C=O)N\")\n",
    "mol = build_molecule_from_smiles(smiles)\n",
    "mol.GetSubstructMatch(patt_backbone)\n",
    "\n",
    "#[atom.GetSymbol() for atom in mol.GetAtoms()]\n",
    "[ at.for at in mol.GetAtoms()] "
   ]
  },
  {
   "cell_type": "code",
   "execution_count": 92,
   "metadata": {},
   "outputs": [
    {
     "ename": "AttributeError",
     "evalue": "'Mol' object has no attribute 'GetAtomsWithIndx'",
     "output_type": "error",
     "traceback": [
      "\u001b[0;31m---------------------------------------------------------------------------\u001b[0m",
      "\u001b[0;31mAttributeError\u001b[0m                            Traceback (most recent call last)",
      "Cell \u001b[0;32mIn[92], line 2\u001b[0m\n\u001b[1;32m      1\u001b[0m \u001b[39mfor\u001b[39;00m at \u001b[39min\u001b[39;00m [\u001b[39m1\u001b[39m,\u001b[39m2\u001b[39m,\u001b[39m3\u001b[39m] : \n\u001b[0;32m----> 2\u001b[0m     mol\u001b[39m.\u001b[39;49mGetAtomsWithIndx(at)\u001b[39m.\u001b[39mGetSymbol()\n\u001b[1;32m      3\u001b[0m     mol\u001b[39m.\u001b[39mGetAtomsWithIndx(at)\u001b[39m.\u001b[39mGetHybridization()\u001b[39m==\u001b[39m\u001b[39m\"\u001b[39m\u001b[39mSP2\u001b[39m\u001b[39m\"\u001b[39m\n\u001b[1;32m      5\u001b[0m \u001b[39m#fragment_the_molecule:\u001b[39;00m\n",
      "\u001b[0;31mAttributeError\u001b[0m: 'Mol' object has no attribute 'GetAtomsWithIndx'"
     ]
    }
   ],
   "source": [
    "for at in [1,2,3] : \n",
    "    mol.GetAtomsWithIndx(at).GetSymbol()\n",
    "    mol.GetAtomsWithIndx(at).GetHybridization()==\"SP2\"\n",
    "\n",
    "#fragment_the_molecule:\n",
    "mol1_f = Chem.FragmentOnBonds(mol1, (1,3))"
   ]
  },
  {
   "cell_type": "code",
   "execution_count": 66,
   "metadata": {},
   "outputs": [
    {
     "name": "stdout",
     "output_type": "stream",
     "text": [
      "[6, 7, 10]\n"
     ]
    },
    {
     "data": {
      "image/png": "[encoded data removed]",
      "text/plain": [
       "<PIL.PngImagePlugin.PngImageFile image mode=RGB size=600x200>"
      ]
     },
     "execution_count": 66,
     "metadata": {},
     "output_type": "execute_result"
    }
   ],
   "source": [
    "def get_match_bond_indices(query, mol, match_atom_indices):\n",
    "    bond_indices = []\n",
    "    for query_bond in query.GetBonds():\n",
    "        atom_index1 = match_atom_indices[query_bond.GetBeginAtomIdx()]\n",
    "        atom_index2 = match_atom_indices[query_bond.GetEndAtomIdx()]\n",
    "        bond_indices.append(mol.GetBondBetweenAtoms(\n",
    "             atom_index1, atom_index2).GetIdx())\n",
    "    return bond_indices\n",
    "patt_backbone = Chem.MolFromSmarts(\"C(C=O)N\")\n",
    "atom_indices = mol.GetSubstructMatch(patt_backbone)\n",
    "bond_indices = get_match_bond_indices(patt_backbone, mol, atom_indices)\n",
    "print(bond_indices)\n",
    "\n",
    "mol1_f = Chem.FragmentOnSomeBonds(mol, bond_indices)\n",
    "\n",
    "\n",
    "from rdkit.Chem import Draw\n",
    "Draw.MolsToGridImage(mol1_f)"
   ]
  },
  {
   "cell_type": "code",
   "execution_count": 150,
   "metadata": {},
   "outputs": [
    {
     "name": "stdout",
     "output_type": "stream",
     "text": [
      "(1, 7, 8, 11, 31)\n",
      "SP2\n",
      "[0, 1, 8, 11] ['sidechain', 'sidechain', 'capping', 'capping']\n",
      "['sidechain', 'sidechain', 'capping', 'capping']\n",
      "((0, 15, 16, 17), (1, 7, 8, 11, 31), (2, 3, 4, 5, 6, 18, 19, 20, 21, 22, 23, 24, 25, 26), (9, 10, 27, 28, 29, 30), (12, 13, 14, 32, 33, 34))\n"
     ]
    }
   ],
   "source": [
    "def get_match_bond_indices( mol, match_atom_indices):\n",
    "    bond_indices = []\n",
    "    frag_types=[]\n",
    "    for query_bond in mol.GetBonds():\n",
    "        \n",
    "        if query_bond.GetBeginAtomIdx() in  match_atom_indices and query_bond.GetEndAtomIdx() not in  match_atom_indices : \n",
    "            bond_indices.append(query_bond.GetIdx())\n",
    "            at= query_bond.GetBeginAtomIdx() \n",
    "            frag_types.append(get_type(mol ,at))\n",
    "\n",
    "        elif query_bond.GetBeginAtomIdx() not in  match_atom_indices and query_bond.GetEndAtomIdx()  in  match_atom_indices : \n",
    "            bond_indices.append(query_bond.GetIdx())\n",
    "            at= query_bond.GetEndAtomIdx() \n",
    "            frag_types.append(get_type(mol ,at))     \n",
    "    return bond_indices , frag_types\n",
    "\n",
    "def get_type(mol ,at):\n",
    "    if mol.GetAtomWithIdx(at).GetSymbol() ==\"C\" and str(mol.GetAtomWithIdx(at).GetHybridization())==\"SP2\" :\n",
    "                print(mol.GetAtomWithIdx(at).GetHybridization())\n",
    "                return (\"capping\")\n",
    "    elif mol.GetAtomWithIdx(at).GetSymbol() ==\"N\" : \n",
    "                return (\"capping\")\n",
    "    elif  mol.GetAtomWithIdx(at).GetSymbol() ==\"C\" and str(mol.GetAtomWithIdx(at).GetHybridization())==\"SP3\" :\n",
    "                return (\"sidechain\")\n",
    "    else :\n",
    "                raise Exception(\"Probleme parsing the structure\")\n",
    "\n",
    "patt_backbone = Chem.MolFromSmarts(\"C(C=O)N([H])\")\n",
    "\n",
    "atom_indices = mol.GetSubstructMatch(patt_backbone)\n",
    "print(atom_indices)\n",
    "bond_indices ,frag_types = get_match_bond_indices( mol, atom_indices)\n",
    "print(bond_indices ,frag_types )\n",
    "\n",
    "mol1_f = Chem.FragmentOnBonds(mol, bond_indices,addDummies=False)\n",
    "\n",
    "fragments_mols = Chem.GetMolFrags(mol1_f, sanitizeFrags=False)\n",
    "print(frag_types)\n",
    "frag_types.insert(fragments_mols.index(atom_indices)  ,\"backbone\")\n",
    "mol1_f\n",
    "print(fragments_mols)\n",
    "\n",
    "#print(mol1_f.getAtomWithIdx(35).GetSymbol())"
   ]
  },
  {
   "cell_type": "code",
   "execution_count": 110,
   "metadata": {},
   "outputs": [
    {
     "data": {
      "image/png": "[encoded data removed]",
      "text/plain": [
       "<rdkit.Chem.rdchem.Mol at 0x12d032570>"
      ]
     },
     "execution_count": 110,
     "metadata": {},
     "output_type": "execute_result"
    }
   ],
   "source": [
    "mol"
   ]
  },
  {
   "cell_type": "code",
   "execution_count": 1,
   "metadata": {},
   "outputs": [
    {
     "name": "stdout",
     "output_type": "stream",
     "text": [
      "Treating your residue as a stapled residue\n",
      "SP2\n",
      "SP2\n",
      "((0, 1, 21, 22, 23, 24), (2, 3, 4, 17, 41), (5, 6, 7, 26, 27, 28, 29, 30, 31), (8, 9, 13, 14, 33), (10, 11, 12, 34, 35, 36), (15, 16, 37, 38, 39, 40), (18, 19, 20, 42, 43, 44), (25,), (32,))\n",
      "[2, 3, 4, 17, 41]\n",
      "[0, 1, 21, 22, 23, 24, 15, 16, 37, 38, 39, 40, 18, 19, 20, 42, 43, 44, 25]\n",
      "[2, 3, 4, 17, 41, 8, 9, 13, 14, 33]\n",
      "Scanning 0\n",
      "\n",
      " \n",
      " HERE\n",
      "\n",
      "\n",
      "Time Veff  : 0.8672778850013856\n",
      "\n",
      " \n",
      " HERE\n",
      "\n",
      "\n",
      "Time Veff  : 0.8928110319975531\n",
      "\n",
      " \n",
      " HERE\n",
      "\n",
      "\n",
      "Time Veff  : 0.8333410659979563\n",
      "\n",
      " \n",
      " HERE\n",
      "\n",
      "\n",
      "Time Veff  : 0.8989485619968036\n",
      "\n",
      " \n",
      " HERE\n",
      "\n",
      "\n",
      "Time Veff  : 0.8040643240092322\n",
      "\n",
      " \n",
      " HERE\n",
      "\n",
      "\n",
      "Time Veff  : 0.808741649001604\n",
      "\n",
      " \n",
      " HERE\n",
      "\n",
      "\n",
      "Time Veff  : 0.815394496996305\n",
      "\n",
      " \n",
      " HERE\n",
      "\n",
      "\n",
      "Time Veff  : 0.8031423369975528\n",
      "\n",
      " \n",
      " HERE\n",
      "\n",
      "\n",
      "Time Veff  : 0.815066779992776\n",
      "\n",
      " \n",
      " HERE\n",
      "\n",
      "\n",
      "Time Veff  : 0.8020162239990896\n",
      "\n",
      " \n",
      " HERE\n",
      "\n",
      "\n",
      "Time Veff  : 0.7957970339921303\n",
      "\n",
      " \n",
      " HERE\n",
      "\n",
      "\n",
      "Time Veff  : 0.8190982060041279\n",
      "\n",
      " \n",
      " HERE\n",
      "\n",
      "\n",
      "Time Veff  : 0.8097084089968121\n",
      "\n",
      " \n",
      " HERE\n",
      "\n",
      "\n"
     ]
    },
    {
     "ename": "",
     "evalue": "",
     "output_type": "error",
     "traceback": [
      "\u001b[1;31mCanceled future for execute_request message before replies were done"
     ]
    },
    {
     "ename": "",
     "evalue": "",
     "output_type": "error",
     "traceback": [
      "\u001b[1;31mThe Kernel crashed while executing code in the the current cell or a previous cell. Please review the code in the cell(s) to identify a possible cause of the failure. Click <a href='https://aka.ms/vscodeJupyterKernelCrash'>here</a> for more info. View Jupyter <a href='command:jupyter.viewOutput'>log</a> for further details."
     ]
    }
   ],
   "source": [
    "from prep import build_molecule_from_smiles\n",
    "from get_QM_energy import get_xyz_fromrdkitmol, run_qm_dih_PES\n",
    "import matplotlib.pyplot as plt \n",
    "smile = \"CNC(=O)[C@H](CCC[C@@H](NC(C)=O)C(=O)NC)NC(C)=O\"\n",
    "mol, res_type, backbone_list, capping_list = build_molecule_from_smiles(smile)\n",
    "xyz = get_xyz_fromrdkitmol(mol)\n",
    "print(backbone_list)\n",
    "\n",
    "PES= run_qm_dih_PES(xyz ,basis = \"HF/6-31G\" , optimise=True)\n",
    "\n",
    "\n"
   ]
  },
  {
   "cell_type": "code",
   "execution_count": 3,
   "metadata": {},
   "outputs": [],
   "source": [
    "import parmed\n",
    "structure=parmed.load_file(\"mol.prmtop\")\n",
    "\n"
   ]
  },
  {
   "cell_type": "code",
   "execution_count": 1,
   "metadata": {},
   "outputs": [
    {
     "name": "stdout",
     "output_type": "stream",
     "text": [
      "Treating your residue as a stapled residue\n",
      "SP2\n",
      "SP2\n",
      "((0, 1, 21, 22, 23, 24), (2, 3, 4, 17, 41), (5, 6, 7, 26, 27, 28, 29, 30, 31), (8, 9, 13, 14, 33), (10, 11, 12, 34, 35, 36), (15, 16, 37, 38, 39, 40), (18, 19, 20, 42, 43, 44), (25,), (32,))\n",
      "[2, 3, 4, 17, 41]\n",
      "[0, 1, 21, 22, 23, 24, 15, 16, 37, 38, 39, 40, 18, 19, 20, 42, 43, 44, 25]\n"
     ]
    },
    {
     "name": "stderr",
     "output_type": "stream",
     "text": [
      "/Users/Marie/Projects/2023-03-QMparam/Stapline/FFgenerationpipeline/get_QM_energy.py:99: FutureWarning: Using `psi4.set_module_options(<module>, {<key>: <val>})` instead of `psi4.set_options({<module>__<key>: <val>})` is deprecated, and as soon as 1.5 it will stop working\n",
      "\n",
      "  psi4.set_module_options(\n"
     ]
    },
    {
     "name": "stdout",
     "output_type": "stream",
     "text": [
      "\n",
      " \n",
      " HERE\n",
      "\n",
      "\n",
      "Time Veff  : 5.070078261007438\n",
      "\n",
      " \n",
      " HERE\n",
      "\n",
      "\n",
      "Time Veff  : 3.5621610550006153\n",
      "\n",
      " \n",
      " HERE\n",
      "\n",
      "\n",
      "Time Veff  : 3.761113322005258\n",
      "\n",
      " \n",
      " HERE\n",
      "\n",
      "\n",
      "Time Veff  : 3.289410413999576\n",
      "\n",
      " \n",
      " HERE\n",
      "\n",
      "\n",
      "Time Veff  : 3.2398058979888447\n",
      "\n",
      " \n",
      " HERE\n",
      "\n",
      "\n",
      "Time Veff  : 3.2749167629954172\n",
      "\n",
      " \n",
      " HERE\n",
      "\n",
      "\n",
      "Time Veff  : 2.8051713589957217\n",
      "\n",
      " \n",
      " HERE\n",
      "\n",
      "\n",
      "Time Veff  : 3.780509048010572\n",
      "\n",
      " \n",
      " HERE\n",
      "\n",
      "\n",
      "Time Veff  : 3.6441495600010967\n",
      "\n",
      " \n",
      " HERE\n",
      "\n",
      "\n",
      "Time Veff  : 3.9412350740021793\n",
      "\n",
      " \n",
      " HERE\n",
      "\n",
      "\n",
      "Time Veff  : 3.9658025259996066\n",
      "\n",
      " \n",
      " HERE\n",
      "\n",
      "\n",
      "Time Veff  : 3.7886787980096415\n",
      "\n",
      " \n",
      " HERE\n",
      "\n",
      "\n",
      "Time Veff  : 4.104744555006619\n",
      "\n",
      " \n",
      " HERE\n",
      "\n",
      "\n",
      "Time Veff  : 3.8336936959967716\n"
     ]
    }
   ],
   "source": [
    "from get_QM_energy import run_some_conf\n",
    "import matplotlib.pyplot as plt\n",
    "from prep import build_molecule_from_smiles\n",
    "smile = \"CNC(=O)[C@H](CCC[C@@H](NC(C)=O)C(=O)NC)NC(C)=O\"\n",
    "mol, res_type, backbone_list, capping_list = build_molecule_from_smiles(smile)    \n",
    "\n",
    "data = run_some_conf(mol=mol , n_confs=5 ,optimise=False)"
   ]
  },
  {
   "cell_type": "code",
   "execution_count": null,
   "metadata": {},
   "outputs": [],
   "source": []
  },
  {
   "cell_type": "code",
   "execution_count": 3,
   "metadata": {},
   "outputs": [
    {
     "ename": "AttributeError",
     "evalue": "'Structure' object has no attribute 'load_parameters'",
     "output_type": "error",
     "traceback": [
      "\u001b[0;31m---------------------------------------------------------------------------\u001b[0m",
      "\u001b[0;31mAttributeError\u001b[0m                            Traceback (most recent call last)",
      "Cell \u001b[0;32mIn[3], line 14\u001b[0m\n\u001b[1;32m     11\u001b[0m parm \u001b[39m=\u001b[39m parmed\u001b[39m.\u001b[39mamber\u001b[39m.\u001b[39mAmberParm()\n\u001b[1;32m     13\u001b[0m \u001b[39m# Assign the parameters to the structure\u001b[39;00m\n\u001b[0;32m---> 14\u001b[0m structure\u001b[39m.\u001b[39;49mload_parameters(parm)\n\u001b[1;32m     16\u001b[0m \u001b[39m# Access the atoms and bonds in the structure object\u001b[39;00m\n\u001b[1;32m     17\u001b[0m \u001b[39mfor\u001b[39;00m atom \u001b[39min\u001b[39;00m structure\u001b[39m.\u001b[39matoms:\n",
      "\u001b[0;31mAttributeError\u001b[0m: 'Structure' object has no attribute 'load_parameters'"
     ]
    }
   ],
   "source": [
    "import rdkit\n",
    "from rdkit import Chem\n",
    "import parmed\n",
    "\n",
    "# Create an RDKit molecule from a SMILES string\n",
    "smiles = 'CC(=O)OC1=CC=CC=C1C(=O)OCC'\n",
    "mol = Chem.MolFromSmiles(smiles)\n",
    "\n",
    "# Convert the RDKit molecule to a ParmEd structure object\n",
    "structure = parmed.rdkit.load_rdkit(mol)\n",
    "parm = parmed.amber.AmberParm()\n",
    "\n",
    "# Assign the parameters to the structure\n",
    "structure.load_parameters(parm)\n",
    "\n",
    "# Access the atoms and bonds in the structure object\n",
    "for atom in structure.atoms:\n",
    "    print(atom.name, atom.type, atom.charge, atom.xx, atom.xy, atom.xz)\n",
    "for bond in structure.bonds:\n",
    "    print(bond.atom1, bond.atom2, bond.type.k, bond.type.req)\n"
   ]
  },
  {
   "cell_type": "code",
   "execution_count": null,
   "metadata": {},
   "outputs": [
    {
     "data": {
      "text/plain": [
       "array([[ 1.94677170e+00,  1.43117153e+00,  9.64512369e-05],\n",
       "       [ 1.61208867e-01,  1.31481473e+00, -6.07730477e-06],\n",
       "       [-1.61208867e-01, -1.31481473e+00, -6.07730477e-06],\n",
       "       [-1.94677170e+00, -1.43117153e+00,  9.64512369e-05]])"
      ]
     },
     "execution_count": 32,
     "metadata": {},
     "output_type": "execute_result"
    }
   ],
   "source": [
    "ch2.x(0) , ch2.y(0) ,ch2.z(0)\n",
    "matrix=ch2.geometry().np\n",
    "matrix.np"
   ]
  },
  {
   "cell_type": "code",
   "execution_count": 1,
   "metadata": {},
   "outputs": [
    {
     "ename": "FileNotFoundError",
     "evalue": "my_structure.pdb does not exist",
     "output_type": "error",
     "traceback": [
      "\u001b[0;31m---------------------------------------------------------------------------\u001b[0m",
      "\u001b[0;31mFileNotFoundError\u001b[0m                         Traceback (most recent call last)",
      "Cell \u001b[0;32mIn[1], line 4\u001b[0m\n\u001b[1;32m      1\u001b[0m \u001b[39mimport\u001b[39;00m \u001b[39mparmed\u001b[39;00m \u001b[39mas\u001b[39;00m \u001b[39mpmd\u001b[39;00m\n\u001b[1;32m      3\u001b[0m \u001b[39m# Load the structure from a PDB file\u001b[39;00m\n\u001b[0;32m----> 4\u001b[0m structure \u001b[39m=\u001b[39m pmd\u001b[39m.\u001b[39;49mload_file(\u001b[39m'\u001b[39;49m\u001b[39mmy_structure.pdb\u001b[39;49m\u001b[39m'\u001b[39;49m)\n\u001b[1;32m      6\u001b[0m \u001b[39m# Calculate the MM energy of the structure\u001b[39;00m\n\u001b[1;32m      7\u001b[0m energy_components \u001b[39m=\u001b[39m structure\u001b[39m.\u001b[39menergies\n",
      "File \u001b[0;32m~/miniconda3/envs/p4env/lib/python3.10/site-packages/parmed/formats/registry.py:166\u001b[0m, in \u001b[0;36mload_file\u001b[0;34m(filename, *args, **kwargs)\u001b[0m\n\u001b[1;32m    164\u001b[0m         \u001b[39massert\u001b[39;00m f\n\u001b[1;32m    165\u001b[0m \u001b[39melif\u001b[39;00m \u001b[39mnot\u001b[39;00m os\u001b[39m.\u001b[39mpath\u001b[39m.\u001b[39mexists(filename):\n\u001b[0;32m--> 166\u001b[0m     \u001b[39mraise\u001b[39;00m \u001b[39mFileNotFoundError\u001b[39;00m(\u001b[39m'\u001b[39m\u001b[39m%s\u001b[39;00m\u001b[39m does not exist\u001b[39m\u001b[39m'\u001b[39m \u001b[39m%\u001b[39m filename)\n\u001b[1;32m    167\u001b[0m \u001b[39melif\u001b[39;00m \u001b[39mnot\u001b[39;00m os\u001b[39m.\u001b[39maccess(filename, os\u001b[39m.\u001b[39mR_OK):\n\u001b[1;32m    168\u001b[0m     \u001b[39mraise\u001b[39;00m \u001b[39mFileNotFoundError\u001b[39;00m(\u001b[39m'\u001b[39m\u001b[39m%s\u001b[39;00m\u001b[39m does not have read permissions set\u001b[39m\u001b[39m'\u001b[39m \u001b[39m%\u001b[39m filename)\n",
      "\u001b[0;31mFileNotFoundError\u001b[0m: my_structure.pdb does not exist"
     ]
    }
   ],
   "source": [
    "import parmed as pmd\n",
    "\n",
    "# Load the structure from a PDB file\n",
    "structure = pmd.load_file('my_structure.pdb')\n",
    "\n",
    "# Calculate the MM energy of the structure\n",
    "energy_components = structure.energies\n",
    "mm_energy = sum(energy_components.values())\n",
    "\n",
    "print(\"Total MM energy: {:.3f} kcal/mol\".format(mm_energy))"
   ]
  },
  {
   "cell_type": "code",
   "execution_count": 20,
   "metadata": {},
   "outputs": [
    {
     "name": "stdout",
     "output_type": "stream",
     "text": [
      "\n",
      "\tcc-pVDZ SCF energy as a function of phi\n",
      "\n"
     ]
    },
    {
     "data": {
      "text/plain": [
       "[<matplotlib.lines.Line2D at 0x126c8c100>]"
      ]
     },
     "execution_count": 20,
     "metadata": {},
     "output_type": "execute_result"
    },
    {
     "data": {
      "image/png": "[encoded data removed]",
      "text/plain": [
       "<Figure size 640x480 with 1 Axes>"
      ]
     },
     "metadata": {},
     "output_type": "display_data"
    }
   ],
   "source": [
    "import matplotlib.pyplot as plt\n",
    "print(\"\\n\\tcc-pVDZ SCF energy as a function of phi\\n\")\n",
    "angles = [i[0] for i in PES]\n",
    "energy = [i[1] for i in PES]\n",
    "plt.plot(angles,energy)"
   ]
  }
 ],
 "metadata": {
  "kernelspec": {
   "display_name": "p4env",
   "language": "python",
   "name": "python3"
  },
  "language_info": {
   "codemirror_mode": {
    "name": "ipython",
    "version": 3
   },
   "file_extension": ".py",
   "mimetype": "text/x-python",
   "name": "python",
   "nbconvert_exporter": "python",
   "pygments_lexer": "ipython3",
   "version": "3.10.10"
  },
  "orig_nbformat": 4,
  "vscode": {
   "interpreter": {
    "hash": "77f8136fb0e1540b178de31d90394aa6b9c6d33993d4db175951626e6551a296"
   }
  }
 },
 "nbformat": 4,
 "nbformat_minor": 2
}
