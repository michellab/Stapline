{
 "cells": [
  {
   "cell_type": "code",
   "execution_count": 17,
   "metadata": {},
   "outputs": [],
   "source": [
    "import glob\n",
    "import numpy as np\n",
    "import pandas as pd\n",
    "import matplotlib.pyplot as plt\n",
    "\n",
    "import re"
   ]
  },
  {
   "cell_type": "code",
   "execution_count": 18,
   "metadata": {},
   "outputs": [],
   "source": [
    "dihedral = \"2_3_4_5\"\n",
    "seed_no = 4\n",
    "fragment = 1"
   ]
  },
  {
   "cell_type": "code",
   "execution_count": 19,
   "metadata": {},
   "outputs": [],
   "source": [
    "file_pattern = 'profiles_torsions/individual_conformer_scans/fragment%s/torsion%s/torsion%s_seed%s_conf*backward.csv' % (fragment, dihedral, dihedral, seed_no)"
   ]
  },
  {
   "cell_type": "code",
   "execution_count": 20,
   "metadata": {},
   "outputs": [],
   "source": [
    "file_list = glob.glob(file_pattern)"
   ]
  },
  {
   "cell_type": "code",
   "execution_count": 21,
   "metadata": {},
   "outputs": [],
   "source": [
    "conf_numbers = []\n",
    "\n",
    "pattern = r'conf(\\d+)'\n",
    "\n",
    "for string in file_list:\n",
    "    match = re.search(pattern, string)\n",
    "    conf_number = match.group(1)\n",
    "    conf_numbers.append(conf_number)"
   ]
  },
  {
   "cell_type": "code",
   "execution_count": 22,
   "metadata": {},
   "outputs": [],
   "source": [
    "# Initialize an empty list to store DataFrames\n",
    "dfs = []\n",
    "\n",
    "# Iterate through each CSV file and read it into a DataFrame\n",
    "for csv_file in file_list:\n",
    "    df = pd.read_csv(csv_file)\n",
    "    dfs.append(df)\n",
    "\n",
    "# Concatenate all DataFrames in the list into a single DataFrame\n",
    "confs_df = pd.concat(dfs, ignore_index=True)"
   ]
  },
  {
   "cell_type": "code",
   "execution_count": 23,
   "metadata": {},
   "outputs": [],
   "source": [
    "combined_df = confs_df.copy()\n",
    "combined_df.rename(columns={'Unnamed: 0': 'Conformer'}, inplace=True)\n",
    "combined_df['Conformer'] = conf_numbers\n",
    "combined_df.to_csv('profiles_torsions/individual_conformer_scans/fragment%s/torsion%s/torsion%s_seed%s_backward_unfiltered.csv' \n",
    "                   % (fragment, dihedral, dihedral, seed_no))\n"
   ]
  },
  {
   "cell_type": "code",
   "execution_count": 24,
   "metadata": {},
   "outputs": [],
   "source": [
    "new_conf_numbers = combined_df['Conformer'].to_list()"
   ]
  },
  {
   "cell_type": "code",
   "execution_count": 25,
   "metadata": {},
   "outputs": [],
   "source": [
    "combined_df = combined_df.drop(columns=[\"Conformer\"])"
   ]
  },
  {
   "cell_type": "code",
   "execution_count": 26,
   "metadata": {},
   "outputs": [],
   "source": [
    "# use combined dataframe columns \n",
    "\n",
    "col_names_floats = []\n",
    "col_names = []\n",
    "\n",
    "for i in list(combined_df):\n",
    "    col_names_floats.append(float(i))\n",
    "\n",
    "for i in col_names_floats:\n",
    "    col_names.append(round(i))"
   ]
  },
  {
   "cell_type": "code",
   "execution_count": 27,
   "metadata": {},
   "outputs": [],
   "source": [
    "# Find the minimum value in each row\n",
    "min_values = combined_df.min(axis=1)"
   ]
  },
  {
   "cell_type": "code",
   "execution_count": 28,
   "metadata": {},
   "outputs": [],
   "source": [
    "# Subtract the minimum value in each row from each column\n",
    "for col in combined_df.columns:\n",
    "    combined_df[col] = combined_df[col] - min_values"
   ]
  },
  {
   "cell_type": "code",
   "execution_count": 29,
   "metadata": {},
   "outputs": [
    {
     "data": {
      "text/plain": [
       "<matplotlib.legend.Legend at 0x7f798edbb9a0>"
      ]
     },
     "execution_count": 29,
     "metadata": {},
     "output_type": "execute_result"
    },
    {
     "data": {
      "image/png": "[encoded data removed]",
      "text/plain": [
       "<Figure size 640x480 with 1 Axes>"
      ]
     },
     "metadata": {},
     "output_type": "display_data"
    }
   ],
   "source": [
    "for i in range(len(new_conf_numbers)):\n",
    "    plt.plot(col_names, combined_df.iloc[i], marker='o', linestyle='None', label='conformer %s' %new_conf_numbers[i])\n",
    "plt.xlabel('Dihedral Angle (degrees)')\n",
    "plt.ylabel('Energy (kcal/mol)')\n",
    "plt.title('QM Torsion Backward Scan')\n",
    "plt.legend(loc='upper left', bbox_to_anchor=(1, 1))\n",
    "#plt.tight_layout()"
   ]
  },
  {
   "cell_type": "code",
   "execution_count": 30,
   "metadata": {},
   "outputs": [],
   "source": [
    "bwd = []\n",
    "\n",
    "for i in range(len(new_conf_numbers)):\n",
    "    bwd.append('backward')"
   ]
  },
  {
   "cell_type": "code",
   "execution_count": 31,
   "metadata": {},
   "outputs": [],
   "source": [
    "combined_df.insert(0, 'Conformer', new_conf_numbers)\n",
    "combined_df.insert(1,'Scan_Type', bwd)"
   ]
  },
  {
   "cell_type": "code",
   "execution_count": 32,
   "metadata": {},
   "outputs": [],
   "source": [
    "combined_df.to_csv('profiles_torsions/individual_conformer_scans/fragment%s/torsion%s/torsion%s_seed%s_backward_normalised.csv' \n",
    "                   % (fragment, dihedral, dihedral, seed_no))"
   ]
  }
 ],
 "metadata": {
  "kernelspec": {
   "display_name": "qm_resp_3.8",
   "language": "python",
   "name": "python3"
  },
  "language_info": {
   "codemirror_mode": {
    "name": "ipython",
    "version": 3
   },
   "file_extension": ".py",
   "mimetype": "text/x-python",
   "name": "python",
   "nbconvert_exporter": "python",
   "pygments_lexer": "ipython3",
   "version": "3.8.17"
  }
 },
 "nbformat": 4,
 "nbformat_minor": 2
}
