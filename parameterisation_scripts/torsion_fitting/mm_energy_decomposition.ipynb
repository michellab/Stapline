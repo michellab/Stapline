{
 "cells": [
  {
   "cell_type": "code",
   "execution_count": null,
   "metadata": {},
   "outputs": [],
   "source": [
    "import sire as sr\n",
    "import glob\n",
    "import numpy as np\n",
    "import matplotlib.pyplot as plt\n",
    "\n",
    "from multiprocessing import Pool\n",
    "\n",
    "import logging\n",
    "from rdkit import rdBase"
   ]
  },
  {
   "cell_type": "code",
   "execution_count": null,
   "metadata": {},
   "outputs": [],
   "source": [
    "dihedral = \"1_2_3_4\"\n",
    "seed_no = 4\n",
    "fragment = 1\n",
    "\n",
    "n_cpus = 26"
   ]
  },
  {
   "cell_type": "code",
   "execution_count": null,
   "metadata": {},
   "outputs": [],
   "source": [
    "n_confs = 50 # number of conformers scanned\n",
    "conf_numbers = np.arange(0,n_confs-1).tolist()"
   ]
  },
  {
   "cell_type": "code",
   "execution_count": null,
   "metadata": {},
   "outputs": [],
   "source": [
    "idx1, idx2, idx3, idx4 = map(int, dihedral.split(\"_\"))\n",
    "print(idx1,idx2,idx3,idx4)"
   ]
  },
  {
   "cell_type": "code",
   "execution_count": null,
   "metadata": {},
   "outputs": [],
   "source": [
    "forward = np.arange(-180,190,10).tolist()\n",
    "energies_per_dihedral = []"
   ]
  },
  {
   "cell_type": "markdown",
   "metadata": {},
   "source": [
    "Getting the energy of the molecule minus the energy of the torsion to be optimised"
   ]
  },
  {
   "cell_type": "code",
   "execution_count": null,
   "metadata": {},
   "outputs": [],
   "source": [
    "# Set RDKit logger level to WARNING or ERROR\n",
    "rdBase.LogToPythonStderr()\n",
    "logger = logging.getLogger(\"rdkit\")\n",
    "logger.setLevel(logging.ERROR)  # or logging.WARNING\n",
    "\n",
    "from IPython.display import display, HTML\n",
    "\n",
    "display(HTML(\"\"\"\n",
    "<style>\n",
    ".output_subarea.output_javascript_error {\n",
    "    display: none !important;\n",
    "}\n",
    "</style>\n",
    "\"\"\"))\n",
    "\n",
    "\n",
    "def compute_mm_energies(dihe):\n",
    "    print(f'{dihe}'+\"\\n\")\n",
    "    mm_energies = []\n",
    "    \n",
    "    file_patterns_prmtop = [\n",
    "        'profiles_torsions/optimised_geometries/fragment%s/torsion%s/torsion%s_seed%s_conf%s_dihe_%s*_resp_charges_atomtypes_renamed.mol2.prmtop' % \n",
    "        (fragment, dihedral, dihedral, seed_no, conf, dihe) for conf in conf_numbers\n",
    "    ]\n",
    "    \n",
    "    file_patterns_inpcrd = [\n",
    "        'profiles_torsions/optimised_geometries/fragment%s/torsion%s/torsion%s_seed%s_conf%s_dihe_%s*_resp_charges_atomtypes_renamed.mol2.inpcrd' % \n",
    "        (fragment, dihedral, dihedral, seed_no, conf, dihe) for conf in conf_numbers\n",
    "    ]\n",
    "\n",
    "    file_list_prmtop = []\n",
    "    file_list_inpcrd = []\n",
    "\n",
    "    for pattern_prmtop, pattern_inpcrd in zip(file_patterns_prmtop, file_patterns_inpcrd):\n",
    "        file_list_prmtop.extend(glob.glob(pattern_prmtop))\n",
    "        file_list_inpcrd.extend(glob.glob(pattern_inpcrd))\n",
    "\n",
    "    for fle in file_list_inpcrd:\n",
    "        mol = sr.load(file_list_prmtop[0], fle)\n",
    "        mm_energies.append(mol.energy().value())  # energies in kcal/mol\n",
    "\n",
    "    return mm_energies\n",
    "\n",
    "if __name__ == '__main__':\n",
    "    with Pool(processes=n_cpus):  \n",
    "        energies_per_dihedral = Pool(n_cpus).map(compute_mm_energies, forward)\n"
   ]
  },
  {
   "cell_type": "code",
   "execution_count": null,
   "metadata": {},
   "outputs": [],
   "source": [
    "# optional: load one of the mol2 files from the QM scans to check the torsion potential expression for the torsion under study\n",
    "# or any other torsion (e.g. 2-3-4-5)\n",
    "\n",
    "mol = sr.load(\n",
    "    \"profiles_torsions/optimised_geometries/fragment%s/torsion%s/torsion%s_seed4_conf0_dihe_-90_2_forward_resp_charges_atomtypes_renamed.mol2.prmtop\" % (fragment, dihedral, dihedral),\n",
    "    \"profiles_torsions/optimised_geometries/fragment%s/torsion%s/torsion%s_seed4_conf0_dihe_-90_2_forward_resp_charges_atomtypes_renamed.mol2.inpcrd\" % (fragment, dihedral, dihedral)\n",
    ")"
   ]
  },
  {
   "cell_type": "code",
   "execution_count": null,
   "metadata": {},
   "outputs": [],
   "source": [
    "torsion = mol.dihedrals(f\"atomnum {idx1}\", f\"atomnum {idx2}\", f\"atomnum {idx3}\", f\"atomnum {idx4}\")\n",
    "torsion.potentials()"
   ]
  },
  {
   "cell_type": "code",
   "execution_count": null,
   "metadata": {},
   "outputs": [],
   "source": [
    "torsion = mol.dihedrals(f\"atomnum {2}\", f\"atomnum {3}\", f\"atomnum {4}\", f\"atomnum {5}\")\n",
    "torsion.potentials()"
   ]
  },
  {
   "cell_type": "code",
   "execution_count": null,
   "metadata": {},
   "outputs": [],
   "source": [
    "energies_per_dihedral"
   ]
  },
  {
   "cell_type": "code",
   "execution_count": null,
   "metadata": {},
   "outputs": [],
   "source": [
    "avg_energy_per_dihedral = [] # saving average energy per dihedral for all conformers\n",
    "\n",
    "for i in energies_per_dihedral: \n",
    "    avg_energy_per_dihedral.append(np.mean(i))\n",
    "\n",
    "avg_energy_per_dihedral"
   ]
  },
  {
   "cell_type": "code",
   "execution_count": null,
   "metadata": {},
   "outputs": [],
   "source": [
    "def ensure_python_list(data):\n",
    "    if isinstance(data, list):\n",
    "        return [float(x) if isinstance(x, (np.floating, np.integer)) else x for x in data]\n",
    "\n",
    "    elif isinstance(data, np.ndarray):\n",
    "        return data.astype(float).tolist()\n",
    "\n",
    "    elif isinstance(data, (np.floating, np.integer)):\n",
    "        return [float(data)]\n",
    "\n",
    "    return data"
   ]
  },
  {
   "cell_type": "code",
   "execution_count": null,
   "metadata": {},
   "outputs": [],
   "source": [
    "avg_energy_per_dihedral = ensure_python_list(avg_energy_per_dihedral)\n",
    "avg_energy_per_dihedral"
   ]
  },
  {
   "cell_type": "code",
   "execution_count": null,
   "metadata": {},
   "outputs": [],
   "source": [
    "# normalise average energy and check if values for -180 and 180 are missing (usually -180 is always missing)\n",
    "\n",
    "norm_avg_energy_per_dihedral = []\n",
    "\n",
    "def is_missing(x):\n",
    "    return (isinstance(x, list) and len(x) == 0) or (isinstance(x, float) and np.isnan(x))\n",
    "\n",
    "# Check first and last elements (values for -180 and 180 torsions likely to be missing)\n",
    "if is_missing(avg_energy_per_dihedral[0]) and is_missing(avg_energy_per_dihedral[-1]):\n",
    "    valid = avg_energy_per_dihedral[1:-1]\n",
    "elif is_missing(avg_energy_per_dihedral[0]):\n",
    "    valid = avg_energy_per_dihedral[1:]\n",
    "else:\n",
    "    valid = avg_energy_per_dihedral\n",
    "\n",
    "valid_numeric = [x for x in valid if not is_missing(x)]\n",
    "min_val = np.min(valid_numeric)\n",
    "\n",
    "norm_avg_energy_per_dihedral = [x - min_val for x in valid_numeric]\n",
    "norm_avg_energy_per_dihedral\n"
   ]
  },
  {
   "cell_type": "code",
   "execution_count": null,
   "metadata": {},
   "outputs": [],
   "source": [
    "np.save('profiles_torsions/individual_conformer_scans/fragment%s/torsion%s/torsion%s_seed%s_mm.npy' % (fragment, dihedral, dihedral, seed_no), norm_avg_energy_per_dihedral)"
   ]
  },
  {
   "cell_type": "code",
   "execution_count": null,
   "metadata": {},
   "outputs": [],
   "source": [
    "import matplotlib.pyplot as plt\n",
    "forward = list(range(-170, 181, 10)) # here -180 has been excluded as no MM energy was available, modify according to your data\n",
    "idx = 0\n",
    "for i in norm_avg_energy_per_dihedral:\n",
    "    plt.plot(forward[idx], i, marker='o', linestyle='None', color='blue')\n",
    "    idx += 1\n",
    "\n",
    "plt.xlabel('Torsion / $\\circ$', fontsize=15)\n",
    "plt.ylabel('E$_{MM,total}$ - E$_{MM,torsion}$ / kcal mol$^{-1}$', fontsize=15)\n",
    "\n",
    "plt.xticks(range(-180, 181, 60), fontsize=12) \n",
    "plt.yticks(fontsize=12) \n",
    "\n",
    "plt.xlim(-185, 185)\n",
    "plt.ylim(0.0,4.0)\n",
    "plt.rcParams['figure.dpi'] = 300\n",
    "plt.tight_layout()\n",
    "plt.show()\n"
   ]
  }
 ],
 "metadata": {
  "kernelspec": {
   "display_name": "openbiosim",
   "language": "python",
   "name": "python3"
  },
  "language_info": {
   "codemirror_mode": {
    "name": "ipython",
    "version": 3
   },
   "file_extension": ".py",
   "mimetype": "text/x-python",
   "name": "python",
   "nbconvert_exporter": "python",
   "pygments_lexer": "ipython3",
   "version": "3.11.7"
  }
 },
 "nbformat": 4,
 "nbformat_minor": 2
}
