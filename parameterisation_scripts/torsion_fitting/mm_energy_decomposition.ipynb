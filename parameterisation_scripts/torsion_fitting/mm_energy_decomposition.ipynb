{
 "cells": [
  {
   "cell_type": "code",
   "execution_count": 14,
   "metadata": {},
   "outputs": [
    {
     "name": "stderr",
     "output_type": "stream",
     "text": [
      "INFO:rdkit:Enabling RDKit 2023.09.4 jupyter extensions\n"
     ]
    }
   ],
   "source": [
    "import sire as sr\n",
    "import glob\n",
    "import numpy as np\n",
    "import matplotlib.pyplot as plt\n",
    "\n",
    "from multiprocessing import Pool\n",
    "\n",
    "import logging\n",
    "from rdkit import rdBase"
   ]
  },
  {
   "cell_type": "code",
   "execution_count": 15,
   "metadata": {},
   "outputs": [],
   "source": [
    "dihedral = \"1_2_3_4\"\n",
    "seed_no = 4\n",
    "fragment = 1\n",
    "\n",
    "n_cpus = 26"
   ]
  },
  {
   "cell_type": "code",
   "execution_count": null,
   "metadata": {},
   "outputs": [],
   "source": [
    "n_confs = 50 # number of conformers scanned\n",
    "conf_numbers = np.arange(0,n_confs-1).tolist()"
   ]
  },
  {
   "cell_type": "code",
   "execution_count": 17,
   "metadata": {},
   "outputs": [
    {
     "name": "stdout",
     "output_type": "stream",
     "text": [
      "1 2 3 4\n"
     ]
    }
   ],
   "source": [
    "idx1, idx2, idx3, idx4 = map(int, dihedral.split(\"_\"))\n",
    "print(idx1,idx2,idx3,idx4)"
   ]
  },
  {
   "cell_type": "code",
   "execution_count": 18,
   "metadata": {},
   "outputs": [],
   "source": [
    "forward = np.arange(-180,190,10).tolist()\n",
    "energies_per_dihedral = []"
   ]
  },
  {
   "cell_type": "markdown",
   "metadata": {},
   "source": [
    "Getting the energy of the molecule minus the energy of the torsion to be optimised"
   ]
  },
  {
   "cell_type": "code",
   "execution_count": 19,
   "metadata": {},
   "outputs": [
    {
     "data": {
      "text/html": [
       "\n",
       "<style>\n",
       ".output_subarea.output_javascript_error {\n",
       "    display: none !important;\n",
       "}\n",
       "</style>\n"
      ],
      "text/plain": [
       "<IPython.core.display.HTML object>"
      ]
     },
     "metadata": {},
     "output_type": "display_data"
    },
    {
     "name": "stdout",
     "output_type": "stream",
     "text": [
      "-130\n",
      "-30\n",
      "-50\n",
      "-120\n",
      "-180\n",
      "-150\n",
      "-160\n",
      "-10\n",
      "-140\n",
      "-20\n",
      "-110\n",
      "-170\n",
      "0\n",
      "-100\n",
      "20\n",
      "-90\n",
      "-40\n",
      "-60\n",
      "-70\n",
      "-80\n",
      "\n",
      "\n",
      "\n",
      "70\n",
      "40\n",
      "\n",
      "\n",
      "10\n",
      "\n",
      "60\n",
      "\n",
      "\n",
      "\n",
      "\n",
      "\n",
      "\n",
      "\n",
      "\n",
      "30\n",
      "\n",
      "\n",
      "\n",
      "\n",
      "50\n",
      "\n",
      "\n",
      "\n",
      "\n",
      "\n",
      "\n",
      "\n",
      "\n",
      "80\n",
      "\n"
     ]
    },
    {
     "data": {
      "application/vnd.jupyter.widget-view+json": {
       "model_id": "283bad4128994a5687cf90463aa6935a",
       "version_major": 2,
       "version_minor": 0
      },
      "text/plain": []
     },
     "metadata": {},
     "output_type": "display_data"
    },
    {
     "data": {
      "application/vnd.jupyter.widget-view+json": {
       "model_id": "1c7239f680e34e0895d65f6f457b2aaf",
       "version_major": 2,
       "version_minor": 0
      },
      "text/plain": []
     },
     "metadata": {},
     "output_type": "display_data"
    },
    {
     "data": {
      "application/vnd.jupyter.widget-view+json": {
       "model_id": "a7e6485c65ce41c3a1e788596ff23fc0",
       "version_major": 2,
       "version_minor": 0
      },
      "text/plain": []
     },
     "metadata": {},
     "output_type": "display_data"
    },
    {
     "data": {
      "application/vnd.jupyter.widget-view+json": {
       "model_id": "6834984185c745c181662cfabb406274",
       "version_major": 2,
       "version_minor": 0
      },
      "text/plain": []
     },
     "metadata": {},
     "output_type": "display_data"
    },
    {
     "data": {
      "application/vnd.jupyter.widget-view+json": {
       "model_id": "2386d098e36348fe9b94e09df944dcaa",
       "version_major": 2,
       "version_minor": 0
      },
      "text/plain": []
     },
     "metadata": {},
     "output_type": "display_data"
    },
    {
     "data": {
      "application/vnd.jupyter.widget-view+json": {
       "model_id": "178af7ed498f4a018d504b831bd7092b",
       "version_major": 2,
       "version_minor": 0
      },
      "text/plain": []
     },
     "metadata": {},
     "output_type": "display_data"
    },
    {
     "data": {
      "application/vnd.jupyter.widget-view+json": {
       "model_id": "eadb35ae2ea244f48269de702ea9ffb9",
       "version_major": 2,
       "version_minor": 0
      },
      "text/plain": []
     },
     "metadata": {},
     "output_type": "display_data"
    },
    {
     "data": {
      "application/vnd.jupyter.widget-view+json": {
       "model_id": "be8cc046d1354bd0898a63f972a446f8",
       "version_major": 2,
       "version_minor": 0
      },
      "text/plain": []
     },
     "metadata": {},
     "output_type": "display_data"
    },
    {
     "data": {
      "application/vnd.jupyter.widget-view+json": {
       "model_id": "61ba233368ec4fafbf2637e1d84628dc",
       "version_major": 2,
       "version_minor": 0
      },
      "text/plain": []
     },
     "metadata": {},
     "output_type": "display_data"
    },
    {
     "data": {
      "application/vnd.jupyter.widget-view+json": {
       "model_id": "0f6a4d80ce80486eb3013d1713ce0261",
       "version_major": 2,
       "version_minor": 0
      },
      "text/plain": []
     },
     "metadata": {},
     "output_type": "display_data"
    },
    {
     "data": {
      "application/vnd.jupyter.widget-view+json": {
       "model_id": "007563157fca431db32b6c88918c1c7e",
       "version_major": 2,
       "version_minor": 0
      },
      "text/plain": []
     },
     "metadata": {},
     "output_type": "display_data"
    },
    {
     "data": {
      "application/vnd.jupyter.widget-view+json": {
       "model_id": "e451a72fd28f4bd5854c39c1fa9e6d2a",
       "version_major": 2,
       "version_minor": 0
      },
      "text/plain": []
     },
     "metadata": {},
     "output_type": "display_data"
    },
    {
     "data": {
      "application/vnd.jupyter.widget-view+json": {
       "model_id": "927f54d382514d9bb4f44a827ed2b98e",
       "version_major": 2,
       "version_minor": 0
      },
      "text/plain": []
     },
     "metadata": {},
     "output_type": "display_data"
    },
    {
     "data": {
      "application/vnd.jupyter.widget-view+json": {
       "model_id": "e3b8f19903774abf9c603716fd408a91",
       "version_major": 2,
       "version_minor": 0
      },
      "text/plain": []
     },
     "metadata": {},
     "output_type": "display_data"
    },
    {
     "data": {
      "application/vnd.jupyter.widget-view+json": {
       "model_id": "8a4619663f57413b905906adfe037302",
       "version_major": 2,
       "version_minor": 0
      },
      "text/plain": []
     },
     "metadata": {},
     "output_type": "display_data"
    },
    {
     "data": {
      "application/vnd.jupyter.widget-view+json": {
       "model_id": "a463d5b2e362424c9b3ca0782ec0fc7e",
       "version_major": 2,
       "version_minor": 0
      },
      "text/plain": []
     },
     "metadata": {},
     "output_type": "display_data"
    },
    {
     "data": {
      "application/vnd.jupyter.widget-view+json": {
       "model_id": "23a7fb3eedba4368ae3b80fe345b0580",
       "version_major": 2,
       "version_minor": 0
      },
      "text/plain": []
     },
     "metadata": {},
     "output_type": "display_data"
    },
    {
     "data": {
      "application/vnd.jupyter.widget-view+json": {
       "model_id": "4ab6a57cca694aa2bb82bbf372eb0637",
       "version_major": 2,
       "version_minor": 0
      },
      "text/plain": []
     },
     "metadata": {},
     "output_type": "display_data"
    },
    {
     "data": {
      "application/vnd.jupyter.widget-view+json": {
       "model_id": "302c90a314144424be167962f6dcc88f",
       "version_major": 2,
       "version_minor": 0
      },
      "text/plain": []
     },
     "metadata": {},
     "output_type": "display_data"
    },
    {
     "data": {
      "application/vnd.jupyter.widget-view+json": {
       "model_id": "ce4f722fef2446d699ba7a4436816339",
       "version_major": 2,
       "version_minor": 0
      },
      "text/plain": []
     },
     "metadata": {},
     "output_type": "display_data"
    },
    {
     "data": {
      "application/vnd.jupyter.widget-view+json": {
       "model_id": "93ca3bf2ceb54fcb96736cdc3ad1dc34",
       "version_major": 2,
       "version_minor": 0
      },
      "text/plain": []
     },
     "metadata": {},
     "output_type": "display_data"
    },
    {
     "data": {
      "application/vnd.jupyter.widget-view+json": {
       "model_id": "30fe43bdb86e44899035738710155a9c",
       "version_major": 2,
       "version_minor": 0
      },
      "text/plain": []
     },
     "metadata": {},
     "output_type": "display_data"
    },
    {
     "data": {
      "application/vnd.jupyter.widget-view+json": {
       "model_id": "9098e70d373549a385f2fda3aea65bf8",
       "version_major": 2,
       "version_minor": 0
      },
      "text/plain": []
     },
     "metadata": {},
     "output_type": "display_data"
    },
    {
     "data": {
      "application/vnd.jupyter.widget-view+json": {
       "model_id": "132d67a5f4b448b49c3d25dce9df14b1",
       "version_major": 2,
       "version_minor": 0
      },
      "text/plain": []
     },
     "metadata": {},
     "output_type": "display_data"
    },
    {
     "data": {
      "application/vnd.jupyter.widget-view+json": {
       "model_id": "6ab68bbbdae5407094bc6b620678cef4",
       "version_major": 2,
       "version_minor": 0
      },
      "text/plain": []
     },
     "metadata": {},
     "output_type": "display_data"
    },
    {
     "data": {
      "application/vnd.jupyter.widget-view+json": {
       "model_id": "88d0afa9dfc24b37aa3d5fb9e9783858",
       "version_major": 2,
       "version_minor": 0
      },
      "text/plain": []
     },
     "metadata": {},
     "output_type": "display_data"
    },
    {
     "name": "stdout",
     "output_type": "stream",
     "text": [
      "90\n",
      "\n",
      "100\n",
      "\n",
      "110\n",
      "\n",
      "120\n",
      "\n",
      "130\n",
      "\n",
      "140\n",
      "\n",
      "150\n",
      "160\n",
      "\n",
      "\n",
      "170\n",
      "\n",
      "180\n",
      "\n"
     ]
    }
   ],
   "source": [
    "# Set RDKit logger level to WARNING or ERROR\n",
    "rdBase.LogToPythonStderr()\n",
    "logger = logging.getLogger(\"rdkit\")\n",
    "logger.setLevel(logging.ERROR)  # or logging.WARNING\n",
    "\n",
    "from IPython.display import display, HTML\n",
    "\n",
    "display(HTML(\"\"\"\n",
    "<style>\n",
    ".output_subarea.output_javascript_error {\n",
    "    display: none !important;\n",
    "}\n",
    "</style>\n",
    "\"\"\"))\n",
    "\n",
    "\n",
    "def compute_mm_energies(dihe):\n",
    "    print(f'{dihe}'+\"\\n\")\n",
    "    mm_energies = []\n",
    "    \n",
    "    file_patterns_prmtop = [\n",
    "        'profiles_torsions/optimised_geometries/fragment%s/torsion%s/torsion%s_seed%s_conf%s_dihe_%s*_resp_charges_atomtypes_renamed.mol2.prmtop' % \n",
    "        (fragment, dihedral, dihedral, seed_no, conf, dihe) for conf in conf_numbers\n",
    "    ]\n",
    "    \n",
    "    file_patterns_inpcrd = [\n",
    "        'profiles_torsions/optimised_geometries/fragment%s/torsion%s/torsion%s_seed%s_conf%s_dihe_%s*_resp_charges_atomtypes_renamed.mol2.inpcrd' % \n",
    "        (fragment, dihedral, dihedral, seed_no, conf, dihe) for conf in conf_numbers\n",
    "    ]\n",
    "\n",
    "    file_list_prmtop = []\n",
    "    file_list_inpcrd = []\n",
    "\n",
    "    for pattern_prmtop, pattern_inpcrd in zip(file_patterns_prmtop, file_patterns_inpcrd):\n",
    "        file_list_prmtop.extend(glob.glob(pattern_prmtop))\n",
    "        file_list_inpcrd.extend(glob.glob(pattern_inpcrd))\n",
    "\n",
    "    for fle in file_list_inpcrd:\n",
    "        mol = sr.load(file_list_prmtop[0], fle)\n",
    "        mm_energies.append(mol.energy().value())  # energies in kcal/mol\n",
    "\n",
    "    return mm_energies\n",
    "\n",
    "if __name__ == '__main__':\n",
    "    with Pool(processes=n_cpus):  \n",
    "        energies_per_dihedral = Pool(n_cpus).map(compute_mm_energies, forward)\n"
   ]
  },
  {
   "cell_type": "code",
   "execution_count": 28,
   "metadata": {},
   "outputs": [
    {
     "data": {
      "application/vnd.jupyter.widget-view+json": {
       "model_id": "93b8bcfc35534767818f4ba313a2314d",
       "version_major": 2,
       "version_minor": 0
      },
      "text/plain": []
     },
     "metadata": {},
     "output_type": "display_data"
    }
   ],
   "source": [
    "# optional: load one of the mol2 files from the QM scans to check the torsion potential expression for the torsion under study\n",
    "# or any other torsion (e.g. 2-3-4-5)\n",
    "\n",
    "mol = sr.load(\n",
    "    \"profiles_torsions/optimised_geometries/fragment%s/torsion%s/torsion%s_seed4_conf0_dihe_-90_2_forward_resp_charges_atomtypes_renamed.mol2.prmtop\" % (fragment, dihedral, dihedral),\n",
    "    \"profiles_torsions/optimised_geometries/fragment%s/torsion%s/torsion%s_seed4_conf0_dihe_-90_2_forward_resp_charges_atomtypes_renamed.mol2.inpcrd\" % (fragment, dihedral, dihedral)\n",
    ")"
   ]
  },
  {
   "cell_type": "code",
   "execution_count": 29,
   "metadata": {},
   "outputs": [
    {
     "data": {
      "text/plain": [
       "[0.11 cos(phi) + 0.13 cos(3 phi) + 0.29 cos(2 phi - 3.14159) + 0.53]"
      ]
     },
     "execution_count": 29,
     "metadata": {},
     "output_type": "execute_result"
    }
   ],
   "source": [
    "torsion = mol.dihedrals(f\"atomnum {idx1}\", f\"atomnum {idx2}\", f\"atomnum {idx3}\", f\"atomnum {idx4}\")\n",
    "torsion.potentials()"
   ]
  },
  {
   "cell_type": "code",
   "execution_count": 31,
   "metadata": {},
   "outputs": [
    {
     "data": {
      "text/plain": [
       "[0.155556 cos(3 phi) + 0.155556]"
      ]
     },
     "execution_count": 31,
     "metadata": {},
     "output_type": "execute_result"
    }
   ],
   "source": [
    "torsion = mol.dihedrals(f\"atomnum {2}\", f\"atomnum {3}\", f\"atomnum {4}\", f\"atomnum {5}\")\n",
    "torsion.potentials()"
   ]
  },
  {
   "cell_type": "code",
   "execution_count": 20,
   "metadata": {},
   "outputs": [
    {
     "data": {
      "text/plain": [
       "[[],\n",
       " [2.3999650952615212, 2.382647288554592, 2.357148138461925],\n",
       " [2.981949579970418, 2.8745393732990667, 2.974375296591406],\n",
       " [3.6005551415737003, 3.6524853663909984, 3.6943903532016096],\n",
       " [4.307163803260308, 4.295404584959036, 4.340293336876417],\n",
       " [4.713700497867331, 4.734005270223989, 4.787496637213504],\n",
       " [4.723090675639929, 4.646823257137214, 4.729527540615549],\n",
       " [4.308425081534272, 4.400460147014607, 4.371315629106534],\n",
       " [3.8969607138891003, 3.9220845977521037, 3.8532566713245684],\n",
       " [3.7624072257073906, 3.678761643929971, 3.8051532935974337],\n",
       " [3.854773707852292, 3.813607456223182, 3.7943882979774046],\n",
       " [4.09211775723071, 4.09211775723071, 4.003642432000349, 3.9704122735179483],\n",
       " [4.431398525457884, 4.435417311176213, 4.4054215320695045],\n",
       " [4.831670239210991, 4.9353725178344545, 4.898363746971221],\n",
       " [5.510577326661158, 5.490076089613384, 5.565973022032445],\n",
       " [6.374178681924279, 6.299396619670619, 6.230134278070732],\n",
       " [6.992849437744971, 6.9911146025549495, 7.00489869257974],\n",
       " [3.8969607138891003,\n",
       "  3.9220845977521037,\n",
       "  3.8532566713245684,\n",
       "  7.455488883460837,\n",
       "  7.453855468525484,\n",
       "  7.406219170285251],\n",
       " [7.522679393213089, 7.501012642298848, 7.4298589684307235],\n",
       " [7.023424498910738,\n",
       "  4.648099638883874,\n",
       "  4.673144300167719,\n",
       "  4.686392479578958,\n",
       "  6.963769799654314,\n",
       "  6.995377058374516],\n",
       " [6.143350565853762, 6.0911995294646815, 6.097399512572144],\n",
       " [5.133779000059502, 5.1084917219068995, 5.059655522188767],\n",
       " [4.088840669210796, 4.112052368995443, 4.028564975340085],\n",
       " [3.2600334928889163, 3.3007528572606137, 3.3158676077663642],\n",
       " [2.895300759055344, 2.874316385053424, 2.816871846166898],\n",
       " [2.9841688980405072, 2.8856000147692704, 2.9523924469578233],\n",
       " [3.446257983348471, 3.423564332376597, 3.4153492721715466],\n",
       " [4.061751317185461, 4.094777819018711, 4.0490568555668585],\n",
       " [4.648099638883874, 4.673144300167719, 4.686392479578958],\n",
       " [5.090411320070021, 5.032384188417029, 5.0786438717024485],\n",
       " [5.088447332789375, 5.088799203251854, 5.104981434350522],\n",
       " [4.720006492788431, 4.6303300727083725, 4.740241880504777],\n",
       " [4.035685800102964, 3.9828427915443934, 3.9457742762378496],\n",
       " [3.1956984685764063, 3.192427907367301, 3.176962848396877],\n",
       " [2.516677168744377, 2.469906195422859, 2.4919248523339235],\n",
       " [2.0456588868784547, 2.0930295933574765, 2.0624040114624056],\n",
       " [1.944272798003092, 2.0290600684319577]]"
      ]
     },
     "execution_count": 20,
     "metadata": {},
     "output_type": "execute_result"
    }
   ],
   "source": [
    "energies_per_dihedral"
   ]
  },
  {
   "cell_type": "code",
   "execution_count": 24,
   "metadata": {},
   "outputs": [
    {
     "name": "stderr",
     "output_type": "stream",
     "text": [
      "/home/eva/anaconda3/envs/openbiosim/lib/python3.11/site-packages/numpy/core/fromnumeric.py:3504: RuntimeWarning: Mean of empty slice.\n",
      "  return _methods._mean(a, axis=axis, dtype=dtype,\n",
      "/home/eva/anaconda3/envs/openbiosim/lib/python3.11/site-packages/numpy/core/_methods.py:129: RuntimeWarning: invalid value encountered in scalar divide\n",
      "  ret = ret.dtype.type(ret / rcount)\n"
     ]
    },
    {
     "data": {
      "text/plain": [
       "[nan,\n",
       " 2.3799201740926796,\n",
       " 2.943621416620297,\n",
       " 3.649143620388769,\n",
       " 4.314287241698588,\n",
       " 4.745067468434941,\n",
       " 4.69981382446423,\n",
       " 4.360066952551804,\n",
       " 3.890767327655258,\n",
       " 3.7487740544115984,\n",
       " 3.8209231540176263,\n",
       " 4.03957255499493,\n",
       " 4.4240791229012,\n",
       " 4.888468834672222,\n",
       " 5.522208812768995,\n",
       " 6.30123652655521,\n",
       " 6.996287577626553,\n",
       " 5.664644250872892,\n",
       " 7.48451700131422,\n",
       " 5.8317012959283545,\n",
       " 6.110649869296862,\n",
       " 5.100642081385057,\n",
       " 4.076486004515441,\n",
       " 3.292217985971965,\n",
       " 2.862162996758555,\n",
       " 2.9407204532558673,\n",
       " 3.4283905292988717,\n",
       " 4.068528663923677,\n",
       " 4.669212139543517,\n",
       " 5.067146460063166,\n",
       " 5.094075990130584,\n",
       " 4.6968594820005265,\n",
       " 3.9881009559617353,\n",
       " 3.188363074780195,\n",
       " 2.4928360721670533,\n",
       " 2.0670308305661123,\n",
       " 1.986666433217525]"
      ]
     },
     "execution_count": 24,
     "metadata": {},
     "output_type": "execute_result"
    }
   ],
   "source": [
    "avg_energy_per_dihedral = [] # saving average energy per dihedral for all conformers\n",
    "\n",
    "for i in energies_per_dihedral: \n",
    "    avg_energy_per_dihedral.append(np.mean(i))\n",
    "\n",
    "avg_energy_per_dihedral"
   ]
  },
  {
   "cell_type": "code",
   "execution_count": null,
   "metadata": {},
   "outputs": [
    {
     "data": {
      "text/plain": [
       "36"
      ]
     },
     "execution_count": 25,
     "metadata": {},
     "output_type": "execute_result"
    }
   ],
   "source": [
    "# normalise average energy and check if values for -180 and 180 are missing (usually -180 is always missing)\n",
    "\n",
    "norm_avg_energy_per_dihedral = []\n",
    "\n",
    "if energies_per_dihedral[0] == []:\n",
    "    for enrg in avg_energy_per_dihedral[1:]: \n",
    "        norm_avg_energy_per_dihedral.append(enrg-np.min(avg_energy_per_dihedral[1:]))\n",
    "\n",
    "elif energies_per_dihedral[0] == [] and energies_per_dihedral[-1] == []:\n",
    "    for enrg in avg_energy_per_dihedral[1:-1]: \n",
    "        norm_avg_energy_per_dihedral.append(enrg-np.min(avg_energy_per_dihedral[1:-1]))\n"
   ]
  },
  {
   "cell_type": "code",
   "execution_count": 32,
   "metadata": {},
   "outputs": [],
   "source": [
    "np.save('profiles_torsions/individual_conformer_scans/fragment%s/torsion%s/torsion%s_seed%s_mm.npy' % (fragment, dihedral, dihedral, seed_no), norm_avg_energy_per_dihedral)"
   ]
  },
  {
   "cell_type": "code",
   "execution_count": null,
   "metadata": {},
   "outputs": [
    {
     "name": "stderr",
     "output_type": "stream",
     "text": [
      "/home/eva/anaconda3/envs/openbiosim/lib/python3.11/site-packages/numpy/core/getlimits.py:549: UserWarning: The value of the smallest subnormal for <class 'numpy.float64'> type is zero.\n",
      "  setattr(self, word, getattr(machar, word).flat[0])\n",
      "/home/eva/anaconda3/envs/openbiosim/lib/python3.11/site-packages/numpy/core/getlimits.py:89: UserWarning: The value of the smallest subnormal for <class 'numpy.float64'> type is zero.\n",
      "  return self._float_to_str(self.smallest_subnormal)\n"
     ]
    },
    {
     "data": {
      "image/png": "[encoded data removed]",
      "text/plain": [
       "<Figure size 640x480 with 1 Axes>"
      ]
     },
     "metadata": {},
     "output_type": "display_data"
    }
   ],
   "source": [
    "import matplotlib.pyplot as plt\n",
    "forward = list(range(-170, 181, 10)) # here -180 has been excluded as no MM energy was available, modify according to your data\n",
    "idx = 0\n",
    "for i in norm_avg_energy_per_dihedral:\n",
    "    plt.plot(forward[idx], i, marker='o', linestyle='None', color='blue')\n",
    "    idx += 1\n",
    "\n",
    "plt.xlabel('Torsion / $\\circ$', fontsize=15)\n",
    "plt.ylabel('E$_{MM,total}$ - E$_{MM,torsion}$ / kcal mol$^{-1}$', fontsize=15)\n",
    "\n",
    "plt.xticks(range(-180, 181, 60), fontsize=12) \n",
    "plt.yticks(fontsize=12) \n",
    "\n",
    "plt.xlim(-185, 185)\n",
    "plt.ylim(0.0,4.0)\n",
    "plt.rcParams['figure.dpi'] = 300\n",
    "plt.tight_layout()\n",
    "plt.show()\n"
   ]
  },
  {
   "cell_type": "code",
   "execution_count": null,
   "metadata": {},
   "outputs": [],
   "source": []
  }
 ],
 "metadata": {
  "kernelspec": {
   "display_name": "openbiosim",
   "language": "python",
   "name": "python3"
  },
  "language_info": {
   "codemirror_mode": {
    "name": "ipython",
    "version": 3
   },
   "file_extension": ".py",
   "mimetype": "text/x-python",
   "name": "python",
   "nbconvert_exporter": "python",
   "pygments_lexer": "ipython3",
   "version": "3.11.7"
  }
 },
 "nbformat": 4,
 "nbformat_minor": 2
}
