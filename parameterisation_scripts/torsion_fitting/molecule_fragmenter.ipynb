{
 "cells": [
  {
   "cell_type": "code",
   "execution_count": 1,
   "metadata": {},
   "outputs": [],
   "source": [
    "from openff.toolkit.topology import Molecule\n",
    "from openff.bespokefit.workflows import BespokeWorkflowFactory\n",
    "from openff.fragmenter.fragment import WBOFragmenter\n",
    "from utils import depict_fragment, display_in_grid\n",
    "from rdkit import Chem"
   ]
  },
  {
   "cell_type": "code",
   "execution_count": 2,
   "metadata": {},
   "outputs": [
    {
     "data": {
      "application/vnd.jupyter.widget-view+json": {
       "model_id": "28ea98823dc74cfa842a57265908e554",
       "version_major": 2,
       "version_minor": 0
      },
      "text/plain": []
     },
     "metadata": {},
     "output_type": "display_data"
    },
    {
     "data": {
      "image/svg+xml": [
       "<svg xmlns=\"http://www.w3.org/2000/svg\" xmlns:rdkit=\"http://www.rdkit.org/xml\" xmlns:xlink=\"http://www.w3.org/1999/xlink\" version=\"1.1\" baseProfile=\"full\" xml:space=\"preserve\" width=\"500px\" height=\"300px\" viewBox=\"0 0 500 300\">\n",
       "<!-- END OF HEADER -->\n",
       "<rect style=\"opacity:1.0;fill:#FFFFFF;stroke:none\" width=\"500.0\" height=\"300.0\" x=\"0.0\" y=\"0.0\"> </rect>\n",
       "<path class=\"bond-0 atom-0 atom-1\" d=\"M 142.7,124.7 L 144.0,149.3\" style=\"fill:none;fill-rule:evenodd;stroke:#FF0000;stroke-width:2.0px;stroke-linecap:butt;stroke-linejoin:miter;stroke-opacity:1\"/>\n",
       "<path class=\"bond-0 atom-0 atom-1\" d=\"M 144.0,149.3 L 145.2,173.9\" style=\"fill:none;fill-rule:evenodd;stroke:#000000;stroke-width:2.0px;stroke-linecap:butt;stroke-linejoin:miter;stroke-opacity:1\"/>\n",
       "<path class=\"bond-0 atom-0 atom-1\" d=\"M 133.5,125.2 L 134.7,149.8\" style=\"fill:none;fill-rule:evenodd;stroke:#FF0000;stroke-width:2.0px;stroke-linecap:butt;stroke-linejoin:miter;stroke-opacity:1\"/>\n",
       "<path class=\"bond-0 atom-0 atom-1\" d=\"M 134.7,149.8 L 136.0,174.4\" style=\"fill:none;fill-rule:evenodd;stroke:#000000;stroke-width:2.0px;stroke-linecap:butt;stroke-linejoin:miter;stroke-opacity:1\"/>\n",
       "<path class=\"bond-1 atom-1 atom-2\" d=\"M 140.5,171.5 L 88.7,205.1\" style=\"fill:none;fill-rule:evenodd;stroke:#000000;stroke-width:2.0px;stroke-linecap:butt;stroke-linejoin:miter;stroke-opacity:1\"/>\n",
       "<path class=\"bond-2 atom-1 atom-3\" d=\"M 140.5,171.5 L 162.2,182.6\" style=\"fill:none;fill-rule:evenodd;stroke:#000000;stroke-width:2.0px;stroke-linecap:butt;stroke-linejoin:miter;stroke-opacity:1\"/>\n",
       "<path class=\"bond-2 atom-1 atom-3\" d=\"M 162.2,182.6 L 183.9,193.6\" style=\"fill:none;fill-rule:evenodd;stroke:#0000FF;stroke-width:2.0px;stroke-linecap:butt;stroke-linejoin:miter;stroke-opacity:1\"/>\n",
       "<path class=\"bond-3 atom-3 atom-4\" d=\"M 208.1,191.7 L 227.8,178.5\" style=\"fill:none;fill-rule:evenodd;stroke:#0000FF;stroke-width:2.0px;stroke-linecap:butt;stroke-linejoin:miter;stroke-opacity:1\"/>\n",
       "<path class=\"bond-3 atom-3 atom-4\" d=\"M 227.8,178.5 L 247.5,165.3\" style=\"fill:none;fill-rule:evenodd;stroke:#000000;stroke-width:2.0px;stroke-linecap:butt;stroke-linejoin:miter;stroke-opacity:1\"/>\n",
       "<path class=\"bond-4 atom-4 atom-5\" d=\"M 247.5,165.3 L 308.5,200.1\" style=\"fill:none;fill-rule:evenodd;stroke:#000000;stroke-width:2.0px;stroke-linecap:butt;stroke-linejoin:miter;stroke-opacity:1\"/>\n",
       "<path class=\"bond-5 atom-5 atom-6\" d=\"M 308.5,200.1 L 330.8,188.9\" style=\"fill:none;fill-rule:evenodd;stroke:#000000;stroke-width:2.0px;stroke-linecap:butt;stroke-linejoin:miter;stroke-opacity:1\"/>\n",
       "<path class=\"bond-5 atom-5 atom-6\" d=\"M 330.8,188.9 L 353.1,177.7\" style=\"fill:none;fill-rule:evenodd;stroke:#0000FF;stroke-width:2.0px;stroke-linecap:butt;stroke-linejoin:miter;stroke-opacity:1\"/>\n",
       "<path class=\"bond-6 atom-6 atom-7\" d=\"M 377.3,177.5 L 396.9,187.0\" style=\"fill:none;fill-rule:evenodd;stroke:#0000FF;stroke-width:2.0px;stroke-linecap:butt;stroke-linejoin:miter;stroke-opacity:1\"/>\n",
       "<path class=\"bond-6 atom-6 atom-7\" d=\"M 396.9,187.0 L 416.5,196.4\" style=\"fill:none;fill-rule:evenodd;stroke:#000000;stroke-width:2.0px;stroke-linecap:butt;stroke-linejoin:miter;stroke-opacity:1\"/>\n",
       "<path class=\"bond-7 atom-5 atom-8\" d=\"M 304.0,197.5 L 303.5,222.0\" style=\"fill:none;fill-rule:evenodd;stroke:#000000;stroke-width:2.0px;stroke-linecap:butt;stroke-linejoin:miter;stroke-opacity:1\"/>\n",
       "<path class=\"bond-7 atom-5 atom-8\" d=\"M 303.5,222.0 L 303.0,246.4\" style=\"fill:none;fill-rule:evenodd;stroke:#FF0000;stroke-width:2.0px;stroke-linecap:butt;stroke-linejoin:miter;stroke-opacity:1\"/>\n",
       "<path class=\"bond-7 atom-5 atom-8\" d=\"M 313.2,197.7 L 312.7,222.2\" style=\"fill:none;fill-rule:evenodd;stroke:#000000;stroke-width:2.0px;stroke-linecap:butt;stroke-linejoin:miter;stroke-opacity:1\"/>\n",
       "<path class=\"bond-7 atom-5 atom-8\" d=\"M 312.7,222.2 L 312.2,246.6\" style=\"fill:none;fill-rule:evenodd;stroke:#FF0000;stroke-width:2.0px;stroke-linecap:butt;stroke-linejoin:miter;stroke-opacity:1\"/>\n",
       "<path class=\"bond-8 atom-4 atom-9\" d=\"M 247.5,165.3 L 275.6,99.5\" style=\"fill:none;fill-rule:evenodd;stroke:#000000;stroke-width:2.0px;stroke-linecap:butt;stroke-linejoin:miter;stroke-opacity:1\"/>\n",
       "<path class=\"bond-9 atom-2 atom-10\" d=\"M 88.7,205.1 L 112.8,242.0\" style=\"fill:none;fill-rule:evenodd;stroke:#000000;stroke-width:2.0px;stroke-linecap:butt;stroke-linejoin:miter;stroke-opacity:1\"/>\n",
       "<path class=\"bond-10 atom-2 atom-11\" d=\"M 88.7,205.1 L 68.3,245.4\" style=\"fill:none;fill-rule:evenodd;stroke:#000000;stroke-width:2.0px;stroke-linecap:butt;stroke-linejoin:miter;stroke-opacity:1\"/>\n",
       "<path class=\"bond-11 atom-2 atom-12\" d=\"M 88.7,205.1 L 45.5,183.2\" style=\"fill:none;fill-rule:evenodd;stroke:#000000;stroke-width:2.0px;stroke-linecap:butt;stroke-linejoin:miter;stroke-opacity:1\"/>\n",
       "<path class=\"bond-12 atom-3 atom-13\" d=\"M 196.8,215.1 L 197.7,230.9\" style=\"fill:none;fill-rule:evenodd;stroke:#0000FF;stroke-width:2.0px;stroke-linecap:butt;stroke-linejoin:miter;stroke-opacity:1\"/>\n",
       "<path class=\"bond-12 atom-3 atom-13\" d=\"M 197.7,230.9 L 198.6,246.8\" style=\"fill:none;fill-rule:evenodd;stroke:#000000;stroke-width:2.0px;stroke-linecap:butt;stroke-linejoin:miter;stroke-opacity:1\"/>\n",
       "<path class=\"bond-13 atom-4 atom-14\" d=\"M 245.0,162.9 L 245.6,162.3\" style=\"fill:none;fill-rule:evenodd;stroke:#000000;stroke-width:1.0px;stroke-linecap:butt;stroke-linejoin:miter;stroke-opacity:1\"/>\n",
       "<path class=\"bond-13 atom-4 atom-14\" d=\"M 242.5,160.5 L 243.7,159.4\" style=\"fill:none;fill-rule:evenodd;stroke:#000000;stroke-width:1.0px;stroke-linecap:butt;stroke-linejoin:miter;stroke-opacity:1\"/>\n",
       "<path class=\"bond-13 atom-4 atom-14\" d=\"M 239.9,158.1 L 241.9,156.5\" style=\"fill:none;fill-rule:evenodd;stroke:#000000;stroke-width:1.0px;stroke-linecap:butt;stroke-linejoin:miter;stroke-opacity:1\"/>\n",
       "<path class=\"bond-13 atom-4 atom-14\" d=\"M 237.4,155.7 L 240.0,153.5\" style=\"fill:none;fill-rule:evenodd;stroke:#000000;stroke-width:1.0px;stroke-linecap:butt;stroke-linejoin:miter;stroke-opacity:1\"/>\n",
       "<path class=\"bond-13 atom-4 atom-14\" d=\"M 234.8,153.3 L 238.1,150.6\" style=\"fill:none;fill-rule:evenodd;stroke:#000000;stroke-width:1.0px;stroke-linecap:butt;stroke-linejoin:miter;stroke-opacity:1\"/>\n",
       "<path class=\"bond-13 atom-4 atom-14\" d=\"M 232.3,150.9 L 236.2,147.7\" style=\"fill:none;fill-rule:evenodd;stroke:#000000;stroke-width:1.0px;stroke-linecap:butt;stroke-linejoin:miter;stroke-opacity:1\"/>\n",
       "<path class=\"bond-13 atom-4 atom-14\" d=\"M 229.8,148.5 L 234.3,144.7\" style=\"fill:none;fill-rule:evenodd;stroke:#000000;stroke-width:1.0px;stroke-linecap:butt;stroke-linejoin:miter;stroke-opacity:1\"/>\n",
       "<path class=\"bond-13 atom-4 atom-14\" d=\"M 227.2,146.1 L 232.4,141.8\" style=\"fill:none;fill-rule:evenodd;stroke:#000000;stroke-width:1.0px;stroke-linecap:butt;stroke-linejoin:miter;stroke-opacity:1\"/>\n",
       "<path class=\"bond-13 atom-4 atom-14\" d=\"M 224.7,143.7 L 230.5,138.9\" style=\"fill:none;fill-rule:evenodd;stroke:#000000;stroke-width:1.0px;stroke-linecap:butt;stroke-linejoin:miter;stroke-opacity:1\"/>\n",
       "<path class=\"bond-13 atom-4 atom-14\" d=\"M 222.2,141.3 L 228.6,135.9\" style=\"fill:none;fill-rule:evenodd;stroke:#000000;stroke-width:1.0px;stroke-linecap:butt;stroke-linejoin:miter;stroke-opacity:1\"/>\n",
       "<path class=\"bond-13 atom-4 atom-14\" d=\"M 219.6,138.9 L 226.7,133.0\" style=\"fill:none;fill-rule:evenodd;stroke:#000000;stroke-width:1.0px;stroke-linecap:butt;stroke-linejoin:miter;stroke-opacity:1\"/>\n",
       "<path class=\"bond-14 atom-6 atom-15\" d=\"M 366.0,156.4 L 366.4,148.4\" style=\"fill:none;fill-rule:evenodd;stroke:#0000FF;stroke-width:2.0px;stroke-linecap:butt;stroke-linejoin:miter;stroke-opacity:1\"/>\n",
       "<path class=\"bond-14 atom-6 atom-15\" d=\"M 366.4,148.4 L 366.8,140.5\" style=\"fill:none;fill-rule:evenodd;stroke:#000000;stroke-width:2.0px;stroke-linecap:butt;stroke-linejoin:miter;stroke-opacity:1\"/>\n",
       "<path class=\"bond-15 atom-7 atom-16\" d=\"M 416.5,196.4 L 397.9,235.9\" style=\"fill:none;fill-rule:evenodd;stroke:#000000;stroke-width:2.0px;stroke-linecap:butt;stroke-linejoin:miter;stroke-opacity:1\"/>\n",
       "<path class=\"bond-16 atom-7 atom-17\" d=\"M 416.5,196.4 L 441.2,229.5\" style=\"fill:none;fill-rule:evenodd;stroke:#000000;stroke-width:2.0px;stroke-linecap:butt;stroke-linejoin:miter;stroke-opacity:1\"/>\n",
       "<path class=\"bond-17 atom-7 atom-18\" d=\"M 416.5,196.4 L 454.5,167.4\" style=\"fill:none;fill-rule:evenodd;stroke:#000000;stroke-width:2.0px;stroke-linecap:butt;stroke-linejoin:miter;stroke-opacity:1\"/>\n",
       "<path class=\"bond-18 atom-9 atom-19\" d=\"M 275.6,99.5 L 234.5,75.8\" style=\"fill:none;fill-rule:evenodd;stroke:#000000;stroke-width:2.0px;stroke-linecap:butt;stroke-linejoin:miter;stroke-opacity:1\"/>\n",
       "<path class=\"bond-19 atom-9 atom-20\" d=\"M 275.6,99.5 L 273.0,52.8\" style=\"fill:none;fill-rule:evenodd;stroke:#000000;stroke-width:2.0px;stroke-linecap:butt;stroke-linejoin:miter;stroke-opacity:1\"/>\n",
       "<path class=\"bond-20 atom-9 atom-21\" d=\"M 275.6,99.5 L 317.6,94.1\" style=\"fill:none;fill-rule:evenodd;stroke:#000000;stroke-width:2.0px;stroke-linecap:butt;stroke-linejoin:miter;stroke-opacity:1\"/>\n",
       "<path d=\"M 137.9,173.2 L 140.5,171.5 L 141.6,172.0\" style=\"fill:none;stroke:#000000;stroke-width:2.0px;stroke-linecap:butt;stroke-linejoin:miter;stroke-opacity:1;\"/>\n",
       "<path d=\"M 305.5,198.3 L 308.5,200.1 L 309.6,199.5\" style=\"fill:none;stroke:#000000;stroke-width:2.0px;stroke-linecap:butt;stroke-linejoin:miter;stroke-opacity:1;\"/>\n",
       "<path class=\"atom-0\" d=\"M 125.1 109.2 Q 125.1 102.9, 128.2 99.3 Q 131.4 95.7, 137.2 95.7 Q 143.1 95.7, 146.3 99.3 Q 149.4 102.9, 149.4 109.2 Q 149.4 115.7, 146.2 119.3 Q 143.0 123.0, 137.2 123.0 Q 131.4 123.0, 128.2 119.3 Q 125.1 115.7, 125.1 109.2 M 137.2 120.0 Q 141.3 120.0, 143.5 117.3 Q 145.7 114.5, 145.7 109.2 Q 145.7 104.0, 143.5 101.4 Q 141.3 98.7, 137.2 98.7 Q 133.2 98.7, 131.0 101.4 Q 128.8 104.0, 128.8 109.2 Q 128.8 114.6, 131.0 117.3 Q 133.2 120.0, 137.2 120.0 \" fill=\"#FF0000\"/>\n",
       "<path class=\"atom-3\" d=\"M 190.1 186.5 L 198.8 200.6 Q 199.7 202.0, 201.1 204.5 Q 202.4 207.0, 202.5 207.1 L 202.5 186.5 L 206.0 186.5 L 206.0 213.0 L 202.4 213.0 L 193.1 197.7 Q 192.0 195.9, 190.8 193.8 Q 189.7 191.8, 189.4 191.1 L 189.4 213.0 L 185.9 213.0 L 185.9 186.5 L 190.1 186.5 \" fill=\"#0000FF\"/>\n",
       "<path class=\"atom-6\" d=\"M 359.3 158.4 L 368.0 172.4 Q 368.9 173.8, 370.3 176.3 Q 371.7 178.8, 371.7 179.0 L 371.7 158.4 L 375.2 158.4 L 375.2 184.9 L 371.6 184.9 L 362.3 169.6 Q 361.2 167.8, 360.1 165.7 Q 358.9 163.6, 358.6 163.0 L 358.6 184.9 L 355.1 184.9 L 355.1 158.4 L 359.3 158.4 \" fill=\"#0000FF\"/>\n",
       "<path class=\"atom-8\" d=\"M 295.1 262.0 Q 295.1 255.7, 298.3 252.1 Q 301.4 248.6, 307.3 248.6 Q 313.2 248.6, 316.3 252.1 Q 319.4 255.7, 319.4 262.0 Q 319.4 268.5, 316.3 272.1 Q 313.1 275.8, 307.3 275.8 Q 301.4 275.8, 298.3 272.1 Q 295.1 268.5, 295.1 262.0 M 307.3 272.8 Q 311.3 272.8, 313.5 270.1 Q 315.7 267.4, 315.7 262.0 Q 315.7 256.8, 313.5 254.2 Q 311.3 251.6, 307.3 251.6 Q 303.2 251.6, 301.0 254.2 Q 298.9 256.8, 298.9 262.0 Q 298.9 267.4, 301.0 270.1 Q 303.2 272.8, 307.3 272.8 \" fill=\"#FF0000\"/>\n",
       "<path class=\"atom-10\" d=\"M 112.5 244.0 L 116.1 244.0 L 116.1 255.3 L 129.6 255.3 L 129.6 244.0 L 133.2 244.0 L 133.2 270.5 L 129.6 270.5 L 129.6 258.3 L 116.1 258.3 L 116.1 270.5 L 112.5 270.5 L 112.5 244.0 \" fill=\"#000000\"/>\n",
       "<path class=\"atom-11\" d=\"M 50.2 247.4 L 53.8 247.4 L 53.8 258.7 L 67.4 258.7 L 67.4 247.4 L 71.0 247.4 L 71.0 273.9 L 67.4 273.9 L 67.4 261.7 L 53.8 261.7 L 53.8 273.9 L 50.2 273.9 L 50.2 247.4 \" fill=\"#000000\"/>\n",
       "<path class=\"atom-12\" d=\"M 22.7 163.6 L 26.3 163.6 L 26.3 174.9 L 39.9 174.9 L 39.9 163.6 L 43.5 163.6 L 43.5 190.1 L 39.9 190.1 L 39.9 177.9 L 26.3 177.9 L 26.3 190.1 L 22.7 190.1 L 22.7 163.6 \" fill=\"#000000\"/>\n",
       "<path class=\"atom-13\" d=\"M 189.1 248.8 L 192.7 248.8 L 192.7 260.1 L 206.2 260.1 L 206.2 248.8 L 209.8 248.8 L 209.8 275.3 L 206.2 275.3 L 206.2 263.1 L 192.7 263.1 L 192.7 275.3 L 189.1 275.3 L 189.1 248.8 \" fill=\"#000000\"/>\n",
       "<path class=\"atom-14\" d=\"M 198.4 105.4 L 202.0 105.4 L 202.0 116.6 L 215.6 116.6 L 215.6 105.4 L 219.2 105.4 L 219.2 131.9 L 215.6 131.9 L 215.6 119.6 L 202.0 119.6 L 202.0 131.9 L 198.4 131.9 L 198.4 105.4 \" fill=\"#000000\"/>\n",
       "<path class=\"atom-15\" d=\"M 357.3 112.0 L 360.9 112.0 L 360.9 123.3 L 374.4 123.3 L 374.4 112.0 L 378.0 112.0 L 378.0 138.5 L 374.4 138.5 L 374.4 126.2 L 360.9 126.2 L 360.9 138.5 L 357.3 138.5 L 357.3 112.0 \" fill=\"#000000\"/>\n",
       "<path class=\"atom-16\" d=\"M 380.3 237.9 L 383.9 237.9 L 383.9 249.2 L 397.5 249.2 L 397.5 237.9 L 401.1 237.9 L 401.1 264.4 L 397.5 264.4 L 397.5 252.2 L 383.9 252.2 L 383.9 264.4 L 380.3 264.4 L 380.3 237.9 \" fill=\"#000000\"/>\n",
       "<path class=\"atom-17\" d=\"M 442.3 231.5 L 445.9 231.5 L 445.9 242.8 L 459.4 242.8 L 459.4 231.5 L 463.0 231.5 L 463.0 258.0 L 459.4 258.0 L 459.4 245.8 L 445.9 245.8 L 445.9 258.0 L 442.3 258.0 L 442.3 231.5 \" fill=\"#000000\"/>\n",
       "<path class=\"atom-18\" d=\"M 456.5 144.7 L 460.1 144.7 L 460.1 155.9 L 473.7 155.9 L 473.7 144.7 L 477.3 144.7 L 477.3 171.2 L 473.7 171.2 L 473.7 158.9 L 460.1 158.9 L 460.1 171.2 L 456.5 171.2 L 456.5 144.7 \" fill=\"#000000\"/>\n",
       "<path class=\"atom-19\" d=\"M 211.8 55.5 L 215.4 55.5 L 215.4 66.7 L 228.9 66.7 L 228.9 55.5 L 232.5 55.5 L 232.5 82.0 L 228.9 82.0 L 228.9 69.7 L 215.4 69.7 L 215.4 82.0 L 211.8 82.0 L 211.8 55.5 \" fill=\"#000000\"/>\n",
       "<path class=\"atom-20\" d=\"M 261.8 24.2 L 265.4 24.2 L 265.4 35.5 L 278.9 35.5 L 278.9 24.2 L 282.5 24.2 L 282.5 50.7 L 278.9 50.7 L 278.9 38.5 L 265.4 38.5 L 265.4 50.7 L 261.8 50.7 L 261.8 24.2 \" fill=\"#000000\"/>\n",
       "<path class=\"atom-21\" d=\"M 319.6 79.2 L 323.2 79.2 L 323.2 90.5 L 336.8 90.5 L 336.8 79.2 L 340.4 79.2 L 340.4 105.7 L 336.8 105.7 L 336.8 93.5 L 323.2 93.5 L 323.2 105.7 L 319.6 105.7 L 319.6 79.2 \" fill=\"#000000\"/>\n",
       "</svg>"
      ],
      "text/plain": [
       "<IPython.core.display.SVG object>"
      ]
     },
     "metadata": {},
     "output_type": "display_data"
    }
   ],
   "source": [
    "mol = Molecule.from_smiles(\"O=C(C)N[C@H](C(NC)=O)C\")\n",
    "mol"
   ]
  },
  {
   "cell_type": "code",
   "execution_count": 3,
   "metadata": {},
   "outputs": [
    {
     "data": {
      "image/svg+xml": [
       "<svg xmlns=\"http://www.w3.org/2000/svg\" xmlns:rdkit=\"http://www.rdkit.org/xml\" xmlns:xlink=\"http://www.w3.org/1999/xlink\" version=\"1.1\" baseProfile=\"full\" xml:space=\"preserve\" width=\"800px\" height=\"400px\" viewBox=\"0 0 800 400\">\n",
       "<!-- END OF HEADER -->\n",
       "<rect style=\"opacity:1.0;fill:#FFFFFF;stroke:none\" width=\"800.0\" height=\"400.0\" x=\"0.0\" y=\"0.0\"> </rect>\n",
       "<path class=\"bond-0 atom-0 atom-1\" d=\"M 288.3,174.0 L 289.6,199.5\" style=\"fill:none;fill-rule:evenodd;stroke:#FF0000;stroke-width:2.0px;stroke-linecap:butt;stroke-linejoin:miter;stroke-opacity:1\"/>\n",
       "<path class=\"bond-0 atom-0 atom-1\" d=\"M 289.6,199.5 L 290.9,225.1\" style=\"fill:none;fill-rule:evenodd;stroke:#000000;stroke-width:2.0px;stroke-linecap:butt;stroke-linejoin:miter;stroke-opacity:1\"/>\n",
       "<path class=\"bond-0 atom-0 atom-1\" d=\"M 278.7,174.5 L 280.0,200.0\" style=\"fill:none;fill-rule:evenodd;stroke:#FF0000;stroke-width:2.0px;stroke-linecap:butt;stroke-linejoin:miter;stroke-opacity:1\"/>\n",
       "<path class=\"bond-0 atom-0 atom-1\" d=\"M 280.0,200.0 L 281.4,225.6\" style=\"fill:none;fill-rule:evenodd;stroke:#000000;stroke-width:2.0px;stroke-linecap:butt;stroke-linejoin:miter;stroke-opacity:1\"/>\n",
       "<path class=\"bond-1 atom-1 atom-2\" d=\"M 286.0,222.6 L 232.1,257.6\" style=\"fill:none;fill-rule:evenodd;stroke:#000000;stroke-width:2.0px;stroke-linecap:butt;stroke-linejoin:miter;stroke-opacity:1\"/>\n",
       "<path class=\"bond-2 atom-1 atom-3\" d=\"M 286.0,222.6 L 308.6,234.1\" style=\"fill:none;fill-rule:evenodd;stroke:#000000;stroke-width:2.0px;stroke-linecap:butt;stroke-linejoin:miter;stroke-opacity:1\"/>\n",
       "<path class=\"bond-2 atom-1 atom-3\" d=\"M 308.6,234.1 L 331.2,245.7\" style=\"fill:none;fill-rule:evenodd;stroke:#0000FF;stroke-width:2.0px;stroke-linecap:butt;stroke-linejoin:miter;stroke-opacity:1\"/>\n",
       "<path class=\"bond-3 atom-3 atom-4\" d=\"M 356.3,243.7 L 376.9,229.9\" style=\"fill:none;fill-rule:evenodd;stroke:#0000FF;stroke-width:2.0px;stroke-linecap:butt;stroke-linejoin:miter;stroke-opacity:1\"/>\n",
       "<path class=\"bond-3 atom-3 atom-4\" d=\"M 376.9,229.9 L 397.4,216.1\" style=\"fill:none;fill-rule:evenodd;stroke:#000000;stroke-width:2.0px;stroke-linecap:butt;stroke-linejoin:miter;stroke-opacity:1\"/>\n",
       "<path class=\"bond-4 atom-4 atom-5\" d=\"M 397.4,216.1 L 460.9,252.4\" style=\"fill:none;fill-rule:evenodd;stroke:#000000;stroke-width:2.0px;stroke-linecap:butt;stroke-linejoin:miter;stroke-opacity:1\"/>\n",
       "<path class=\"bond-5 atom-5 atom-6\" d=\"M 460.9,252.4 L 484.1,240.7\" style=\"fill:none;fill-rule:evenodd;stroke:#000000;stroke-width:2.0px;stroke-linecap:butt;stroke-linejoin:miter;stroke-opacity:1\"/>\n",
       "<path class=\"bond-5 atom-5 atom-6\" d=\"M 484.1,240.7 L 507.3,229.1\" style=\"fill:none;fill-rule:evenodd;stroke:#0000FF;stroke-width:2.0px;stroke-linecap:butt;stroke-linejoin:miter;stroke-opacity:1\"/>\n",
       "<path class=\"bond-6 atom-6 atom-7\" d=\"M 532.5,228.9 L 552.9,238.7\" style=\"fill:none;fill-rule:evenodd;stroke:#0000FF;stroke-width:2.0px;stroke-linecap:butt;stroke-linejoin:miter;stroke-opacity:1\"/>\n",
       "<path class=\"bond-6 atom-6 atom-7\" d=\"M 552.9,238.7 L 573.3,248.6\" style=\"fill:none;fill-rule:evenodd;stroke:#000000;stroke-width:2.0px;stroke-linecap:butt;stroke-linejoin:miter;stroke-opacity:1\"/>\n",
       "<path class=\"bond-7 atom-5 atom-8\" d=\"M 456.2,249.7 L 455.7,275.1\" style=\"fill:none;fill-rule:evenodd;stroke:#000000;stroke-width:2.0px;stroke-linecap:butt;stroke-linejoin:miter;stroke-opacity:1\"/>\n",
       "<path class=\"bond-7 atom-5 atom-8\" d=\"M 455.7,275.1 L 455.2,300.6\" style=\"fill:none;fill-rule:evenodd;stroke:#FF0000;stroke-width:2.0px;stroke-linecap:butt;stroke-linejoin:miter;stroke-opacity:1\"/>\n",
       "<path class=\"bond-7 atom-5 atom-8\" d=\"M 465.8,249.9 L 465.3,275.4\" style=\"fill:none;fill-rule:evenodd;stroke:#000000;stroke-width:2.0px;stroke-linecap:butt;stroke-linejoin:miter;stroke-opacity:1\"/>\n",
       "<path class=\"bond-7 atom-5 atom-8\" d=\"M 465.3,275.4 L 464.8,300.8\" style=\"fill:none;fill-rule:evenodd;stroke:#FF0000;stroke-width:2.0px;stroke-linecap:butt;stroke-linejoin:miter;stroke-opacity:1\"/>\n",
       "<path class=\"bond-8 atom-4 atom-9\" d=\"M 397.4,216.1 L 426.7,147.7\" style=\"fill:none;fill-rule:evenodd;stroke:#000000;stroke-width:2.0px;stroke-linecap:butt;stroke-linejoin:miter;stroke-opacity:1\"/>\n",
       "<path class=\"bond-9 atom-2 atom-10\" d=\"M 232.1,257.6 L 257.2,296.0\" style=\"fill:none;fill-rule:evenodd;stroke:#000000;stroke-width:2.0px;stroke-linecap:butt;stroke-linejoin:miter;stroke-opacity:1\"/>\n",
       "<path class=\"bond-10 atom-2 atom-11\" d=\"M 232.1,257.6 L 210.9,299.6\" style=\"fill:none;fill-rule:evenodd;stroke:#000000;stroke-width:2.0px;stroke-linecap:butt;stroke-linejoin:miter;stroke-opacity:1\"/>\n",
       "<path class=\"bond-11 atom-2 atom-12\" d=\"M 232.1,257.6 L 187.1,234.8\" style=\"fill:none;fill-rule:evenodd;stroke:#000000;stroke-width:2.0px;stroke-linecap:butt;stroke-linejoin:miter;stroke-opacity:1\"/>\n",
       "<path class=\"bond-12 atom-3 atom-13\" d=\"M 344.7,268.0 L 345.6,284.5\" style=\"fill:none;fill-rule:evenodd;stroke:#0000FF;stroke-width:2.0px;stroke-linecap:butt;stroke-linejoin:miter;stroke-opacity:1\"/>\n",
       "<path class=\"bond-12 atom-3 atom-13\" d=\"M 345.6,284.5 L 346.5,301.0\" style=\"fill:none;fill-rule:evenodd;stroke:#000000;stroke-width:2.0px;stroke-linecap:butt;stroke-linejoin:miter;stroke-opacity:1\"/>\n",
       "<path class=\"bond-13 atom-4 atom-14\" d=\"M 394.8,213.6 L 395.5,213.1\" style=\"fill:none;fill-rule:evenodd;stroke:#000000;stroke-width:1.0px;stroke-linecap:butt;stroke-linejoin:miter;stroke-opacity:1\"/>\n",
       "<path class=\"bond-13 atom-4 atom-14\" d=\"M 392.1,211.1 L 393.5,210.0\" style=\"fill:none;fill-rule:evenodd;stroke:#000000;stroke-width:1.0px;stroke-linecap:butt;stroke-linejoin:miter;stroke-opacity:1\"/>\n",
       "<path class=\"bond-13 atom-4 atom-14\" d=\"M 389.5,208.7 L 391.5,207.0\" style=\"fill:none;fill-rule:evenodd;stroke:#000000;stroke-width:1.0px;stroke-linecap:butt;stroke-linejoin:miter;stroke-opacity:1\"/>\n",
       "<path class=\"bond-13 atom-4 atom-14\" d=\"M 386.9,206.2 L 389.5,203.9\" style=\"fill:none;fill-rule:evenodd;stroke:#000000;stroke-width:1.0px;stroke-linecap:butt;stroke-linejoin:miter;stroke-opacity:1\"/>\n",
       "<path class=\"bond-13 atom-4 atom-14\" d=\"M 384.2,203.7 L 387.6,200.9\" style=\"fill:none;fill-rule:evenodd;stroke:#000000;stroke-width:1.0px;stroke-linecap:butt;stroke-linejoin:miter;stroke-opacity:1\"/>\n",
       "<path class=\"bond-13 atom-4 atom-14\" d=\"M 381.6,201.2 L 385.6,197.8\" style=\"fill:none;fill-rule:evenodd;stroke:#000000;stroke-width:1.0px;stroke-linecap:butt;stroke-linejoin:miter;stroke-opacity:1\"/>\n",
       "<path class=\"bond-13 atom-4 atom-14\" d=\"M 378.9,198.7 L 383.6,194.8\" style=\"fill:none;fill-rule:evenodd;stroke:#000000;stroke-width:1.0px;stroke-linecap:butt;stroke-linejoin:miter;stroke-opacity:1\"/>\n",
       "<path class=\"bond-13 atom-4 atom-14\" d=\"M 376.3,196.2 L 381.7,191.7\" style=\"fill:none;fill-rule:evenodd;stroke:#000000;stroke-width:1.0px;stroke-linecap:butt;stroke-linejoin:miter;stroke-opacity:1\"/>\n",
       "<path class=\"bond-13 atom-4 atom-14\" d=\"M 373.7,193.7 L 379.7,188.6\" style=\"fill:none;fill-rule:evenodd;stroke:#000000;stroke-width:1.0px;stroke-linecap:butt;stroke-linejoin:miter;stroke-opacity:1\"/>\n",
       "<path class=\"bond-13 atom-4 atom-14\" d=\"M 371.0,191.2 L 377.7,185.6\" style=\"fill:none;fill-rule:evenodd;stroke:#000000;stroke-width:1.0px;stroke-linecap:butt;stroke-linejoin:miter;stroke-opacity:1\"/>\n",
       "<path class=\"bond-13 atom-4 atom-14\" d=\"M 368.4,188.7 L 375.8,182.5\" style=\"fill:none;fill-rule:evenodd;stroke:#000000;stroke-width:1.0px;stroke-linecap:butt;stroke-linejoin:miter;stroke-opacity:1\"/>\n",
       "<path class=\"bond-14 atom-6 atom-15\" d=\"M 520.8,206.9 L 521.2,198.6\" style=\"fill:none;fill-rule:evenodd;stroke:#0000FF;stroke-width:2.0px;stroke-linecap:butt;stroke-linejoin:miter;stroke-opacity:1\"/>\n",
       "<path class=\"bond-14 atom-6 atom-15\" d=\"M 521.2,198.6 L 521.6,190.4\" style=\"fill:none;fill-rule:evenodd;stroke:#000000;stroke-width:2.0px;stroke-linecap:butt;stroke-linejoin:miter;stroke-opacity:1\"/>\n",
       "<path class=\"bond-15 atom-7 atom-16\" d=\"M 573.3,248.6 L 554.0,289.7\" style=\"fill:none;fill-rule:evenodd;stroke:#000000;stroke-width:2.0px;stroke-linecap:butt;stroke-linejoin:miter;stroke-opacity:1\"/>\n",
       "<path class=\"bond-16 atom-7 atom-17\" d=\"M 573.3,248.6 L 599.1,283.0\" style=\"fill:none;fill-rule:evenodd;stroke:#000000;stroke-width:2.0px;stroke-linecap:butt;stroke-linejoin:miter;stroke-opacity:1\"/>\n",
       "<path class=\"bond-17 atom-7 atom-18\" d=\"M 573.3,248.6 L 612.9,218.4\" style=\"fill:none;fill-rule:evenodd;stroke:#000000;stroke-width:2.0px;stroke-linecap:butt;stroke-linejoin:miter;stroke-opacity:1\"/>\n",
       "<path class=\"bond-18 atom-9 atom-19\" d=\"M 426.7,147.7 L 383.9,123.1\" style=\"fill:none;fill-rule:evenodd;stroke:#000000;stroke-width:2.0px;stroke-linecap:butt;stroke-linejoin:miter;stroke-opacity:1\"/>\n",
       "<path class=\"bond-19 atom-9 atom-20\" d=\"M 426.7,147.7 L 424.0,99.0\" style=\"fill:none;fill-rule:evenodd;stroke:#000000;stroke-width:2.0px;stroke-linecap:butt;stroke-linejoin:miter;stroke-opacity:1\"/>\n",
       "<path class=\"bond-20 atom-9 atom-21\" d=\"M 426.7,147.7 L 470.4,142.0\" style=\"fill:none;fill-rule:evenodd;stroke:#000000;stroke-width:2.0px;stroke-linecap:butt;stroke-linejoin:miter;stroke-opacity:1\"/>\n",
       "<path d=\"M 283.3,224.4 L 286.0,222.6 L 287.1,223.2\" style=\"fill:none;stroke:#000000;stroke-width:2.0px;stroke-linecap:butt;stroke-linejoin:miter;stroke-opacity:1;\"/>\n",
       "<path d=\"M 457.8,250.6 L 460.9,252.4 L 462.1,251.8\" style=\"fill:none;stroke:#000000;stroke-width:2.0px;stroke-linecap:butt;stroke-linejoin:miter;stroke-opacity:1;\"/>\n",
       "<path class=\"atom-0\" d=\"M 270.0 157.8 Q 270.0 151.2, 273.2 147.5 Q 276.5 143.8, 282.6 143.8 Q 288.7 143.8, 292.0 147.5 Q 295.3 151.2, 295.3 157.8 Q 295.3 164.5, 292.0 168.3 Q 288.7 172.1, 282.6 172.1 Q 276.6 172.1, 273.2 168.3 Q 270.0 164.5, 270.0 157.8 M 282.6 169.0 Q 286.8 169.0, 289.1 166.2 Q 291.4 163.3, 291.4 157.8 Q 291.4 152.4, 289.1 149.6 Q 286.8 146.9, 282.6 146.9 Q 278.4 146.9, 276.1 149.6 Q 273.9 152.3, 273.9 157.8 Q 273.9 163.4, 276.1 166.2 Q 278.4 169.0, 282.6 169.0 \" fill=\"#FF0000\"/>\n",
       "<path class=\"atom-3\" d=\"M 337.7 238.3 L 346.7 252.9 Q 347.6 254.3, 349.1 256.9 Q 350.5 259.6, 350.6 259.7 L 350.6 238.3 L 354.2 238.3 L 354.2 265.9 L 350.5 265.9 L 340.8 249.9 Q 339.6 248.0, 338.4 245.9 Q 337.2 243.7, 336.9 243.1 L 336.9 265.9 L 333.3 265.9 L 333.3 238.3 L 337.7 238.3 \" fill=\"#0000FF\"/>\n",
       "<path class=\"atom-6\" d=\"M 513.8 209.0 L 522.9 223.6 Q 523.8 225.0, 525.2 227.6 Q 526.6 230.3, 526.7 230.4 L 526.7 209.0 L 530.4 209.0 L 530.4 236.6 L 526.6 236.6 L 516.9 220.6 Q 515.8 218.7, 514.6 216.6 Q 513.4 214.4, 513.0 213.8 L 513.0 236.6 L 509.5 236.6 L 509.5 209.0 L 513.8 209.0 \" fill=\"#0000FF\"/>\n",
       "<path class=\"atom-8\" d=\"M 447.0 316.9 Q 447.0 310.2, 450.2 306.5 Q 453.5 302.8, 459.6 302.8 Q 465.7 302.8, 469.0 306.5 Q 472.3 310.2, 472.3 316.9 Q 472.3 323.6, 469.0 327.4 Q 465.7 331.2, 459.6 331.2 Q 453.6 331.2, 450.2 327.4 Q 447.0 323.6, 447.0 316.9 M 459.6 328.1 Q 463.8 328.1, 466.1 325.2 Q 468.4 322.4, 468.4 316.9 Q 468.4 311.5, 466.1 308.7 Q 463.8 306.0, 459.6 306.0 Q 455.4 306.0, 453.1 308.7 Q 450.9 311.4, 450.9 316.9 Q 450.9 322.4, 453.1 325.2 Q 455.4 328.1, 459.6 328.1 \" fill=\"#FF0000\"/>\n",
       "<path class=\"atom-10\" d=\"M 256.8 298.1 L 260.6 298.1 L 260.6 309.8 L 274.7 309.8 L 274.7 298.1 L 278.4 298.1 L 278.4 325.7 L 274.7 325.7 L 274.7 313.0 L 260.6 313.0 L 260.6 325.7 L 256.8 325.7 L 256.8 298.1 \" fill=\"#000000\"/>\n",
       "<path class=\"atom-11\" d=\"M 192.1 301.7 L 195.8 301.7 L 195.8 313.4 L 209.9 313.4 L 209.9 301.7 L 213.6 301.7 L 213.6 329.3 L 209.9 329.3 L 209.9 316.5 L 195.8 316.5 L 195.8 329.3 L 192.1 329.3 L 192.1 301.7 \" fill=\"#000000\"/>\n",
       "<path class=\"atom-12\" d=\"M 163.4 214.4 L 167.2 214.4 L 167.2 226.1 L 181.3 226.1 L 181.3 214.4 L 185.0 214.4 L 185.0 242.0 L 181.3 242.0 L 181.3 229.2 L 167.2 229.2 L 167.2 242.0 L 163.4 242.0 L 163.4 214.4 \" fill=\"#000000\"/>\n",
       "<path class=\"atom-13\" d=\"M 336.6 303.1 L 340.3 303.1 L 340.3 314.8 L 354.4 314.8 L 354.4 303.1 L 358.2 303.1 L 358.2 330.7 L 354.4 330.7 L 354.4 317.9 L 340.3 317.9 L 340.3 330.7 L 336.6 330.7 L 336.6 303.1 \" fill=\"#000000\"/>\n",
       "<path class=\"atom-14\" d=\"M 346.3 153.8 L 350.1 153.8 L 350.1 165.5 L 364.2 165.5 L 364.2 153.8 L 367.9 153.8 L 367.9 181.4 L 364.2 181.4 L 364.2 168.6 L 350.1 168.6 L 350.1 181.4 L 346.3 181.4 L 346.3 153.8 \" fill=\"#000000\"/>\n",
       "<path class=\"atom-15\" d=\"M 511.7 160.7 L 515.4 160.7 L 515.4 172.4 L 529.5 172.4 L 529.5 160.7 L 533.3 160.7 L 533.3 188.3 L 529.5 188.3 L 529.5 175.5 L 515.4 175.5 L 515.4 188.3 L 511.7 188.3 L 511.7 160.7 \" fill=\"#000000\"/>\n",
       "<path class=\"atom-16\" d=\"M 535.7 291.8 L 539.4 291.8 L 539.4 303.5 L 553.5 303.5 L 553.5 291.8 L 557.3 291.8 L 557.3 319.4 L 553.5 319.4 L 553.5 306.6 L 539.4 306.6 L 539.4 319.4 L 535.7 319.4 L 535.7 291.8 \" fill=\"#000000\"/>\n",
       "<path class=\"atom-17\" d=\"M 600.2 285.1 L 603.9 285.1 L 603.9 296.8 L 618.0 296.8 L 618.0 285.1 L 621.7 285.1 L 621.7 312.7 L 618.0 312.7 L 618.0 299.9 L 603.9 299.9 L 603.9 312.7 L 600.2 312.7 L 600.2 285.1 \" fill=\"#000000\"/>\n",
       "<path class=\"atom-18\" d=\"M 615.0 194.7 L 618.7 194.7 L 618.7 206.4 L 632.8 206.4 L 632.8 194.7 L 636.6 194.7 L 636.6 222.3 L 632.8 222.3 L 632.8 209.5 L 618.7 209.5 L 618.7 222.3 L 615.0 222.3 L 615.0 194.7 \" fill=\"#000000\"/>\n",
       "<path class=\"atom-19\" d=\"M 360.2 101.8 L 363.9 101.8 L 363.9 113.6 L 378.0 113.6 L 378.0 101.8 L 381.8 101.8 L 381.8 129.4 L 378.0 129.4 L 378.0 116.7 L 363.9 116.7 L 363.9 129.4 L 360.2 129.4 L 360.2 101.8 \" fill=\"#000000\"/>\n",
       "<path class=\"atom-20\" d=\"M 412.3 69.3 L 416.0 69.3 L 416.0 81.1 L 430.1 81.1 L 430.1 69.3 L 433.9 69.3 L 433.9 96.9 L 430.1 96.9 L 430.1 84.2 L 416.0 84.2 L 416.0 96.9 L 412.3 96.9 L 412.3 69.3 \" fill=\"#000000\"/>\n",
       "<path class=\"atom-21\" d=\"M 472.5 126.5 L 476.2 126.5 L 476.2 138.3 L 490.3 138.3 L 490.3 126.5 L 494.1 126.5 L 494.1 154.1 L 490.3 154.1 L 490.3 141.4 L 476.2 141.4 L 476.2 154.1 L 472.5 154.1 L 472.5 126.5 \" fill=\"#000000\"/>\n",
       "<path class=\"note\" d=\"M 280.9 132.4 Q 278.4 132.4, 277.1 130.6 Q 275.9 128.7, 275.9 125.3 Q 275.9 122.0, 277.1 120.2 Q 278.4 118.3, 280.9 118.3 Q 283.5 118.3, 284.7 120.2 Q 286.0 122.0, 286.0 125.3 Q 286.0 128.7, 284.7 130.6 Q 283.5 132.4, 280.9 132.4 M 280.9 130.9 Q 282.4 130.9, 283.2 129.5 Q 284.0 128.1, 284.0 125.3 Q 284.0 122.6, 283.2 121.3 Q 282.4 119.9, 280.9 119.9 Q 279.5 119.9, 278.6 121.3 Q 277.8 122.6, 277.8 125.3 Q 277.8 128.1, 278.6 129.5 Q 279.5 130.9, 280.9 130.9 \" fill=\"#000000\"/>\n",
       "<path class=\"note\" d=\"M 268.1 220.6 L 271.2 220.6 L 271.2 210.3 L 267.8 211.4 L 267.4 210.2 L 271.6 208.3 L 273.0 208.5 L 273.0 220.6 L 275.7 220.6 L 275.7 222.2 L 268.1 222.2 L 268.1 220.6 \" fill=\"#000000\"/>\n",
       "<path class=\"note\" d=\"M 259.2 260.1 Q 259.7 258.8, 260.9 258.1 Q 262.1 257.4, 263.8 257.4 Q 265.9 257.4, 267.1 258.5 Q 268.2 259.6, 268.2 261.6 Q 268.2 263.7, 266.7 265.6 Q 265.2 267.5, 262.1 269.7 L 268.5 269.7 L 268.5 271.3 L 259.2 271.3 L 259.2 270.0 Q 261.8 268.2, 263.3 266.8 Q 264.8 265.4, 265.6 264.2 Q 266.3 263.0, 266.3 261.7 Q 266.3 260.4, 265.6 259.7 Q 265.0 258.9, 263.8 258.9 Q 262.7 258.9, 262.0 259.4 Q 261.2 259.8, 260.7 260.8 L 259.2 260.1 \" fill=\"#000000\"/>\n",
       "<path class=\"note\" d=\"M 343.8 219.4 Q 345.2 219.8, 345.8 220.6 Q 346.5 221.5, 346.5 222.9 Q 346.5 224.0, 345.9 224.9 Q 345.3 225.8, 344.2 226.3 Q 343.2 226.8, 341.8 226.8 Q 340.3 226.8, 339.2 226.3 Q 338.1 225.8, 337.2 224.8 L 338.3 223.6 Q 339.2 224.6, 339.9 224.9 Q 340.6 225.3, 341.8 225.3 Q 343.0 225.3, 343.8 224.6 Q 344.5 223.9, 344.5 222.8 Q 344.5 221.4, 343.7 220.8 Q 343.0 220.2, 341.3 220.2 L 340.3 220.2 L 340.3 218.8 L 341.1 218.8 Q 342.6 218.8, 343.4 218.1 Q 344.2 217.4, 344.2 216.2 Q 344.2 215.3, 343.6 214.8 Q 342.9 214.3, 341.8 214.3 Q 340.6 214.3, 339.9 214.7 Q 339.2 215.1, 338.7 216.1 L 337.3 215.4 Q 337.8 214.2, 339.0 213.5 Q 340.2 212.7, 341.8 212.7 Q 343.8 212.7, 345.0 213.6 Q 346.2 214.6, 346.2 216.2 Q 346.2 217.3, 345.6 218.1 Q 345.0 218.9, 343.8 219.4 \" fill=\"#000000\"/>\n",
       "<path class=\"note\" d=\"M 401.7 234.5 L 403.3 234.5 L 403.3 236.1 L 401.7 236.1 L 401.7 239.3 L 399.8 239.3 L 399.8 236.1 L 392.7 236.1 L 392.7 234.9 L 398.7 225.5 L 401.7 225.5 L 401.7 234.5 M 395.0 234.5 L 399.8 234.5 L 399.8 226.7 L 395.0 234.5 \" fill=\"#000000\"/>\n",
       "<path class=\"note\" d=\"M 461.7 234.4 Q 462.9 234.4, 463.9 234.9 Q 464.9 235.4, 465.5 236.4 Q 466.0 237.4, 466.0 238.7 Q 466.0 240.1, 465.3 241.1 Q 464.6 242.1, 463.5 242.7 Q 462.4 243.2, 461.1 243.2 Q 459.8 243.2, 458.7 242.7 Q 457.5 242.3, 456.7 241.4 L 457.9 240.1 Q 458.5 240.8, 459.4 241.2 Q 460.3 241.6, 461.2 241.6 Q 462.4 241.6, 463.2 240.8 Q 464.1 240.1, 464.1 238.7 Q 464.1 237.2, 463.2 236.6 Q 462.4 235.9, 461.0 235.9 Q 459.8 235.9, 458.5 236.4 L 457.4 235.9 L 458.1 229.2 L 465.2 229.2 L 465.0 230.8 L 459.7 230.8 L 459.3 234.9 Q 460.5 234.4, 461.7 234.4 \" fill=\"#000000\"/>\n",
       "<path class=\"note\" d=\"M 520.8 253.6 Q 522.0 253.6, 522.9 254.1 Q 523.9 254.7, 524.4 255.6 Q 524.9 256.6, 524.9 257.8 Q 524.9 259.1, 524.3 260.2 Q 523.7 261.2, 522.7 261.8 Q 521.6 262.4, 520.3 262.4 Q 517.8 262.4, 516.6 260.7 Q 515.4 259.0, 515.4 255.7 Q 515.4 252.1, 516.9 250.2 Q 518.4 248.3, 521.4 248.3 Q 522.2 248.3, 523.0 248.5 Q 523.7 248.7, 524.4 249.1 L 523.6 250.4 Q 522.6 249.8, 521.4 249.8 Q 519.4 249.8, 518.5 251.1 Q 517.5 252.3, 517.3 254.9 Q 518.0 254.3, 518.9 254.0 Q 519.8 253.6, 520.8 253.6 M 520.3 260.8 Q 521.1 260.8, 521.7 260.4 Q 522.3 260.0, 522.6 259.3 Q 523.0 258.6, 523.0 257.8 Q 523.0 256.6, 522.3 255.9 Q 521.6 255.2, 520.4 255.2 Q 519.6 255.2, 518.7 255.5 Q 517.9 255.8, 517.3 256.4 Q 517.4 258.7, 518.1 259.7 Q 518.9 260.8, 520.3 260.8 \" fill=\"#000000\"/>\n",
       "<path class=\"note\" d=\"M 545.4 254.1 L 538.2 254.1 L 538.2 252.5 L 547.3 252.5 L 547.3 253.9 L 541.7 266.3 L 539.9 266.3 L 545.4 254.1 \" fill=\"#000000\"/>\n",
       "<path class=\"note\" d=\"M 461.1 348.9 Q 462.4 349.5, 463.1 350.3 Q 463.8 351.1, 463.8 352.4 Q 463.8 353.6, 463.2 354.5 Q 462.6 355.4, 461.5 355.9 Q 460.5 356.4, 459.1 356.4 Q 456.8 356.4, 455.4 355.4 Q 454.1 354.3, 454.1 352.4 Q 454.1 351.3, 454.7 350.5 Q 455.3 349.6, 456.5 349.0 Q 455.6 348.5, 455.1 347.7 Q 454.6 347.0, 454.6 345.8 Q 454.6 344.2, 455.8 343.2 Q 457.0 342.3, 459.0 342.3 Q 461.0 342.3, 462.2 343.2 Q 463.3 344.2, 463.3 345.8 Q 463.3 346.8, 462.8 347.6 Q 462.2 348.3, 461.1 348.9 M 459.0 343.7 Q 457.8 343.7, 457.2 344.3 Q 456.6 344.8, 456.6 345.8 Q 456.6 346.5, 457.0 347.0 Q 457.4 347.5, 458.0 347.8 Q 458.6 348.0, 459.8 348.4 Q 460.7 347.9, 461.0 347.2 Q 461.4 346.6, 461.4 345.8 Q 461.4 344.8, 460.7 344.3 Q 460.1 343.7, 459.0 343.7 M 459.1 355.0 Q 460.3 355.0, 461.1 354.3 Q 461.9 353.6, 461.9 352.4 Q 461.9 351.7, 461.5 351.2 Q 461.1 350.8, 460.5 350.5 Q 459.9 350.2, 458.8 349.9 L 457.9 349.6 Q 456.9 350.1, 456.5 350.9 Q 456.1 351.5, 456.1 352.4 Q 456.1 353.6, 456.9 354.3 Q 457.7 355.0, 459.1 355.0 \" fill=\"#000000\"/>\n",
       "<path class=\"note\" d=\"M 411.1 145.9 Q 413.6 145.9, 414.8 147.5 Q 416.1 149.2, 416.1 152.5 Q 416.1 156.2, 414.5 158.1 Q 413.0 160.0, 410.1 160.0 Q 409.2 160.0, 408.5 159.8 Q 407.7 159.6, 407.0 159.2 L 407.8 157.9 Q 408.8 158.4, 410.0 158.4 Q 412.0 158.4, 413.0 157.2 Q 414.0 155.9, 414.1 153.3 Q 413.4 154.0, 412.5 154.3 Q 411.6 154.6, 410.7 154.6 Q 409.4 154.6, 408.5 154.1 Q 407.5 153.6, 407.0 152.6 Q 406.5 151.7, 406.5 150.5 Q 406.5 149.1, 407.1 148.1 Q 407.7 147.0, 408.7 146.5 Q 409.8 145.9, 411.1 145.9 M 408.4 150.4 Q 408.4 151.7, 409.1 152.4 Q 409.8 153.1, 411.0 153.1 Q 411.8 153.1, 412.7 152.7 Q 413.5 152.4, 414.1 151.8 Q 414.0 149.5, 413.3 148.5 Q 412.6 147.5, 411.1 147.5 Q 410.4 147.5, 409.7 147.9 Q 409.1 148.2, 408.8 148.9 Q 408.4 149.6, 408.4 150.4 \" fill=\"#000000\"/>\n",
       "<path class=\"note\" d=\"M 276.1 344.5 L 279.1 344.5 L 279.1 334.2 L 275.8 335.2 L 275.4 334.1 L 279.6 332.2 L 281.0 332.4 L 281.0 344.5 L 283.7 344.5 L 283.7 346.0 L 276.1 346.0 L 276.1 344.5 \" fill=\"#000000\"/>\n",
       "<path class=\"note\" d=\"M 290.5 346.2 Q 287.9 346.2, 286.7 344.3 Q 285.4 342.5, 285.4 339.1 Q 285.4 335.8, 286.7 333.9 Q 287.9 332.1, 290.5 332.1 Q 293.0 332.1, 294.3 333.9 Q 295.5 335.8, 295.5 339.1 Q 295.5 342.5, 294.2 344.3 Q 293.0 346.2, 290.5 346.2 M 290.5 344.6 Q 292.0 344.6, 292.8 343.3 Q 293.6 341.8, 293.6 339.1 Q 293.6 336.4, 292.8 335.0 Q 292.0 333.6, 290.5 333.6 Q 289.0 333.6, 288.2 335.0 Q 287.4 336.4, 287.4 339.1 Q 287.4 341.8, 288.2 343.3 Q 289.0 344.6, 290.5 344.6 \" fill=\"#000000\"/>\n",
       "<path class=\"note\" d=\"M 179.8 349.8 L 182.8 349.8 L 182.8 339.5 L 179.5 340.6 L 179.1 339.4 L 183.3 337.5 L 184.7 337.7 L 184.7 349.8 L 187.4 349.8 L 187.4 351.4 L 179.8 351.4 L 179.8 349.8 \" fill=\"#000000\"/>\n",
       "<path class=\"note\" d=\"M 189.8 349.8 L 192.8 349.8 L 192.8 339.5 L 189.5 340.6 L 189.0 339.4 L 193.3 337.5 L 194.6 337.7 L 194.6 349.8 L 197.4 349.8 L 197.4 351.4 L 189.8 351.4 L 189.8 349.8 \" fill=\"#000000\"/>\n",
       "<path class=\"note\" d=\"M 136.4 218.9 L 139.4 218.9 L 139.4 208.6 L 136.1 209.6 L 135.6 208.5 L 139.9 206.6 L 141.2 206.8 L 141.2 218.9 L 143.9 218.9 L 143.9 220.4 L 136.4 220.4 L 136.4 218.9 \" fill=\"#000000\"/>\n",
       "<path class=\"note\" d=\"M 145.7 209.3 Q 146.2 207.9, 147.4 207.2 Q 148.6 206.5, 150.3 206.5 Q 152.4 206.5, 153.5 207.6 Q 154.7 208.7, 154.7 210.8 Q 154.7 212.8, 153.2 214.7 Q 151.7 216.6, 148.6 218.9 L 154.9 218.9 L 154.9 220.4 L 145.6 220.4 L 145.6 219.1 Q 148.2 217.3, 149.7 215.9 Q 151.3 214.6, 152.0 213.3 Q 152.8 212.1, 152.8 210.9 Q 152.8 209.5, 152.1 208.8 Q 151.4 208.0, 150.3 208.0 Q 149.2 208.0, 148.4 208.5 Q 147.7 208.9, 147.2 209.9 L 145.7 209.3 \" fill=\"#000000\"/>\n",
       "<path class=\"note\" d=\"M 340.3 354.7 L 343.3 354.7 L 343.3 344.4 L 340.0 345.4 L 339.5 344.3 L 343.8 342.4 L 345.1 342.6 L 345.1 354.7 L 347.8 354.7 L 347.8 356.3 L 340.3 356.3 L 340.3 354.7 \" fill=\"#000000\"/>\n",
       "<path class=\"note\" d=\"M 356.2 349.0 Q 357.5 349.4, 358.2 350.3 Q 358.8 351.1, 358.8 352.5 Q 358.8 353.7, 358.2 354.6 Q 357.6 355.5, 356.6 356.0 Q 355.5 356.5, 354.1 356.5 Q 352.6 356.5, 351.5 356.0 Q 350.4 355.4, 349.5 354.4 L 350.7 353.3 Q 351.5 354.2, 352.2 354.6 Q 353.0 354.9, 354.1 354.9 Q 355.3 354.9, 356.1 354.2 Q 356.9 353.6, 356.9 352.5 Q 356.9 351.1, 356.1 350.5 Q 355.3 349.8, 353.6 349.8 L 352.6 349.8 L 352.6 348.4 L 353.5 348.4 Q 355.0 348.4, 355.8 347.7 Q 356.6 347.1, 356.6 345.9 Q 356.6 345.0, 355.9 344.4 Q 355.2 343.9, 354.1 343.9 Q 353.0 343.9, 352.2 344.3 Q 351.5 344.7, 351.0 345.7 L 349.7 345.0 Q 350.1 343.9, 351.3 343.1 Q 352.5 342.3, 354.1 342.3 Q 356.1 342.3, 357.3 343.3 Q 358.5 344.2, 358.5 345.9 Q 358.5 347.0, 357.9 347.8 Q 357.3 348.6, 356.2 349.0 \" fill=\"#000000\"/>\n",
       "<path class=\"note\" d=\"M 379.5 167.5 L 382.6 167.5 L 382.6 157.2 L 379.2 158.2 L 378.8 157.1 L 383.0 155.2 L 384.4 155.4 L 384.4 167.5 L 387.1 167.5 L 387.1 169.1 L 379.5 169.1 L 379.5 167.5 \" fill=\"#000000\"/>\n",
       "<path class=\"note\" d=\"M 397.8 164.3 L 399.5 164.3 L 399.5 165.9 L 397.8 165.9 L 397.8 169.1 L 396.0 169.1 L 396.0 165.9 L 388.9 165.9 L 388.9 164.7 L 394.9 155.3 L 397.8 155.3 L 397.8 164.3 M 391.1 164.3 L 396.0 164.3 L 396.0 156.5 L 391.1 164.3 \" fill=\"#000000\"/>\n",
       "<path class=\"note\" d=\"M 515.3 147.4 L 518.3 147.4 L 518.3 137.1 L 514.9 138.1 L 514.5 137.0 L 518.7 135.1 L 520.1 135.3 L 520.1 147.4 L 522.8 147.4 L 522.8 149.0 L 515.3 149.0 L 515.3 147.4 \" fill=\"#000000\"/>\n",
       "<path class=\"note\" d=\"M 529.5 140.4 Q 530.7 140.4, 531.7 140.9 Q 532.7 141.4, 533.3 142.4 Q 533.8 143.3, 533.8 144.6 Q 533.8 146.0, 533.1 147.1 Q 532.5 148.1, 531.3 148.6 Q 530.2 149.1, 528.9 149.1 Q 527.6 149.1, 526.5 148.7 Q 525.3 148.2, 524.5 147.3 L 525.7 146.1 Q 526.3 146.8, 527.2 147.2 Q 528.1 147.6, 529.0 147.6 Q 530.2 147.6, 531.0 146.8 Q 531.9 146.0, 531.9 144.7 Q 531.9 143.2, 531.0 142.5 Q 530.2 141.8, 528.9 141.8 Q 527.6 141.8, 526.3 142.3 L 525.2 141.8 L 525.9 135.2 L 533.0 135.2 L 532.8 136.7 L 527.5 136.7 L 527.1 140.8 Q 528.3 140.4, 529.5 140.4 \" fill=\"#000000\"/>\n",
       "<path class=\"note\" d=\"M 523.6 340.3 L 526.6 340.3 L 526.6 330.0 L 523.3 331.1 L 522.8 329.9 L 527.0 328.0 L 528.4 328.3 L 528.4 340.3 L 531.1 340.3 L 531.1 341.9 L 523.6 341.9 L 523.6 340.3 \" fill=\"#000000\"/>\n",
       "<path class=\"note\" d=\"M 538.2 333.3 Q 539.4 333.3, 540.4 333.8 Q 541.3 334.3, 541.9 335.3 Q 542.4 336.2, 542.4 337.5 Q 542.4 338.8, 541.8 339.8 Q 541.2 340.9, 540.2 341.5 Q 539.1 342.1, 537.8 342.1 Q 535.3 342.1, 534.1 340.4 Q 532.8 338.7, 532.8 335.4 Q 532.8 331.7, 534.4 329.9 Q 535.9 327.9, 538.8 327.9 Q 539.7 327.9, 540.4 328.1 Q 541.2 328.3, 541.9 328.7 L 541.1 330.1 Q 540.1 329.5, 538.9 329.5 Q 536.9 329.5, 535.9 330.8 Q 534.9 332.0, 534.8 334.6 Q 535.5 334.0, 536.4 333.6 Q 537.3 333.3, 538.2 333.3 M 537.8 340.5 Q 538.5 340.5, 539.1 340.1 Q 539.8 339.7, 540.1 339.0 Q 540.5 338.3, 540.5 337.5 Q 540.5 336.2, 539.8 335.5 Q 539.1 334.8, 537.9 334.8 Q 537.0 334.8, 536.2 335.2 Q 535.4 335.5, 534.8 336.1 Q 534.9 338.4, 535.6 339.4 Q 536.3 340.5, 537.8 340.5 \" fill=\"#000000\"/>\n",
       "<path class=\"note\" d=\"M 621.6 330.2 L 624.6 330.2 L 624.6 319.9 L 621.3 321.0 L 620.8 319.8 L 625.0 317.9 L 626.4 318.2 L 626.4 330.2 L 629.1 330.2 L 629.1 331.8 L 621.6 331.8 L 621.6 330.2 \" fill=\"#000000\"/>\n",
       "<path class=\"note\" d=\"M 638.1 319.6 L 630.8 319.6 L 630.8 318.0 L 640.0 318.0 L 640.0 319.4 L 634.4 331.8 L 632.5 331.8 L 638.1 319.6 \" fill=\"#000000\"/>\n",
       "<path class=\"note\" d=\"M 648.9 209.7 L 651.9 209.7 L 651.9 199.4 L 648.5 200.4 L 648.1 199.3 L 652.3 197.4 L 653.7 197.6 L 653.7 209.7 L 656.4 209.7 L 656.4 211.3 L 648.9 211.3 L 648.9 209.7 \" fill=\"#000000\"/>\n",
       "<path class=\"note\" d=\"M 665.2 204.0 Q 666.4 204.5, 667.2 205.3 Q 667.9 206.1, 667.9 207.5 Q 667.9 208.7, 667.3 209.6 Q 666.7 210.5, 665.6 211.0 Q 664.5 211.5, 663.1 211.5 Q 660.8 211.5, 659.5 210.4 Q 658.1 209.3, 658.1 207.5 Q 658.1 206.4, 658.7 205.5 Q 659.3 204.7, 660.5 204.0 Q 659.6 203.5, 659.1 202.8 Q 658.6 202.0, 658.6 200.8 Q 658.6 199.2, 659.8 198.3 Q 661.0 197.3, 663.0 197.3 Q 665.0 197.3, 666.2 198.3 Q 667.4 199.2, 667.4 200.8 Q 667.4 201.9, 666.8 202.6 Q 666.3 203.4, 665.2 204.0 M 663.0 198.8 Q 661.9 198.8, 661.2 199.3 Q 660.6 199.9, 660.6 200.8 Q 660.6 201.6, 661.0 202.0 Q 661.4 202.5, 662.0 202.8 Q 662.7 203.1, 663.9 203.5 Q 664.7 202.9, 665.0 202.3 Q 665.4 201.6, 665.4 200.8 Q 665.4 199.9, 664.8 199.3 Q 664.2 198.8, 663.0 198.8 M 663.1 210.0 Q 664.4 210.0, 665.1 209.3 Q 665.9 208.6, 665.9 207.5 Q 665.9 206.7, 665.5 206.3 Q 665.1 205.8, 664.5 205.5 Q 663.9 205.2, 662.8 204.9 L 661.9 204.6 Q 660.9 205.2, 660.5 205.9 Q 660.1 206.6, 660.1 207.5 Q 660.1 208.6, 660.9 209.3 Q 661.7 210.0, 663.1 210.0 \" fill=\"#000000\"/>\n",
       "<path class=\"note\" d=\"M 333.8 104.8 L 336.8 104.8 L 336.8 94.5 L 333.5 95.6 L 333.1 94.4 L 337.3 92.5 L 338.7 92.8 L 338.7 104.8 L 341.4 104.8 L 341.4 106.4 L 333.8 106.4 L 333.8 104.8 \" fill=\"#000000\"/>\n",
       "<path class=\"note\" d=\"M 347.7 92.4 Q 350.2 92.4, 351.4 94.1 Q 352.7 95.8, 352.7 99.1 Q 352.7 102.7, 351.1 104.7 Q 349.6 106.5, 346.7 106.5 Q 345.8 106.5, 345.1 106.3 Q 344.3 106.2, 343.6 105.7 L 344.4 104.4 Q 345.4 105.0, 346.6 105.0 Q 348.6 105.0, 349.6 103.7 Q 350.6 102.5, 350.7 99.9 Q 350.0 100.5, 349.1 100.9 Q 348.2 101.2, 347.3 101.2 Q 346.1 101.2, 345.1 100.7 Q 344.1 100.2, 343.6 99.2 Q 343.1 98.2, 343.1 97.0 Q 343.1 95.7, 343.7 94.7 Q 344.3 93.6, 345.3 93.0 Q 346.4 92.4, 347.7 92.4 M 345.0 97.0 Q 345.0 98.2, 345.7 98.9 Q 346.4 99.6, 347.6 99.6 Q 348.5 99.6, 349.3 99.3 Q 350.1 99.0, 350.7 98.4 Q 350.6 96.1, 349.9 95.1 Q 349.2 94.0, 347.7 94.0 Q 347.0 94.0, 346.3 94.4 Q 345.7 94.8, 345.4 95.5 Q 345.0 96.2, 345.0 97.0 \" fill=\"#000000\"/>\n",
       "<path class=\"note\" d=\"M 410.5 46.5 Q 411.1 45.2, 412.3 44.5 Q 413.5 43.7, 415.1 43.7 Q 417.2 43.7, 418.4 44.9 Q 419.6 46.0, 419.6 48.0 Q 419.6 50.0, 418.0 51.9 Q 416.5 53.9, 413.4 56.1 L 419.8 56.1 L 419.8 57.7 L 410.5 57.7 L 410.5 56.4 Q 413.1 54.5, 414.6 53.2 Q 416.1 51.8, 416.9 50.6 Q 417.6 49.4, 417.6 48.1 Q 417.6 46.8, 417.0 46.0 Q 416.3 45.3, 415.1 45.3 Q 414.0 45.3, 413.3 45.7 Q 412.6 46.2, 412.0 47.2 L 410.5 46.5 \" fill=\"#000000\"/>\n",
       "<path class=\"note\" d=\"M 427.0 57.8 Q 424.4 57.8, 423.2 56.0 Q 421.9 54.1, 421.9 50.8 Q 421.9 47.4, 423.2 45.6 Q 424.4 43.7, 427.0 43.7 Q 429.5 43.7, 430.8 45.6 Q 432.0 47.4, 432.0 50.8 Q 432.0 54.1, 430.8 56.0 Q 429.5 57.8, 427.0 57.8 M 427.0 56.3 Q 428.5 56.3, 429.3 54.9 Q 430.1 53.5, 430.1 50.8 Q 430.1 48.1, 429.3 46.7 Q 428.5 45.3, 427.0 45.3 Q 425.5 45.3, 424.7 46.7 Q 423.9 48.1, 423.9 50.8 Q 423.9 53.5, 424.7 54.9 Q 425.5 56.3, 427.0 56.3 \" fill=\"#000000\"/>\n",
       "<path class=\"note\" d=\"M 477.7 168.3 Q 478.2 167.0, 479.4 166.3 Q 480.6 165.6, 482.3 165.6 Q 484.4 165.6, 485.5 166.7 Q 486.7 167.8, 486.7 169.8 Q 486.7 171.9, 485.2 173.8 Q 483.7 175.7, 480.6 177.9 L 486.9 177.9 L 486.9 179.5 L 477.6 179.5 L 477.6 178.2 Q 480.2 176.4, 481.7 175.0 Q 483.3 173.6, 484.0 172.4 Q 484.7 171.2, 484.7 169.9 Q 484.7 168.6, 484.1 167.9 Q 483.4 167.1, 482.3 167.1 Q 481.2 167.1, 480.4 167.6 Q 479.7 168.0, 479.2 169.0 L 477.7 168.3 \" fill=\"#000000\"/>\n",
       "<path class=\"note\" d=\"M 489.7 177.9 L 492.8 177.9 L 492.8 167.6 L 489.4 168.7 L 489.0 167.5 L 493.2 165.6 L 494.6 165.9 L 494.6 177.9 L 497.3 177.9 L 497.3 179.5 L 489.7 179.5 L 489.7 177.9 \" fill=\"#000000\"/>\n",
       "</svg>"
      ],
      "text/plain": [
       "<IPython.core.display.SVG object>"
      ]
     },
     "execution_count": 3,
     "metadata": {},
     "output_type": "execute_result"
    }
   ],
   "source": [
    "from utils_toolkit import draw_molecule\n",
    "\n",
    "draw_molecule(mol, atom_notes={i: str(i) for i in range(mol.n_atoms)}, explicit_hydrogens=True, image_width=800, image_height=400)"
   ]
  },
  {
   "cell_type": "code",
   "execution_count": 4,
   "metadata": {},
   "outputs": [],
   "source": [
    "factory = BespokeWorkflowFactory()\n",
    "factory.target_torsion_smirks = ['[*]~[*:1]~[*:2]~[*]'] # all torsions?"
   ]
  },
  {
   "cell_type": "code",
   "execution_count": 5,
   "metadata": {},
   "outputs": [
    {
     "data": {
      "text/plain": [
       "'[*]~[*:1]~[*:2]~[*]'"
      ]
     },
     "execution_count": 5,
     "metadata": {},
     "output_type": "execute_result"
    }
   ],
   "source": [
    "torsion_smirks = factory.target_torsion_smirks[0]\n",
    "torsion_smirks"
   ]
  },
  {
   "cell_type": "code",
   "execution_count": 6,
   "metadata": {},
   "outputs": [
    {
     "data": {
      "text/plain": [
       "FragmentationResult(parent_smiles='[O:1]=[C:3]([N:6]([C@:10]([C:4](=[O:2])[N:5]([C:8]([H:16])([H:17])[H:18])[H:11])([C:9]([H:19])([H:20])[H:21])[H:22])[H:12])[C:7]([H:13])([H:14])[H:15]', fragments=[Fragment(smiles='[O:1]=[C:3]([N:6]([C@:10]([C:4](=[O:2])[N:5]([C:8]([H:16])([H:17])[H:18])[H:11])([C:9]([H:19])([H:20])[H:21])[H:22])[H:12])[C:7]([H:13])([H:14])[H:15]', bond_indices=(4, 5)), Fragment(smiles='[O:1]=[C:3]([N:6]([C@:10]([C:4](=[O:2])[N:5]([C:8]([H:16])([H:17])[H:18])[H:11])([C:9]([H:19])([H:20])[H:21])[H:22])[H:12])[C:7]([H:13])([H:14])[H:15]', bond_indices=(9, 10)), Fragment(smiles='[H][C:10]([H])([N:6]([C:3](=[O:1])[C:7]([H:13])([H:14])[H:15])[H:12])[H:22]', bond_indices=(3, 7)), Fragment(smiles='[O:1]=[C:3]([N:6]([C@:10]([C:4](=[O:2])[N:5]([C:8]([H:16])([H:17])[H:18])[H:11])([C:9]([H:19])([H:20])[H:21])[H:22])[H:12])[C:7]([H:13])([H:14])[H:15]', bond_indices=(4, 10)), Fragment(smiles='[O:1]=[C:3]([N:6]([C@:10]([C:4](=[O:2])[N:5]([C:8]([H:16])([H:17])[H:18])[H:11])([C:9]([H:19])([H:20])[H:21])[H:22])[H:12])[C:7]([H:13])([H:14])[H:15]', bond_indices=(6, 10)), Fragment(smiles='[O:1]=[C:3]([N:6]([C@:10]([C:4](=[O:2])[N:5]([C:8]([H:16])([H:17])[H:18])[H:11])([C:9]([H:19])([H:20])[H:21])[H:22])[H:12])[C:7]([H:13])([H:14])[H:15]', bond_indices=(3, 6)), Fragment(smiles='[H][C:10]([H])([C:4](=[O:2])[N:5]([C:8]([H:16])([H:17])[H:18])[H:11])[H:22]', bond_indices=(5, 8))], provenance={'creator': 'openff.fragmenter', 'version': '0.2.0', 'options': {'functional_groups': {'hydrazine': '[NX3:1][NX3:2]', 'hydrazone': '[NX3:1][NX2:2]', 'nitric_oxide': '[N:1]-[O:2]', 'amide': '[#7:1][#6:2](=[#8:3])', 'amide_n': '[#7:1][#6:2](-[O-:3])', 'amide_2': '[NX3:1][CX3:2](=[OX1:3])[NX3:4]', 'aldehyde': '[CX3H1:1](=[O:2])[#6:3]', 'sulfoxide_1': '[#16X3:1]=[OX1:2]', 'sulfoxide_2': '[#16X3+:1][OX1-:2]', 'sulfonyl': '[#16X4:1](=[OX1:2])=[OX1:3]', 'sulfinic_acid': '[#16X3:1](=[OX1:2])[OX2H,OX1H0-:3]', 'sulfinamide': '[#16X4:1](=[OX1:2])(=[OX1:3])([NX3R0:4])', 'sulfonic_acid': '[#16X4:1](=[OX1:2])(=[OX1:3])[OX2H,OX1H0-:4]', 'phosphine_oxide': '[PX4:1](=[OX1:2])([#6:3])([#6:4])([#6:5])', 'phosphonate': '[P:1](=[OX1:2])([OX2H,OX1-:3])([OX2H,OX1-:4])', 'phosphate': '[PX4:1](=[OX1:2])([#8:3])([#8:4])([#8:5])', 'carboxylic_acid': '[CX3:1](=[O:2])[OX1H0-,OX2H1:3]', 'nitro_1': '[NX3+:1](=[O:2])[O-:3]', 'nitro_2': '[NX3:1](=[O:2])=[O:3]', 'ester': '[CX3:1](=[O:2])[OX2H0:3]', 'tri_halide': '[#6:1]([F,Cl,I,Br:2])([F,Cl,I,Br:3])([F,Cl,I,Br:4])'}, 'scheme': 'WBO', 'wbo_options': {'method': 'am1-wiberg-elf10', 'max_conformers': 800, 'rms_threshold': 1.0}, 'threshold': 0.03, 'heuristic': 'path_length', 'keep_non_rotor_ring_substituents': False, 'target_bond_smarts': ['[*]~[*:1]~[*:2]~[*]']}, 'toolkits': [('RDKitToolkitWrapper', '2022.09.1'), ('AmberToolsToolkitWrapper', '20.0'), ('BuiltInToolkitWrapper', None)]})"
      ]
     },
     "execution_count": 6,
     "metadata": {},
     "output_type": "execute_result"
    }
   ],
   "source": [
    "fragmenter = WBOFragmenter()\n",
    "fragmentations = fragmenter.fragment(mol, target_bond_smarts=[torsion_smirks])\n",
    "fragmentations"
   ]
  },
  {
   "cell_type": "code",
   "execution_count": 7,
   "metadata": {},
   "outputs": [
    {
     "data": {
      "application/vnd.jupyter.widget-view+json": {
       "model_id": "deb0648600ea4b88a590da12832f7295",
       "version_major": 2,
       "version_minor": 0
      },
      "text/plain": [
       "GridBox(children=(Output(), Output(), Output(), Output(), Output(), Output(), Output()), layout=Layout(grid_te…"
      ]
     },
     "metadata": {},
     "output_type": "display_data"
    }
   ],
   "source": [
    "fragment_diagrams = [depict_fragment(fragmentations.parent_molecule, fragment) for fragment in fragmentations.fragments]\n",
    "display_in_grid(fragment_diagrams) # some fragments might be repeated"
   ]
  },
  {
   "cell_type": "code",
   "execution_count": 8,
   "metadata": {},
   "outputs": [
    {
     "data": {
      "application/vnd.jupyter.widget-view+json": {
       "model_id": "fdb75b7788a64aefb6d097f6c453c210",
       "version_major": 2,
       "version_minor": 0
      },
      "text/plain": [
       "GridBox(children=(Output(), Output(), Output(), Output(), Output(), Output(), Output()), layout=Layout(grid_te…"
      ]
     },
     "metadata": {},
     "output_type": "display_data"
    }
   ],
   "source": [
    "fragment_diagrams_all = []\n",
    "\n",
    "size = 500\n",
    "\n",
    "for fragment in fragmentations.fragments:\n",
    "    fragment_diagrams_all.append(\n",
    "        depict_fragment(\n",
    "            fragmentations.parent_molecule, \n",
    "            fragment,\n",
    "            width=size,\n",
    "            height=size//2,\n",
    "        )\n",
    "    )\n",
    "\n",
    "display_in_grid(fragment_diagrams_all, width=size) "
   ]
  },
  {
   "cell_type": "markdown",
   "metadata": {},
   "source": [
    "Identifying distinct fragments"
   ]
  },
  {
   "cell_type": "code",
   "execution_count": 9,
   "metadata": {},
   "outputs": [],
   "source": [
    "smiles_list = []\n",
    "\n",
    "for i in fragmentations.fragments:\n",
    "    smiles_list.append(i.smiles)"
   ]
  },
  {
   "cell_type": "code",
   "execution_count": null,
   "metadata": {},
   "outputs": [],
   "source": [
    "smiles_list_no_numbers = []\n",
    "\n",
    "for smls in smiles_list:\n",
    "    # removing numbers from smiles\n",
    "    m = Chem.MolFromSmiles(smls)\n",
    "    for atom in m.GetAtoms():\n",
    "        atom.SetAtomMapNum(0)\n",
    "    new_smls = Chem.MolToSmiles(m)\n",
    "    smiles_list_no_numbers.append(new_smls)"
   ]
  },
  {
   "cell_type": "code",
   "execution_count": null,
   "metadata": {},
   "outputs": [
    {
     "data": {
      "text/plain": [
       "['CNC(=O)[C@H](C)NC(C)=O', 'CNC(C)=O']"
      ]
     },
     "execution_count": 12,
     "metadata": {},
     "output_type": "execute_result"
    }
   ],
   "source": [
    "unique_fragments = []\n",
    "\n",
    "for smile in smiles_list_no_numbers:\n",
    "    if smile in unique_fragments:\n",
    "        pass\n",
    "    else:\n",
    "        unique_fragments.append(smile)\n",
    "        \n",
    "unique_fragments"
   ]
  },
  {
   "cell_type": "code",
   "execution_count": null,
   "metadata": {},
   "outputs": [],
   "source": []
  }
 ],
 "metadata": {
  "kernelspec": {
   "display_name": "bespokefit-env",
   "language": "python",
   "name": "python3"
  },
  "language_info": {
   "codemirror_mode": {
    "name": "ipython",
    "version": 3
   },
   "file_extension": ".py",
   "mimetype": "text/x-python",
   "name": "python",
   "nbconvert_exporter": "python",
   "pygments_lexer": "ipython3",
   "version": "3.9.18"
  }
 },
 "nbformat": 4,
 "nbformat_minor": 2
}
