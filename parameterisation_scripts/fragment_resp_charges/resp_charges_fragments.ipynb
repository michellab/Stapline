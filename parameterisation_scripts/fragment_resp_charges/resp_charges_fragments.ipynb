{
 "cells": [
  {
   "cell_type": "code",
   "execution_count": null,
   "metadata": {},
   "outputs": [],
   "source": [
    "import psi4\n",
    "import psiresp\n",
    "from rdkit import Chem\n",
    "from rdkit.Chem import AllChem\n",
    "import pandas as pd\n",
    "import os"
   ]
  },
  {
   "cell_type": "code",
   "execution_count": null,
   "metadata": {},
   "outputs": [],
   "source": [
    "smiles_string = 'CNC([C@@H](NC(C)=O)CSCc1ccccc1)=O'"
   ]
  },
  {
   "cell_type": "code",
   "execution_count": null,
   "metadata": {},
   "outputs": [],
   "source": [
    "mol = Chem.MolFromSmiles(smiles_string)\n",
    "mol = Chem.AddHs(mol)\n",
    "mol"
   ]
  },
  {
   "cell_type": "code",
   "execution_count": null,
   "metadata": {},
   "outputs": [],
   "source": [
    "for i, atom in enumerate(mol.GetAtoms()):\n",
    "    atom.SetProp(\"molAtomMapNumber\", str(atom.GetIdx()))\n",
    "\n",
    "mol"
   ]
  },
  {
   "cell_type": "code",
   "execution_count": null,
   "metadata": {},
   "outputs": [],
   "source": [
    "n_confs = 50\n",
    "\n",
    "confs = AllChem.EmbedMultipleConfs(mol, numConfs=n_confs, randomSeed=-1)\n",
    "AllChem.AlignMolConformers(mol)\n",
    "AllChem.MMFFOptimizeMoleculeConfs(mol, maxIters=1000)"
   ]
  },
  {
   "cell_type": "code",
   "execution_count": null,
   "metadata": {},
   "outputs": [],
   "source": [
    "psirespmol = psiresp.Molecule.from_rdkit(mol)\n",
    "psirespmol"
   ]
  },
  {
   "cell_type": "code",
   "execution_count": null,
   "metadata": {},
   "outputs": [],
   "source": [
    "psirespmol.optimize_geometry=True\n",
    "\n",
    "constraints = psiresp.ChargeConstraintOptions(symmetric_atoms_are_equivalent=True)"
   ]
  },
  {
   "cell_type": "code",
   "execution_count": null,
   "metadata": {},
   "outputs": [],
   "source": [
    "geometry_options = psiresp.QMGeometryOptimizationOptions(method=\"hf\", basis=\"6-31g*\")\n",
    "\n",
    "esp_options = psiresp.QMEnergyOptions(method=\"hf\", basis=\"6-31g*\")"
   ]
  },
  {
   "cell_type": "code",
   "execution_count": null,
   "metadata": {},
   "outputs": [],
   "source": [
    "job_resp = psiresp.Job(molecules=[psirespmol],\n",
    "            charge_constraints=constraints,\n",
    "            qm_optimization_options=geometry_options,\n",
    "            qm_esp_options=esp_options,\n",
    "            working_directory=\"resp_charges_generation\")"
   ]
  },
  {
   "cell_type": "code",
   "execution_count": null,
   "metadata": {},
   "outputs": [],
   "source": [
    "job_resp.generate_conformers()\n",
    "job_resp.generate_orientations()\n",
    "try:\n",
    "    job_resp.run(update_molecules=True)\n",
    "except:\n",
    "    pass"
   ]
  },
  {
   "cell_type": "code",
   "execution_count": null,
   "metadata": {},
   "outputs": [],
   "source": [
    "os.chdir(\"resp_charges_generation/optimization/\")\n",
    "os.system(\"bash run_optimization.sh\")\n",
    "os.chdir(\"../../\")\n",
    "try:\n",
    "    job_resp.run()\n",
    "except:\n",
    "    pass"
   ]
  },
  {
   "cell_type": "code",
   "execution_count": null,
   "metadata": {},
   "outputs": [],
   "source": [
    "os.chdir(\"resp_charges_generation/single_point/\")\n",
    "os.system(\"bash run_single_point.sh\")\n",
    "os.chdir(\"../../\")\n",
    "try:\n",
    "    job_resp.run()\n",
    "except:\n",
    "    pass"
   ]
  },
  {
   "cell_type": "code",
   "execution_count": null,
   "metadata": {},
   "outputs": [],
   "source": [
    "molecule = job_resp.molecules[0]\n",
    "molecule.charges"
   ]
  },
  {
   "cell_type": "code",
   "execution_count": null,
   "metadata": {},
   "outputs": [],
   "source": [
    "charges_dataframe = pd.DataFrame(molecule.charges)\n",
    "charges_dataframe.to_csv('fragment_resp_charges.csv')"
   ]
  }
 ],
 "metadata": {
  "kernelspec": {
   "display_name": "qm_resp_3.8",
   "language": "python",
   "name": "python3"
  },
  "language_info": {
   "codemirror_mode": {
    "name": "ipython",
    "version": 3
   },
   "file_extension": ".py",
   "mimetype": "text/x-python",
   "name": "python",
   "nbconvert_exporter": "python",
   "pygments_lexer": "ipython3",
   "version": "3.8.17"
  }
 },
 "nbformat": 4,
 "nbformat_minor": 2
}
